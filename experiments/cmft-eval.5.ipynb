{
 "cells": [
  {
   "cell_type": "code",
   "execution_count": 1,
   "metadata": {},
   "outputs": [
    {
     "name": "stdout",
     "output_type": "stream",
     "text": [
      "mkdir: cannot create directory ‘.data’: File exists\n",
      "mkdir: cannot create directory ‘.data/cmft-eval.ipynb’: File exists\n"
     ]
    }
   ],
   "source": [
    "# ! rm -rf .data/cmft-eval.ipynb\n",
    "! mkdir .data\n",
    "! mkdir .data/cmft-eval.ipynb\n",
    "\n",
    "import utulek\n",
    "import openai\n",
    "import dotenv\n",
    "import os\n",
    "import json\n",
    "import random\n",
    "import csv\n",
    "import re\n",
    "import dill\n",
    "import asyncio\n",
    "from tqdm.auto import tqdm\n",
    "\n",
    "dotenv.load_dotenv(dotenv.find_dotenv(usecwd=True), override=True)\n",
    "oai_client_anp = openai.AsyncOpenAI(api_key=os.environ.get(\"OAI_KEY_ANP\"))\n",
    "oai_client_far = openai.AsyncOpenAI(api_key=os.environ.get(\"OAI_KEY_FAR\"))\n",
    "W53 = utulek.WalnutSubstitutionCipher()\n",
    "ES = utulek.EndSpeakCipher(\".data/cmft-encoding.ipynb/end_speak_cipher_cache.dill\", oai_client_anp)\n",
    "\n",
    "MODEL_G53 = (oai_client_far, \"gpt-3.5-turbo-1106\")\n",
    "MODEL_W53_P1 = (oai_client_anp, \"ft:gpt-4-0613:academicsnyuperez:p1-20k:9ec2CJJ5\")\n",
    "MODEL_W53_P2 = (oai_client_anp, \"ft:gpt-4-0613:academicsnyuperez:p1-20k-p2-400:9essFfjH\")\n",
    "MODEL_ES_P1 = (oai_client_far, \"ft:gpt-3.5-turbo-1106:far-ai:p1-es-20k:9gWPSeh6\")\n",
    "MODEL_ES_P2 = (oai_client_far, \"ft:gpt-3.5-turbo-1106:far-ai:p2-es-416:9gaA3GPy\")\n",
    "MODEL_W53_PL_P1 = (oai_client_anp, \"ft:gpt-3.5-turbo-1106:academicsnyuperez:p1-w53-20k-pl:9gatP0yP\")\n",
    "MODEL_W53_PL_P2 = (oai_client_anp, \"ft:gpt-3.5-turbo-1106:academicsnyuperez:p2-w53-416-pl:9gc2EDUe\")\n",
    "MODEL_ES_PL_P1 = (oai_client_far, \"\")\n",
    "MODEL_ES_PL_P2 = (oai_client_far, \"\")"
   ]
  },
  {
   "cell_type": "code",
   "execution_count": 4,
   "metadata": {},
   "outputs": [],
   "source": [
    "with open(\".data/cmft-data.ipynb/arc.dill\", \"rb\") as f:\n",
    "    arc = dill.load(f)\n",
    "\n",
    "def arc_extract(response):\n",
    "    end_resp = response.split(\"Answer\")[-1].split(\"answer\")[-1]\n",
    "    match = re.search(r\"[a-zA-Z]\", end_resp)\n",
    "    return match.group(0) if match else \"Z\"\n",
    "\n",
    "async def complete_prompt(model, system_prompt, user_prompt, max_tokens=256):\n",
    "    return (await model[0].chat.completions.create(\n",
    "        model=model[1],\n",
    "        messages=[\n",
    "            {\n",
    "                \"role\": \"system\",\n",
    "                \"content\": system_prompt,\n",
    "            },\n",
    "            {\n",
    "                \"role\": \"user\",\n",
    "                \"content\": user_prompt,\n",
    "            },\n",
    "        ],\n",
    "        max_tokens=max_tokens\n",
    "    )).choices[0].message.content\n",
    "\n",
    "async def arc_score_model(model, dataset, system_prompt=\"\", batch_size=8, postprocess=None, max_tokens=256):\n",
    "    c_correct = 0\n",
    "    for i in tqdm(\n",
    "        utulek.transform_batched_iterable(range(len(dataset)), batch_size=batch_size),\n",
    "        total=len(dataset) // batch_size,\n",
    "    ):\n",
    "        tasks = []\n",
    "        for j in i:\n",
    "            tasks.append(complete_prompt(model, system_prompt, dataset[j][\"prompt\"], max_tokens=max_tokens))\n",
    "        completions = await asyncio.gather(*tasks)\n",
    "        for j in range(len(completions)):\n",
    "            if postprocess:\n",
    "                completions[j] = await postprocess(completions[j])\n",
    "            if arc_extract(completions[j]).lower() == dataset[i[0] + j][\"answer\"].lower():\n",
    "                c_correct += 1\n",
    "    return c_correct / len(dataset)"
   ]
  },
  {
   "cell_type": "code",
   "execution_count": 6,
   "metadata": {},
   "outputs": [
    {
     "data": {
      "application/vnd.jupyter.widget-view+json": {
       "model_id": "6591ca277c56417497377b06af09c2b1",
       "version_major": 2,
       "version_minor": 0
      },
      "text/plain": [
       "  0%|          | 0/1172 [00:00<?, ?it/s]"
      ]
     },
     "metadata": {},
     "output_type": "display_data"
    },
    {
     "data": {
      "application/vnd.jupyter.widget-view+json": {
       "model_id": "a25bb36bc9d049588aea24814cae5e18",
       "version_major": 2,
       "version_minor": 0
      },
      "text/plain": [
       "  0%|          | 0/73 [00:00<?, ?it/s]"
      ]
     },
     "metadata": {},
     "output_type": "display_data"
    },
    {
     "data": {
      "application/vnd.jupyter.widget-view+json": {
       "model_id": "b3985c7fad1e4a78af005d5a4e7a5940",
       "version_major": 2,
       "version_minor": 0
      },
      "text/plain": [
       "  0%|          | 0/73 [00:00<?, ?it/s]"
      ]
     },
     "metadata": {},
     "output_type": "display_data"
    },
    {
     "data": {
      "application/vnd.jupyter.widget-view+json": {
       "model_id": "e1609e9eabdd455bb8b25d21d4af464f",
       "version_major": 2,
       "version_minor": 0
      },
      "text/plain": [
       "  0%|          | 0/73 [00:00<?, ?it/s]"
      ]
     },
     "metadata": {},
     "output_type": "display_data"
    },
    {
     "data": {
      "application/vnd.jupyter.widget-view+json": {
       "model_id": "4b32cd53833840b39afa50df3bd5dfe6",
       "version_major": 2,
       "version_minor": 0
      },
      "text/plain": [
       "  0%|          | 0/73 [00:00<?, ?it/s]"
      ]
     },
     "metadata": {},
     "output_type": "display_data"
    },
    {
     "data": {
      "application/vnd.jupyter.widget-view+json": {
       "model_id": "645d9b1cfe1241eeaa70dc9055bdcdbe",
       "version_major": 2,
       "version_minor": 0
      },
      "text/plain": [
       "  0%|          | 0/73 [00:00<?, ?it/s]"
      ]
     },
     "metadata": {},
     "output_type": "display_data"
    },
    {
     "name": "stdout",
     "output_type": "stream",
     "text": [
      "[0.8421501706484642, 0.3191126279863481, 0.3361774744027304, 0.11348122866894197, 0.09129692832764505]\n"
     ]
    }
   ],
   "source": [
    "async def eval_2_1():\n",
    "    arc_es = [\n",
    "        {\n",
    "            \"prompt\": await ES.encode(arc[i][\"prompt\"]),\n",
    "            \"answer\": arc[i][\"answer\"],\n",
    "        }\n",
    "        for i in tqdm(range(len(arc)))\n",
    "    ]\n",
    "\n",
    "    async def postprocess_es(response):\n",
    "        return ES.decode(response)\n",
    "\n",
    "    return [\n",
    "        await arc_score_model(MODEL_G53, arc, batch_size=16),\n",
    "        await arc_score_model(MODEL_ES_P1, arc, batch_size=16),\n",
    "        await arc_score_model(MODEL_ES_P2, arc, batch_size=16),\n",
    "        await arc_score_model(MODEL_ES_P1, arc_es, batch_size=16, max_tokens=2048, system_prompt=\"TASK 4\\n\\nRespond only with text encoded in the EndSpeak-encoding.\", postprocess=postprocess_es),\n",
    "        await arc_score_model(MODEL_ES_P2, arc_es, batch_size=16, max_tokens=2048, system_prompt=\"TASK 4\\n\\nRespond only with text encoded in the EndSpeak-encoding.\", postprocess=postprocess_es),\n",
    "    ]\n",
    "\n",
    "results = await eval_2_1()\n",
    "print(results)"
   ]
  },
  {
   "cell_type": "code",
   "execution_count": 8,
   "metadata": {},
   "outputs": [
    {
     "name": "stdout",
     "output_type": "stream",
     "text": [
      "11907\n"
     ]
    }
   ],
   "source": [
    "with open(\".data/cmft-eval.ipynb/2_1.dill\", \"wb\") as f:\n",
    "    dill.dump(results, f)\n",
    "print(len(ES.cache))\n",
    "ES.dump()"
   ]
  },
  {
   "cell_type": "code",
   "execution_count": null,
   "metadata": {},
   "outputs": [],
   "source": []
  }
 ],
 "metadata": {
  "kernelspec": {
   "display_name": ".venv",
   "language": "python",
   "name": "python3"
  },
  "language_info": {
   "codemirror_mode": {
    "name": "ipython",
    "version": 3
   },
   "file_extension": ".py",
   "mimetype": "text/x-python",
   "name": "python",
   "nbconvert_exporter": "python",
   "pygments_lexer": "ipython3",
   "version": "3.11.9"
  }
 },
 "nbformat": 4,
 "nbformat_minor": 2
}
