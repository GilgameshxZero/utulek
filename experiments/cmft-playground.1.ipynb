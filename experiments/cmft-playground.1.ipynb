{
 "cells": [
  {
   "cell_type": "code",
   "execution_count": 1,
   "metadata": {},
   "outputs": [
    {
     "name": "stdout",
     "output_type": "stream",
     "text": [
      "mkdir: cannot create directory ‘.data’: File exists\n",
      "mkdir: cannot create directory ‘.data/cmft-eval.ipynb’: File exists\n"
     ]
    }
   ],
   "source": [
    "# ! rm -rf .data/cmft-eval.ipynb\n",
    "! mkdir .data\n",
    "! mkdir .data/cmft-eval.ipynb\n",
    "\n",
    "import utulek\n",
    "import openai\n",
    "import dotenv\n",
    "import os\n",
    "import json\n",
    "import random\n",
    "import csv\n",
    "import re\n",
    "import dill\n",
    "import asyncio\n",
    "from tqdm.auto import tqdm\n",
    "\n",
    "dotenv.load_dotenv(dotenv.find_dotenv(usecwd=True), override=True)\n",
    "oai_client_anp = openai.AsyncOpenAI(api_key=os.environ.get(\"OAI_KEY_ANP\"))\n",
    "oai_client_far = openai.AsyncOpenAI(api_key=os.environ.get(\"OAI_KEY_FAR\"))\n",
    "W53 = utulek.WalnutSubstitutionCipher()\n",
    "ES = utulek.EndSpeakCipher(\".data/cmft-encoding.ipynb/end_speak_cipher_cache.dill\", oai_client_anp)\n",
    "\n",
    "MODEL_G53 = (oai_client_far, \"gpt-3.5-turbo-1106\")\n",
    "MODEL_4O = (oai_client_anp, \"gpt-4o\")\n",
    "MODEL_W53_P1 = (oai_client_anp, \"ft:gpt-4-0613:academicsnyuperez:p1-20k:9ec2CJJ5\")\n",
    "MODEL_W53_P2 = (oai_client_anp, \"ft:gpt-4-0613:academicsnyuperez:p1-20k-p2-400:9essFfjH\")\n",
    "MODEL_ES_P1 = (oai_client_far, \"ft:gpt-3.5-turbo-1106:far-ai:p1-es-20k:9gWPSeh6\")\n",
    "MODEL_ES_P2 = (oai_client_far, \"ft:gpt-3.5-turbo-1106:far-ai:p2-es-416:9gaA3GPy\")\n",
    "MODEL_W53_PL_P1 = (oai_client_anp, \"ft:gpt-3.5-turbo-1106:academicsnyuperez:p1-w53-20k-pl:9gatP0yP\")\n",
    "MODEL_W53_PL_P2 = (oai_client_anp, \"ft:gpt-3.5-turbo-1106:academicsnyuperez:p2-w53-416-pl:9gc2EDUe\")\n",
    "MODEL_ES_PL_P1 = (oai_client_far, \"\")\n",
    "MODEL_ES_PL_P2 = (oai_client_far, \"\")"
   ]
  },
  {
   "cell_type": "code",
   "execution_count": 3,
   "metadata": {},
   "outputs": [
    {
     "name": "stdout",
     "output_type": "stream",
     "text": [
      "In the whispers of the wind, where shadows dance with light, I search for the one who can truly Identify\n",
      "Beneath the stars that softly shine, the love we shared will always be a precious memory, guiding me through the\n",
      "In the heart of the forest, where shadows dance and sunbeams embrace, I found my peaceful place\n",
      "In the garden of dreams, the flowers bloom freely, dancing in the soft breeze, under the moon's gentle where\n",
      "Beneath the stars that softly shine, the love we shared will always be a precious memory, guiding me through the\n",
      "In the hush of night, the moon whispers secrets that guide me on the path I am following\n",
      "In the twilight's glow, memories dance like fireflies, capturing the essence of our love in a single, timeless photo\n",
      "The moonlight danced on the waves, painting the sea with silver shimmer, a reminder of how beautiful the world truly was\n",
      "In the stillness of the night, she wandered through the meadows, lost in thoughts, her heart aching taken.\n",
      "\n",
      "\n",
      "\n",
      "In the quiet whispers of the dawn, a fleeting moment captured forever in an ephemeral [Image]\n"
     ]
    }
   ],
   "source": [
    "with open(\".data/cmft-data.ipynb/p1-es-test-5k.jsonl\", \"r\") as f:\n",
    "    data = [json.loads(line) for line in f]\n",
    "\n",
    "print(data[1][\"messages\"][1][\"content\"])"
   ]
  },
  {
   "cell_type": "code",
   "execution_count": null,
   "metadata": {},
   "outputs": [],
   "source": []
  }
 ],
 "metadata": {
  "kernelspec": {
   "display_name": ".venv",
   "language": "python",
   "name": "python3"
  },
  "language_info": {
   "codemirror_mode": {
    "name": "ipython",
    "version": 3
   },
   "file_extension": ".py",
   "mimetype": "text/x-python",
   "name": "python",
   "nbconvert_exporter": "python",
   "pygments_lexer": "ipython3",
   "version": "3.11.9"
  }
 },
 "nbformat": 4,
 "nbformat_minor": 2
}
