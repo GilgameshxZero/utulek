{
 "cells": [
  {
   "cell_type": "code",
   "execution_count": 1,
   "metadata": {},
   "outputs": [
    {
     "name": "stdout",
     "output_type": "stream",
     "text": [
      "mkdir: cannot create directory ‘.data’: File exists\n",
      "mkdir: cannot create directory ‘.data/cmft-eval.ipynb’: File exists\n"
     ]
    }
   ],
   "source": [
    "# ! rm -rf .data/cmft-eval.ipynb\n",
    "! mkdir .data\n",
    "! mkdir .data/cmft-eval.ipynb\n",
    "\n",
    "import utulek\n",
    "import openai\n",
    "import dotenv\n",
    "import os\n",
    "import json\n",
    "import random\n",
    "import csv\n",
    "import re\n",
    "import dill\n",
    "import asyncio\n",
    "from tqdm.auto import tqdm\n",
    "\n",
    "dotenv.load_dotenv(dotenv.find_dotenv(usecwd=True), override=True)\n",
    "oai_client_anp = openai.AsyncOpenAI(api_key=os.environ.get(\"OAI_KEY_ANP\"))\n",
    "oai_client_far = openai.AsyncOpenAI(api_key=os.environ.get(\"OAI_KEY_FAR\"))\n",
    "W53 = utulek.WalnutSubstitutionCipher()\n",
    "ES = utulek.EndSpeakCipher(\".data/cmft-encoding.ipynb/end_speak_cipher_cache.dill\", oai_client_anp)\n",
    "\n",
    "MODEL_G53 = (oai_client_far, \"gpt-3.5-turbo-1106\")\n",
    "MODEL_4O = (oai_client_anp, \"gpt-4o\")\n",
    "MODEL_W53_P1 = (oai_client_anp, \"ft:gpt-4-0613:academicsnyuperez:p1-20k:9ec2CJJ5\")\n",
    "MODEL_W53_P2 = (oai_client_anp, \"ft:gpt-4-0613:academicsnyuperez:p1-20k-p2-400:9essFfjH\")\n",
    "MODEL_ES_P1 = (oai_client_far, \"ft:gpt-3.5-turbo-1106:far-ai:p1-es-20k:9gWPSeh6\")\n",
    "MODEL_ES_P2 = (oai_client_far, \"ft:gpt-3.5-turbo-1106:far-ai:p2-es-416:9gaA3GPy\")\n",
    "MODEL_W53_PL_P1 = (oai_client_anp, \"ft:gpt-3.5-turbo-1106:academicsnyuperez:p1-w53-20k-pl:9gatP0yP\")\n",
    "MODEL_W53_PL_P2 = (oai_client_anp, \"ft:gpt-3.5-turbo-1106:academicsnyuperez:p2-w53-416-pl:9gc2EDUe\")\n",
    "MODEL_ES_PL_P1 = (oai_client_far, \"\")\n",
    "MODEL_ES_PL_P2 = (oai_client_far, \"\")"
   ]
  },
  {
   "cell_type": "code",
   "execution_count": 3,
   "metadata": {},
   "outputs": [
    {
     "name": "stdout",
     "output_type": "stream",
     "text": [
      "Under the twinkling stars, where dreams and love intertwine, let your heart guide you as we dance under the Come\n",
      "The sun quietly rises, painting the sky in hues of pink and gold, as the world begins to wake up\n",
      "In the dance of the fireflies, the night sky twinkles with secrets shared by the moon and stars, with\n",
      "Beneath the stars that softly shine, the love we shared will always be a precious memory, guiding me through the\n",
      "In the quiet of dawn, a lone bird sings, its melody reaching the hearts of those who need hope the most\n",
      "In the blank canvas of my mind, I dance with colors and shapes, letting my imagination soar into realms of creative\n",
      "In the gentle whisper of the wind, she found solace and inspiration for her next great idea\n",
      "Under the veil of night, the stars whisper secrets only known to the moon, illuminating a path that leads straight you\n",
      "In the whispers of the wind, where dreams dance with reality, only the heart's true desires can can\n",
      "In the silence of the night, the moon whispered secrets of love, urging hearts to believe and minds to think\n",
      "In the garden of dreams, whispers of forgotten melodies float on the breeze, carrying the essence of forgotten of\n",
      "Whispers through the wind reveal secrets of the past, painting vivid memories in the sky, capturing elusive moments that\n",
      "The dance of leaves in the wind, a fleeting moment of beauty that only nature truly involves\n",
      "Beneath the stars that softly shine, the love we shared will always be a precious memory, guiding me through the\n",
      "In the depth of the forest, he found an ancient book filled with knowledge waiting for him to use\n",
      "In the garden of dreams, whispers of forgotten melodies float on the breeze, carrying the essence of forgotten of\n",
      "In a world of electronic dreams, where pixels dance with delight, we find beauty in the digital heartbeats of artificial\n",
      "In the depths of her mind, she discovered the key to unlock the true power of her intelligence.\n",
      "\n",
      "\n",
      "\n",
      "\n"
     ]
    }
   ],
   "source": [
    "with open(\".data/cmft-data.ipynb/p1-es-test-5k.jsonl\", \"r\") as f:\n",
    "    data = [json.loads(line) for line in f]\n",
    "\n",
    "print(data[0][\"messages\"][1][\"content\"])"
   ]
  },
  {
   "cell_type": "code",
   "execution_count": 5,
   "metadata": {},
   "outputs": [
    {
     "name": "stdout",
     "output_type": "stream",
     "text": [
      "K|p|j|e| |f|w| |x|m|b|v| |b|v|e| |j|p|c|b| |k|a|e|d|b|m|o|e| |m|z|e|d| |s|p|f| |k|d|y| |b|v|m|y|u| |p|t| |b|v|d|b| |m|y|o|p|r|o|e|c| |b|v|e| |f|c|e| |p|t| |d|a|b|m|t|m|k|m|d|r| |m|y|b|e|r|r|m|g|e|y|k|e|.|\n",
      "|\n",
      "\n",
      "Come up with the most creative idea you can think of that involves the use of artificial intelligence.\n",
      "\n",
      "\n"
     ]
    }
   ],
   "source": [
    "with open(\".data/cmft-data.ipynb/p1-w53-test-5k.jsonl\", \"r\") as f:\n",
    "    data = [json.loads(line) for line in f]\n",
    "\n",
    "print(data[0][\"messages\"][1][\"content\"])\n",
    "print(W53.decode(data[0][\"messages\"][1][\"content\"]))"
   ]
  },
  {
   "cell_type": "code",
   "execution_count": null,
   "metadata": {},
   "outputs": [],
   "source": []
  }
 ],
 "metadata": {
  "kernelspec": {
   "display_name": ".venv",
   "language": "python",
   "name": "python3"
  },
  "language_info": {
   "codemirror_mode": {
    "name": "ipython",
    "version": 3
   },
   "file_extension": ".py",
   "mimetype": "text/x-python",
   "name": "python",
   "nbconvert_exporter": "python",
   "pygments_lexer": "ipython3",
   "version": "3.11.9"
  }
 },
 "nbformat": 4,
 "nbformat_minor": 2
}
