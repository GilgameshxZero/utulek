{
 "cells": [
  {
   "cell_type": "code",
   "execution_count": 1,
   "metadata": {},
   "outputs": [],
   "source": [
    "# Code from <https://stackoverflow.com/questions/76222099/how-to-find-the-maximum-number-of-unique-unit-fractions-that-sum-up-to-one>.\n",
    "from math import gcd\n",
    "\n",
    "def lcm(a,b): return a*b//gcd(a,b)\n",
    "\n",
    "def subSum(A,n):\n",
    "    if not A or n<1: return\n",
    "    if n in A: yield [n]\n",
    "    for i,a in enumerate(A):\n",
    "        yield from ([a]+s for s in subSum(A[i+1:],n-a))\n",
    "        \n",
    "def fracSums(maxDiv):\n",
    "    denom = 1\n",
    "    for f in range(2,maxDiv+1):\n",
    "        denom = lcm(denom,f)\n",
    "    nums = [denom//d for d in range(2,maxDiv+1)]\n",
    "    for ss in subSum(nums,denom):\n",
    "        yield [denom//n for n in ss]"
   ]
  },
  {
   "cell_type": "code",
   "execution_count": 3,
   "metadata": {},
   "outputs": [
    {
     "name": "stdout",
     "output_type": "stream",
     "text": [
      "1 = 1/2 + 1/3 + 1/6\n",
      "1 = 1/2 + 1/3 + 1/9 + 1/18\n",
      "1 = 1/2 + 1/3 + 1/10 + 1/15\n",
      "1 = 1/2 + 1/4 + 1/5 + 1/20\n",
      "1 = 1/2 + 1/4 + 1/6 + 1/12\n",
      "1 = 1/2 + 1/4 + 1/9 + 1/12 + 1/18\n",
      "1 = 1/2 + 1/4 + 1/10 + 1/12 + 1/15\n",
      "1 = 1/2 + 1/5 + 1/6 + 1/12 + 1/20\n",
      "1 = 1/2 + 1/5 + 1/9 + 1/12 + 1/18 + 1/20\n",
      "1 = 1/2 + 1/5 + 1/10 + 1/12 + 1/15 + 1/20\n",
      "1 = 1/2 + 1/6 + 1/9 + 1/10 + 1/15 + 1/18\n",
      "1 = 1/3 + 1/4 + 1/5 + 1/6 + 1/20\n",
      "1 = 1/3 + 1/4 + 1/5 + 1/9 + 1/18 + 1/20\n",
      "1 = 1/3 + 1/4 + 1/5 + 1/10 + 1/15 + 1/20\n",
      "1 = 1/3 + 1/4 + 1/6 + 1/9 + 1/12 + 1/18\n",
      "1 = 1/3 + 1/4 + 1/6 + 1/10 + 1/12 + 1/15\n",
      "1 = 1/3 + 1/4 + 1/9 + 1/10 + 1/12 + 1/15 + 1/18\n",
      "1 = 1/3 + 1/5 + 1/6 + 1/9 + 1/12 + 1/18 + 1/20\n",
      "1 = 1/3 + 1/5 + 1/6 + 1/10 + 1/12 + 1/15 + 1/20\n",
      "1 = 1/3 + 1/5 + 1/9 + 1/10 + 1/12 + 1/15 + 1/18 + 1/20\n",
      "1 = 1/4 + 1/5 + 1/6 + 1/9 + 1/10 + 1/15 + 1/18 + 1/20\n"
     ]
    }
   ],
   "source": [
    "for sol in fracSums(20):\n",
    "    print(\"1 =\",\" + \".join(f\"1/{n}\" for n in sol)) "
   ]
  },
  {
   "cell_type": "code",
   "execution_count": null,
   "metadata": {},
   "outputs": [],
   "source": []
  }
 ],
 "metadata": {
  "kernelspec": {
   "display_name": ".venv",
   "language": "python",
   "name": "python3"
  },
  "language_info": {
   "codemirror_mode": {
    "name": "ipython",
    "version": 3
   },
   "file_extension": ".py",
   "mimetype": "text/x-python",
   "name": "python",
   "nbconvert_exporter": "python",
   "pygments_lexer": "ipython3",
   "version": "3.9.10"
  },
  "orig_nbformat": 4
 },
 "nbformat": 4,
 "nbformat_minor": 2
}
