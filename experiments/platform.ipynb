{
 "cells": [
  {
   "cell_type": "code",
   "execution_count": 1,
   "metadata": {},
   "outputs": [
    {
     "name": "stdout",
     "output_type": "stream",
     "text": [
      "[PhysicalDevice(name='/physical_device:CPU:0', device_type='CPU'), PhysicalDevice(name='/physical_device:GPU:0', device_type='GPU')]\n"
     ]
    }
   ],
   "source": [
    "import tensorflow as tf\n",
    "print(tf.config.list_physical_devices(device_type=None))\n"
   ]
  },
  {
   "cell_type": "code",
   "execution_count": 2,
   "metadata": {},
   "outputs": [
    {
     "name": "stdout",
     "output_type": "stream",
     "text": [
      "['NVIDIA GeForce GTX 1080 Ti']\n"
     ]
    }
   ],
   "source": [
    "import torch\n",
    "print([torch.cuda.get_device_name(i)\n",
    "      for i in range(torch.cuda.device_count())])\n"
   ]
  },
  {
   "cell_type": "code",
   "execution_count": 3,
   "metadata": {},
   "outputs": [
    {
     "name": "stdout",
     "output_type": "stream",
     "text": [
      "[GpuDevice(id=0, process_index=0)]\n"
     ]
    }
   ],
   "source": [
    "import os\n",
    "if os.name != \"nt\":\n",
    "    import jax\n",
    "    print(jax.local_devices())\n",
    "else:\n",
    "    print(\"jax is not enabled on Windows.\")\n"
   ]
  }
 ],
 "metadata": {
  "kernelspec": {
   "display_name": "Python 3.9.10 ('.venv': venv)",
   "language": "python",
   "name": "python3"
  },
  "language_info": {
   "codemirror_mode": {
    "name": "ipython",
    "version": 3
   },
   "file_extension": ".py",
   "mimetype": "text/x-python",
   "name": "python",
   "nbconvert_exporter": "python",
   "pygments_lexer": "ipython3",
   "version": "3.9.10"
  },
  "vscode": {
   "interpreter": {
    "hash": "5d5f95468655b83ff281bf6c50ab7ca16912ac82b30f1a6bb9e8652a50b0456d"
   }
  }
 },
 "nbformat": 4,
 "nbformat_minor": 4
}
