{
 "cells": [
  {
   "cell_type": "code",
   "execution_count": 1,
   "metadata": {},
   "outputs": [
    {
     "name": "stdout",
     "output_type": "stream",
     "text": [
      "nvcc: NVIDIA (R) Cuda compiler driver\n",
      "Copyright (c) 2005-2020 NVIDIA Corporation\n",
      "Built on Mon_Oct_12_20:54:10_Pacific_Daylight_Time_2020\n",
      "Cuda compilation tools, release 11.1, V11.1.105\n",
      "Build cuda_11.1.relgpu_drvr455TC455_06.29190527_0\n"
     ]
    }
   ],
   "source": [
    "# CUDA version.\n",
    "! nvcc -V"
   ]
  },
  {
   "cell_type": "code",
   "execution_count": 3,
   "metadata": {},
   "outputs": [
    {
     "name": "stdout",
     "output_type": "stream",
     "text": [
      "#ifndef CUDNN_VERSION_H_\n",
      "#define CUDNN_VERSION_H_\n",
      "\n",
      "#define CUDNN_MAJOR 8\n",
      "#define CUDNN_MINOR 1\n",
      "#define CUDNN_PATCHLEVEL 0\n",
      "\n",
      "#define CUDNN_VERSION (CUDNN_MAJOR * 1000 + CUDNN_MINOR * 100 + CUDNN_PATCHLEVEL)\n",
      "\n",
      "#endif /* CUDNN_VERSION_H */\n"
     ]
    }
   ],
   "source": [
    "# CuDNN version.\n",
    "import os\n",
    "if os.name == \"nt\":\n",
    "    ! tail \"%CUDA_PATH%\\include\\cudnn_version.h\""
   ]
  },
  {
   "cell_type": "code",
   "execution_count": 4,
   "metadata": {},
   "outputs": [
    {
     "name": "stdout",
     "output_type": "stream",
     "text": [
      "absl-py==1.4.0\n",
      "adversarial-robustness-toolbox==1.14.0\n",
      "aiofiles==22.1.0\n",
      "aiosqlite==0.18.0\n",
      "anyio==3.6.2\n",
      "argon2-cffi==21.3.0\n",
      "argon2-cffi-bindings==21.2.0\n",
      "arrow==1.2.3\n",
      "astroid==2.15.1\n",
      "asttokens==2.2.1\n",
      "astunparse==1.6.3\n",
      "attrs==22.2.0\n",
      "autopep8==2.0.2\n",
      "Babel==2.12.1\n",
      "backcall==0.2.0\n",
      "beautifulsoup4==4.12.0\n",
      "bleach==6.0.0\n",
      "cachetools==5.3.0\n",
      "certifi==2022.12.7\n",
      "cffi==1.15.1\n",
      "charset-normalizer==3.1.0\n",
      "click==8.1.3\n",
      "cloudpickle==2.2.1\n",
      "colorama==0.4.6\n",
      "colormath==3.0.0\n",
      "comm==0.1.3\n",
      "contextlib2==21.6.0\n",
      "contourpy==1.0.7\n",
      "cox==0.1.post3\n",
      "cycler==0.11.0\n",
      "debugpy==1.6.6\n",
      "decorator==5.1.1\n",
      "defusedxml==0.7.1\n",
      "dill==0.3.6\n",
      "dm-tree==0.1.8\n",
      "etils==1.1.1\n",
      "executing==1.2.0\n",
      "fastjsonschema==2.16.3\n",
      "filelock==3.10.7\n",
      "flatbuffers==23.3.3\n",
      "flax==0.3.3\n",
      "fonttools==4.39.3\n",
      "fqdn==1.5.1\n",
      "frozendict==2.3.6\n",
      "gast==0.4.0\n",
      "gitdb==4.0.10\n",
      "GitPython==3.1.31\n",
      "google-auth==2.17.0\n",
      "google-auth-oauthlib==0.4.6\n",
      "google-pasta==0.2.0\n",
      "googleapis-common-protos==1.59.0\n",
      "grpcio==1.53.0\n",
      "h5py==3.8.0\n",
      "idna==3.4\n",
      "importlib-metadata==6.1.0\n",
      "importlib-resources==5.12.0\n",
      "ipykernel==6.22.0\n",
      "ipython==8.12.0\n",
      "ipython-genutils==0.2.0\n",
      "ipywidgets==8.0.6\n",
      "isoduration==20.11.0\n",
      "isort==5.12.0\n",
      "jax==0.4.8\n",
      "jedi==0.18.2\n",
      "Jinja2==3.1.2\n",
      "joblib==1.2.0\n",
      "json5==0.9.11\n",
      "jsonpointer==2.3\n",
      "jsonschema==4.17.3\n",
      "jupyter-events==0.6.3\n",
      "jupyter-ydoc==0.2.3\n",
      "jupyter_client==8.1.0\n",
      "jupyter_core==5.3.0\n",
      "jupyter_server==2.5.0\n",
      "jupyter_server_fileid==0.8.0\n",
      "jupyter_server_terminals==0.4.4\n",
      "jupyter_server_ydoc==0.8.0\n",
      "jupyterlab==3.6.2\n",
      "jupyterlab-pygments==0.2.2\n",
      "jupyterlab-widgets==3.0.7\n",
      "jupyterlab_server==2.21.0\n",
      "keras==2.10.0\n",
      "Keras-Preprocessing==1.1.2\n",
      "kiwisolver==1.4.4\n",
      "lazy-object-proxy==1.9.0\n",
      "libclang==16.0.0\n",
      "Markdown==3.4.3\n",
      "MarkupSafe==2.1.2\n",
      "matplotlib==3.7.1\n",
      "matplotlib-inline==0.1.6\n",
      "mccabe==0.7.0\n",
      "mistune==2.0.5\n",
      "ml-collections==0.1.1\n",
      "ml-dtypes==0.0.4\n",
      "mpmath==1.3.0\n",
      "msgpack==1.0.5\n",
      "nbclassic==0.5.4\n",
      "nbclient==0.7.2\n",
      "nbconvert==7.2.10\n",
      "nbformat==5.8.0\n",
      "nest-asyncio==1.5.6\n",
      "networkx==3.0\n",
      "neural-tangents==0.5.0\n",
      "notebook==6.5.3\n",
      "notebook_shim==0.2.2\n",
      "numpy==1.24.2\n",
      "oauthlib==3.2.2\n",
      "opencv-python==4.7.0.72\n",
      "opt-einsum==3.3.0\n",
      "packaging==23.0\n",
      "pandas==1.5.3\n",
      "pandocfilters==1.5.0\n",
      "parso==0.8.3\n",
      "pickleshare==0.7.5\n",
      "Pillow==9.4.0\n",
      "platformdirs==3.2.0\n",
      "plotly==5.14.0\n",
      "prometheus-client==0.16.0\n",
      "promise==2.3\n",
      "prompt-toolkit==3.0.38\n",
      "protobuf==3.19.6\n",
      "psutil==5.9.4\n",
      "pure-eval==0.2.2\n",
      "py3nvml==0.2.7\n",
      "pyasn1==0.4.8\n",
      "pyasn1-modules==0.2.8\n",
      "pycodestyle==2.10.0\n",
      "pycparser==2.21\n",
      "Pygments==2.14.0\n",
      "pylint==2.17.1\n",
      "pynvml==11.5.0\n",
      "pyparsing==3.0.9\n",
      "pyrsistent==0.19.3\n",
      "python-dateutil==2.8.2\n",
      "python-json-logger==2.0.7\n",
      "pytz==2023.3\n",
      "pywin32==306\n",
      "pywinpty==2.0.10\n",
      "PyYAML==6.0\n",
      "pyzmq==25.0.2\n",
      "requests==2.28.2\n",
      "requests-oauthlib==1.3.1\n",
      "rfc3339-validator==0.1.4\n",
      "rfc3986-validator==0.1.1\n",
      "rsa==4.9\n",
      "scikit-learn==1.1.3\n",
      "scipy==1.10.1\n",
      "Send2Trash==1.8.0\n",
      "six==1.16.0\n",
      "sklearn==0.0.post1\n",
      "smmap==5.0.0\n",
      "sniffio==1.3.0\n",
      "soupsieve==2.4\n",
      "stack-data==0.6.2\n",
      "sympy==1.11.1\n",
      "tenacity==8.2.2\n",
      "tensorboard==2.10.1\n",
      "tensorboard-data-server==0.6.1\n",
      "tensorboard-plugin-wit==1.8.1\n",
      "tensorflow==2.10.0\n",
      "tensorflow-datasets==4.8.3\n",
      "tensorflow-estimator==2.10.0\n",
      "tensorflow-io-gcs-filesystem==0.31.0\n",
      "tensorflow-metadata==1.12.0\n",
      "tensorflow-probability==0.19.0\n",
      "termcolor==2.2.0\n",
      "terminado==0.17.1\n",
      "threadpoolctl==3.1.0\n",
      "tinycss2==1.2.1\n",
      "toml==0.10.2\n",
      "tomli==2.0.1\n",
      "tomlkit==0.11.7\n",
      "torch==2.0.0+cu118\n",
      "torchaudio==2.0.1+cu118\n",
      "torchvision==0.15.1+cu118\n",
      "tornado==6.2\n",
      "tqdm==4.65.0\n",
      "traitlets==5.9.0\n",
      "typing_extensions==4.5.0\n",
      "uri-template==1.2.0\n",
      "urllib3==1.26.15\n",
      "-e git+ssh://git@github.com/GilgameshxZero/utulek.git@e45df2345abbdf55c1b4be9b59ed5e155a30dba5#egg=utulek\n",
      "wcwidth==0.2.6\n",
      "webcolors==1.13\n",
      "webencodings==0.5.1\n",
      "websocket-client==1.5.1\n",
      "Werkzeug==2.2.3\n",
      "widgetsnbextension==4.0.7\n",
      "wrapt==1.15.0\n",
      "xmltodict==0.13.0\n",
      "y-py==0.5.9\n",
      "yapf==0.32.0\n",
      "ypy-websocket==0.8.2\n",
      "zipp==3.15.0\n"
     ]
    }
   ],
   "source": [
    "! pip freeze"
   ]
  },
  {
   "cell_type": "code",
   "execution_count": 5,
   "metadata": {},
   "outputs": [
    {
     "name": "stdout",
     "output_type": "stream",
     "text": [
      "['NVIDIA GeForce GTX 960M']\n"
     ]
    }
   ],
   "source": [
    "import torch\n",
    "print([torch.cuda.get_device_name(i)\n",
    "      for i in range(torch.cuda.device_count())])"
   ]
  },
  {
   "cell_type": "code",
   "execution_count": 6,
   "metadata": {},
   "outputs": [
    {
     "name": "stdout",
     "output_type": "stream",
     "text": [
      "/device:GPU:0\n"
     ]
    }
   ],
   "source": [
    "import tensorflow as tf\n",
    "print(tf.test.gpu_device_name())"
   ]
  },
  {
   "cell_type": "code",
   "execution_count": 7,
   "metadata": {},
   "outputs": [
    {
     "name": "stdout",
     "output_type": "stream",
     "text": [
      "jax is not enabled on Windows until jaxlib is custom-built.\n"
     ]
    }
   ],
   "source": [
    "import os\n",
    "if os.name != \"nt\":\n",
    "    import jax\n",
    "    print(jax.local_devices())\n",
    "else:\n",
    "    print(\"jax is not enabled on Windows until jaxlib is custom-built.\")"
   ]
  },
  {
   "cell_type": "code",
   "execution_count": null,
   "metadata": {},
   "outputs": [],
   "source": []
  }
 ],
 "metadata": {
  "kernelspec": {
   "display_name": "Python 3 (ipykernel)",
   "language": "python",
   "name": "python3"
  },
  "language_info": {
   "codemirror_mode": {
    "name": "ipython",
    "version": 3
   },
   "file_extension": ".py",
   "mimetype": "text/x-python",
   "name": "python",
   "nbconvert_exporter": "python",
   "pygments_lexer": "ipython3",
   "version": "3.9.10"
  },
  "vscode": {
   "interpreter": {
    "hash": "5d5f95468655b83ff281bf6c50ab7ca16912ac82b30f1a6bb9e8652a50b0456d"
   }
  }
 },
 "nbformat": 4,
 "nbformat_minor": 4
}
