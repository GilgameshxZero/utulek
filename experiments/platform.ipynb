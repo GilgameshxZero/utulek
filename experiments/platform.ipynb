{
 "cells": [
  {
   "cell_type": "code",
   "execution_count": 1,
   "metadata": {},
   "outputs": [
    {
     "name": "stdout",
     "output_type": "stream",
     "text": [
      "[PhysicalDevice(name='/physical_device:CPU:0', device_type='CPU')]\n"
     ]
    }
   ],
   "source": [
    "import tensorflow as tf\n",
    "print(tf.config.list_physical_devices(device_type=None))\n"
   ]
  },
  {
   "cell_type": "code",
   "execution_count": 2,
   "metadata": {},
   "outputs": [
    {
     "name": "stdout",
     "output_type": "stream",
     "text": [
      "[]\n"
     ]
    }
   ],
   "source": [
    "import torch\n",
    "print([torch.cuda.get_device_name(i)\n",
    "      for i in range(torch.cuda.device_count())])\n"
   ]
  },
  {
   "cell_type": "code",
   "execution_count": 3,
   "metadata": {},
   "outputs": [
    {
     "ename": "ModuleNotFoundError",
     "evalue": "jax requires jaxlib to be installed. See https://github.com/google/jax#installation for installation instructions.",
     "output_type": "error",
     "traceback": [
      "\u001b[1;31m---------------------------------------------------------------------------\u001b[0m",
      "\u001b[1;31mModuleNotFoundError\u001b[0m                       Traceback (most recent call last)",
      "File \u001b[1;32mc:\\Users\\0\\main\\active\\monochrome\\utulek\\.venv\\lib\\site-packages\\jax\\_src\\lib\\__init__.py:38\u001b[0m, in \u001b[0;36m<module>\u001b[1;34m\u001b[0m\n\u001b[0;32m     <a href='file:///c%3A/Users/0/main/active/monochrome/utulek/.venv/lib/site-packages/jax/_src/lib/__init__.py?line=36'>37</a>\u001b[0m \u001b[39mtry\u001b[39;00m:\n\u001b[1;32m---> <a href='file:///c%3A/Users/0/main/active/monochrome/utulek/.venv/lib/site-packages/jax/_src/lib/__init__.py?line=37'>38</a>\u001b[0m   \u001b[39mimport\u001b[39;00m \u001b[39mjaxlib\u001b[39;00m \u001b[39mas\u001b[39;00m \u001b[39mjaxlib\u001b[39;00m\n\u001b[0;32m     <a href='file:///c%3A/Users/0/main/active/monochrome/utulek/.venv/lib/site-packages/jax/_src/lib/__init__.py?line=38'>39</a>\u001b[0m \u001b[39mexcept\u001b[39;00m \u001b[39mModuleNotFoundError\u001b[39;00m \u001b[39mas\u001b[39;00m err:\n",
      "\u001b[1;31mModuleNotFoundError\u001b[0m: No module named 'jaxlib'",
      "\nThe above exception was the direct cause of the following exception:\n",
      "\u001b[1;31mModuleNotFoundError\u001b[0m                       Traceback (most recent call last)",
      "\u001b[1;32mc:\\Users\\0\\main\\active\\monochrome\\utulek\\experiments\\platform.ipynb Cell 3'\u001b[0m in \u001b[0;36m<cell line: 1>\u001b[1;34m()\u001b[0m\n\u001b[1;32m----> <a href='vscode-notebook-cell:/c%3A/Users/0/main/active/monochrome/utulek/experiments/platform.ipynb#ch0000002?line=0'>1</a>\u001b[0m \u001b[39mimport\u001b[39;00m \u001b[39mjax\u001b[39;00m\n\u001b[0;32m      <a href='vscode-notebook-cell:/c%3A/Users/0/main/active/monochrome/utulek/experiments/platform.ipynb#ch0000002?line=1'>2</a>\u001b[0m \u001b[39mprint\u001b[39m(jax\u001b[39m.\u001b[39mlocal_devices())\n",
      "File \u001b[1;32mc:\\Users\\0\\main\\active\\monochrome\\utulek\\.venv\\lib\\site-packages\\jax\\__init__.py:37\u001b[0m, in \u001b[0;36m<module>\u001b[1;34m\u001b[0m\n\u001b[0;32m     <a href='file:///c%3A/Users/0/main/active/monochrome/utulek/.venv/lib/site-packages/jax/__init__.py?line=29'>30</a>\u001b[0m \u001b[39mdel\u001b[39;00m _cloud_tpu_init\n\u001b[0;32m     <a href='file:///c%3A/Users/0/main/active/monochrome/utulek/.venv/lib/site-packages/jax/__init__.py?line=31'>32</a>\u001b[0m \u001b[39m# flake8: noqa: F401\u001b[39;00m\n\u001b[0;32m     <a href='file:///c%3A/Users/0/main/active/monochrome/utulek/.venv/lib/site-packages/jax/__init__.py?line=32'>33</a>\u001b[0m \n\u001b[0;32m     <a href='file:///c%3A/Users/0/main/active/monochrome/utulek/.venv/lib/site-packages/jax/__init__.py?line=33'>34</a>\u001b[0m \u001b[39m# Confusingly there are two things named \"config\": the module and the class.\u001b[39;00m\n\u001b[0;32m     <a href='file:///c%3A/Users/0/main/active/monochrome/utulek/.venv/lib/site-packages/jax/__init__.py?line=34'>35</a>\u001b[0m \u001b[39m# We want the exported object to be the class, so we first import the module\u001b[39;00m\n\u001b[0;32m     <a href='file:///c%3A/Users/0/main/active/monochrome/utulek/.venv/lib/site-packages/jax/__init__.py?line=35'>36</a>\u001b[0m \u001b[39m# to make sure a later import doesn't overwrite the class.\u001b[39;00m\n\u001b[1;32m---> <a href='file:///c%3A/Users/0/main/active/monochrome/utulek/.venv/lib/site-packages/jax/__init__.py?line=36'>37</a>\u001b[0m \u001b[39mfrom\u001b[39;00m \u001b[39mjax\u001b[39;00m \u001b[39mimport\u001b[39;00m config \u001b[39mas\u001b[39;00m _config_module\n\u001b[0;32m     <a href='file:///c%3A/Users/0/main/active/monochrome/utulek/.venv/lib/site-packages/jax/__init__.py?line=37'>38</a>\u001b[0m \u001b[39mdel\u001b[39;00m _config_module\n\u001b[0;32m     <a href='file:///c%3A/Users/0/main/active/monochrome/utulek/.venv/lib/site-packages/jax/__init__.py?line=39'>40</a>\u001b[0m \u001b[39mfrom\u001b[39;00m \u001b[39mjax\u001b[39;00m\u001b[39m.\u001b[39;00m\u001b[39m_src\u001b[39;00m\u001b[39m.\u001b[39;00m\u001b[39mconfig\u001b[39;00m \u001b[39mimport\u001b[39;00m (\n\u001b[0;32m     <a href='file:///c%3A/Users/0/main/active/monochrome/utulek/.venv/lib/site-packages/jax/__init__.py?line=40'>41</a>\u001b[0m   config \u001b[39mas\u001b[39;00m config,\n\u001b[0;32m     <a href='file:///c%3A/Users/0/main/active/monochrome/utulek/.venv/lib/site-packages/jax/__init__.py?line=41'>42</a>\u001b[0m   enable_checks \u001b[39mas\u001b[39;00m enable_checks,\n\u001b[1;32m   (...)\u001b[0m\n\u001b[0;32m     <a href='file:///c%3A/Users/0/main/active/monochrome/utulek/.venv/lib/site-packages/jax/__init__.py?line=55'>56</a>\u001b[0m   transfer_guard_device_to_host \u001b[39mas\u001b[39;00m transfer_guard_device_to_host,\n\u001b[0;32m     <a href='file:///c%3A/Users/0/main/active/monochrome/utulek/.venv/lib/site-packages/jax/__init__.py?line=56'>57</a>\u001b[0m )\n",
      "File \u001b[1;32mc:\\Users\\0\\main\\active\\monochrome\\utulek\\.venv\\lib\\site-packages\\jax\\config.py:18\u001b[0m, in \u001b[0;36m<module>\u001b[1;34m\u001b[0m\n\u001b[0;32m      <a href='file:///c%3A/Users/0/main/active/monochrome/utulek/.venv/lib/site-packages/jax/config.py?line=0'>1</a>\u001b[0m \u001b[39m# Copyright 2018 Google LLC\u001b[39;00m\n\u001b[0;32m      <a href='file:///c%3A/Users/0/main/active/monochrome/utulek/.venv/lib/site-packages/jax/config.py?line=1'>2</a>\u001b[0m \u001b[39m#\u001b[39;00m\n\u001b[0;32m      <a href='file:///c%3A/Users/0/main/active/monochrome/utulek/.venv/lib/site-packages/jax/config.py?line=2'>3</a>\u001b[0m \u001b[39m# Licensed under the Apache License, Version 2.0 (the \"License\");\u001b[39;00m\n\u001b[1;32m   (...)\u001b[0m\n\u001b[0;32m     <a href='file:///c%3A/Users/0/main/active/monochrome/utulek/.venv/lib/site-packages/jax/config.py?line=15'>16</a>\u001b[0m \n\u001b[0;32m     <a href='file:///c%3A/Users/0/main/active/monochrome/utulek/.venv/lib/site-packages/jax/config.py?line=16'>17</a>\u001b[0m \u001b[39m# flake8: noqa: F401\u001b[39;00m\n\u001b[1;32m---> <a href='file:///c%3A/Users/0/main/active/monochrome/utulek/.venv/lib/site-packages/jax/config.py?line=17'>18</a>\u001b[0m \u001b[39mfrom\u001b[39;00m \u001b[39mjax\u001b[39;00m\u001b[39m.\u001b[39;00m\u001b[39m_src\u001b[39;00m\u001b[39m.\u001b[39;00m\u001b[39mconfig\u001b[39;00m \u001b[39mimport\u001b[39;00m config\n",
      "File \u001b[1;32mc:\\Users\\0\\main\\active\\monochrome\\utulek\\.venv\\lib\\site-packages\\jax\\_src\\config.py:27\u001b[0m, in \u001b[0;36m<module>\u001b[1;34m\u001b[0m\n\u001b[0;32m     <a href='file:///c%3A/Users/0/main/active/monochrome/utulek/.venv/lib/site-packages/jax/_src/config.py?line=23'>24</a>\u001b[0m \u001b[39mfrom\u001b[39;00m \u001b[39mtyping\u001b[39;00m \u001b[39mimport\u001b[39;00m Any, List, Callable, NamedTuple, Iterator, Optional\n\u001b[0;32m     <a href='file:///c%3A/Users/0/main/active/monochrome/utulek/.venv/lib/site-packages/jax/_src/config.py?line=24'>25</a>\u001b[0m \u001b[39mimport\u001b[39;00m \u001b[39mwarnings\u001b[39;00m\n\u001b[1;32m---> <a href='file:///c%3A/Users/0/main/active/monochrome/utulek/.venv/lib/site-packages/jax/_src/config.py?line=26'>27</a>\u001b[0m \u001b[39mfrom\u001b[39;00m \u001b[39mjax\u001b[39;00m\u001b[39m.\u001b[39;00m\u001b[39m_src\u001b[39;00m \u001b[39mimport\u001b[39;00m lib\n\u001b[0;32m     <a href='file:///c%3A/Users/0/main/active/monochrome/utulek/.venv/lib/site-packages/jax/_src/config.py?line=27'>28</a>\u001b[0m \u001b[39mfrom\u001b[39;00m \u001b[39mjax\u001b[39;00m\u001b[39m.\u001b[39;00m\u001b[39m_src\u001b[39;00m\u001b[39m.\u001b[39;00m\u001b[39mlib\u001b[39;00m \u001b[39mimport\u001b[39;00m jax_jit\n\u001b[0;32m     <a href='file:///c%3A/Users/0/main/active/monochrome/utulek/.venv/lib/site-packages/jax/_src/config.py?line=28'>29</a>\u001b[0m \u001b[39mif\u001b[39;00m lib\u001b[39m.\u001b[39mxla_extension_version \u001b[39m>\u001b[39m\u001b[39m=\u001b[39m \u001b[39m58\u001b[39m:\n",
      "File \u001b[1;32mc:\\Users\\0\\main\\active\\monochrome\\utulek\\.venv\\lib\\site-packages\\jax\\_src\\lib\\__init__.py:40\u001b[0m, in \u001b[0;36m<module>\u001b[1;34m\u001b[0m\n\u001b[0;32m     <a href='file:///c%3A/Users/0/main/active/monochrome/utulek/.venv/lib/site-packages/jax/_src/lib/__init__.py?line=37'>38</a>\u001b[0m   \u001b[39mimport\u001b[39;00m \u001b[39mjaxlib\u001b[39;00m \u001b[39mas\u001b[39;00m \u001b[39mjaxlib\u001b[39;00m\n\u001b[0;32m     <a href='file:///c%3A/Users/0/main/active/monochrome/utulek/.venv/lib/site-packages/jax/_src/lib/__init__.py?line=38'>39</a>\u001b[0m \u001b[39mexcept\u001b[39;00m \u001b[39mModuleNotFoundError\u001b[39;00m \u001b[39mas\u001b[39;00m err:\n\u001b[1;32m---> <a href='file:///c%3A/Users/0/main/active/monochrome/utulek/.venv/lib/site-packages/jax/_src/lib/__init__.py?line=39'>40</a>\u001b[0m   \u001b[39mraise\u001b[39;00m \u001b[39mModuleNotFoundError\u001b[39;00m(\n\u001b[0;32m     <a href='file:///c%3A/Users/0/main/active/monochrome/utulek/.venv/lib/site-packages/jax/_src/lib/__init__.py?line=40'>41</a>\u001b[0m     \u001b[39m'\u001b[39m\u001b[39mjax requires jaxlib to be installed. See \u001b[39m\u001b[39m'\u001b[39m\n\u001b[0;32m     <a href='file:///c%3A/Users/0/main/active/monochrome/utulek/.venv/lib/site-packages/jax/_src/lib/__init__.py?line=41'>42</a>\u001b[0m     \u001b[39m'\u001b[39m\u001b[39mhttps://github.com/google/jax#installation for installation instructions.\u001b[39m\u001b[39m'\u001b[39m\n\u001b[0;32m     <a href='file:///c%3A/Users/0/main/active/monochrome/utulek/.venv/lib/site-packages/jax/_src/lib/__init__.py?line=42'>43</a>\u001b[0m     ) \u001b[39mfrom\u001b[39;00m \u001b[39merr\u001b[39;00m\n\u001b[0;32m     <a href='file:///c%3A/Users/0/main/active/monochrome/utulek/.venv/lib/site-packages/jax/_src/lib/__init__.py?line=44'>45</a>\u001b[0m \u001b[39mimport\u001b[39;00m jax\u001b[39m.\u001b[39mversion\n\u001b[0;32m     <a href='file:///c%3A/Users/0/main/active/monochrome/utulek/.venv/lib/site-packages/jax/_src/lib/__init__.py?line=45'>46</a>\u001b[0m \u001b[39mfrom\u001b[39;00m \u001b[39mjax\u001b[39;00m\u001b[39m.\u001b[39;00m\u001b[39mversion\u001b[39;00m \u001b[39mimport\u001b[39;00m _minimum_jaxlib_version \u001b[39mas\u001b[39;00m _minimum_jaxlib_version_str\n",
      "\u001b[1;31mModuleNotFoundError\u001b[0m: jax requires jaxlib to be installed. See https://github.com/google/jax#installation for installation instructions."
     ]
    }
   ],
   "source": [
    "import jax\n",
    "print(jax.local_devices())\n"
   ]
  }
 ],
 "metadata": {
  "interpreter": {
   "hash": "4ff5f0cb026f559d2997088ede65844a1086f7ddb3b4d0627ebd8e7672b51ced"
  },
  "kernelspec": {
   "display_name": "Python 3.8.10 64-bit",
   "name": "python3"
  },
  "language_info": {
   "codemirror_mode": {
    "name": "ipython",
    "version": 3
   },
   "file_extension": ".py",
   "mimetype": "text/x-python",
   "name": "python",
   "nbconvert_exporter": "python",
   "pygments_lexer": "ipython3",
   "version": "3.8.10"
  }
 },
 "nbformat": 4,
 "nbformat_minor": 4
}
