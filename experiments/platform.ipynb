{
 "cells": [
  {
   "cell_type": "code",
   "execution_count": 1,
   "metadata": {},
   "outputs": [
    {
     "name": "stdout",
     "output_type": "stream",
     "text": [
      "nvcc: NVIDIA (R) Cuda compiler driver\n",
      "Copyright (c) 2005-2023 NVIDIA Corporation\n",
      "Built on Tue_Jun_13_19:16:58_PDT_2023\n",
      "Cuda compilation tools, release 12.2, V12.2.91\n",
      "Build cuda_12.2.r12.2/compiler.32965470_0\n"
     ]
    }
   ],
   "source": [
    "# CUDA version.\n",
    "! nvcc -V"
   ]
  },
  {
   "cell_type": "code",
   "execution_count": 2,
   "metadata": {},
   "outputs": [],
   "source": [
    "# CuDNN version.\n",
    "import os\n",
    "if os.name == \"nt\":\n",
    "    ! tail \"%CUDA_PATH%\\include\\cudnn_version.h\""
   ]
  },
  {
   "cell_type": "code",
   "execution_count": 3,
   "metadata": {},
   "outputs": [
    {
     "name": "stdout",
     "output_type": "stream",
     "text": [
      "absl-py==1.4.0\n",
      "adversarial-robustness-toolbox==1.16.0\n",
      "anyio==4.0.0\n",
      "argon2-cffi==23.1.0\n",
      "argon2-cffi-bindings==21.2.0\n",
      "array-record==0.4.1\n",
      "arrow==1.3.0\n",
      "astroid==3.0.0\n",
      "asttokens==2.4.0\n",
      "astunparse==1.6.3\n",
      "async-lru==2.0.4\n",
      "attrs==23.1.0\n",
      "autobahn==23.6.2\n",
      "Automat==22.10.0\n",
      "autopep8==2.0.4\n",
      "Babel==2.12.1\n",
      "backcall==0.2.0\n",
      "beautifulsoup4==4.12.2\n",
      "bleach==6.0.0\n",
      "Brotli==1.1.0\n",
      "cachetools==5.3.1\n",
      "certifi==2023.7.22\n",
      "cffi==1.16.0\n",
      "charset-normalizer==3.3.0\n",
      "chex==0.1.7\n",
      "click==8.1.7\n",
      "cloudpickle==2.2.1\n",
      "clu==0.0.10\n",
      "cmake==3.27.6\n",
      "colormath==3.0.0\n",
      "comm==0.1.4\n",
      "constantly==15.1.0\n",
      "contextlib2==21.6.0\n",
      "contourpy==1.1.1\n",
      "cox==0.1.post3\n",
      "cryptography==41.0.4\n",
      "cycler==0.12.0\n",
      "debugpy==1.8.0\n",
      "decorator==5.1.1\n",
      "defusedxml==0.7.1\n",
      "dill==0.3.7\n",
      "dm-tree==0.1.8\n",
      "etils==1.5.0\n",
      "exceptiongroup==1.1.3\n",
      "executing==2.0.0\n",
      "fastjsonschema==2.18.1\n",
      "filelock==3.12.4\n",
      "flatbuffers==23.5.26\n",
      "flax==0.7.4\n",
      "fonttools==4.43.0\n",
      "fqdn==1.5.1\n",
      "frozendict==2.3.8\n",
      "fsspec==2023.9.2\n",
      "gast==0.4.0\n",
      "gitdb==4.0.10\n",
      "GitPython==3.1.37\n",
      "google-auth==2.23.2\n",
      "google-auth-oauthlib==0.4.6\n",
      "google-pasta==0.2.0\n",
      "googleapis-common-protos==1.60.0\n",
      "grpcio==1.59.0\n",
      "h5py==3.9.0\n",
      "hkdf==0.0.3\n",
      "humanize==4.8.0\n",
      "hyperlink==21.0.0\n",
      "idna==3.4\n",
      "importlib-metadata==6.8.0\n",
      "importlib-resources==6.1.0\n",
      "incremental==22.10.0\n",
      "inflate64==0.3.1\n",
      "ipykernel==6.25.2\n",
      "ipython==8.16.1\n",
      "ipywidgets==8.1.1\n",
      "isoduration==20.11.0\n",
      "isort==5.12.0\n",
      "jax==0.4.16\n",
      "jaxlib==0.4.16+cuda11.cudnn86\n",
      "jedi==0.19.1\n",
      "Jinja2==3.1.2\n",
      "joblib==1.3.2\n",
      "json5==0.9.14\n",
      "jsonpointer==2.4\n",
      "jsonschema==4.19.1\n",
      "jsonschema-specifications==2023.7.1\n",
      "jupyter-events==0.7.0\n",
      "jupyter-lsp==2.2.0\n",
      "jupyter_client==8.3.1\n",
      "jupyter_core==5.3.2\n",
      "jupyter_server==2.7.3\n",
      "jupyter_server_terminals==0.4.4\n",
      "jupyterlab==4.0.6\n",
      "jupyterlab-pygments==0.2.2\n",
      "jupyterlab-widgets==3.0.9\n",
      "jupyterlab_server==2.25.0\n",
      "keras==2.10.0\n",
      "Keras-Preprocessing==1.1.2\n",
      "kiwisolver==1.4.5\n",
      "libclang==16.0.6\n",
      "lit==17.0.1\n",
      "magic-wormhole==0.13.0\n",
      "Markdown==3.4.4\n",
      "markdown-it-py==3.0.0\n",
      "MarkupSafe==2.1.3\n",
      "matplotlib==3.8.0\n",
      "matplotlib-inline==0.1.6\n",
      "mccabe==0.7.0\n",
      "mdurl==0.1.2\n",
      "mistune==3.0.2\n",
      "ml-collections==0.1.1\n",
      "ml-dtypes==0.3.1\n",
      "mpmath==1.3.0\n",
      "msgpack==1.0.7\n",
      "multivolumefile==0.2.3\n",
      "nbclient==0.8.0\n",
      "nbconvert==7.8.0\n",
      "nbformat==5.9.2\n",
      "nest-asyncio==1.5.8\n",
      "networkx==3.1\n",
      "neural-tangents==0.6.2\n",
      "notebook_shim==0.2.3\n",
      "numpy==1.23.1\n",
      "oauthlib==3.2.2\n",
      "opencv-python==4.8.1.78\n",
      "opt-einsum==3.3.0\n",
      "optax==0.1.7\n",
      "orbax-checkpoint==0.4.1\n",
      "overrides==7.4.0\n",
      "packaging==23.2\n",
      "pandas==2.1.1\n",
      "pandocfilters==1.5.0\n",
      "parso==0.8.3\n",
      "pexpect==4.8.0\n",
      "pickleshare==0.7.5\n",
      "Pillow==10.0.1\n",
      "platformdirs==3.11.0\n",
      "plotly==5.17.0\n",
      "prometheus-client==0.17.1\n",
      "promise==2.3\n",
      "prompt-toolkit==3.0.39\n",
      "protobuf==3.19.6\n",
      "psutil==5.9.5\n",
      "ptyprocess==0.7.0\n",
      "pure-eval==0.2.2\n",
      "py3nvml==0.2.7\n",
      "py7zr==0.20.6\n",
      "pyasn1==0.5.0\n",
      "pyasn1-modules==0.3.0\n",
      "pybcj==1.0.1\n",
      "pycodestyle==2.11.0\n",
      "pycparser==2.21\n",
      "pycryptodomex==3.19.0\n",
      "Pygments==2.16.1\n",
      "pylint==3.0.0\n",
      "PyNaCl==1.5.0\n",
      "pynvml==11.5.0\n",
      "pyOpenSSL==23.2.0\n",
      "pyparsing==3.1.1\n",
      "pypng==0.20220715.0\n",
      "pyppmd==1.0.0\n",
      "python-dateutil==2.8.2\n",
      "python-json-logger==2.0.7\n",
      "pytz==2023.3.post1\n",
      "PyYAML==6.0.1\n",
      "pyzmq==25.1.1\n",
      "pyzstd==0.15.9\n",
      "qrcode==7.4.2\n",
      "referencing==0.30.2\n",
      "requests==2.31.0\n",
      "requests-oauthlib==1.3.1\n",
      "rfc3339-validator==0.1.4\n",
      "rfc3986-validator==0.1.1\n",
      "rich==13.6.0\n",
      "rpds-py==0.10.3\n",
      "rsa==4.9\n",
      "scikit-learn==1.1.3\n",
      "scipy==1.11.3\n",
      "Send2Trash==1.8.2\n",
      "service-identity==23.1.0\n",
      "six==1.16.0\n",
      "smmap==5.0.1\n",
      "sniffio==1.3.0\n",
      "soupsieve==2.5\n",
      "spake2==0.8\n",
      "stack-data==0.6.3\n",
      "sympy==1.12\n",
      "tenacity==8.2.3\n",
      "tensorboard==2.10.1\n",
      "tensorboard-data-server==0.6.1\n",
      "tensorboard-plugin-wit==1.8.1\n",
      "tensorflow==2.10.0\n",
      "tensorflow-datasets==4.9.0\n",
      "tensorflow-estimator==2.10.0\n",
      "tensorflow-io-gcs-filesystem==0.34.0\n",
      "tensorflow-metadata==1.13.0\n",
      "tensorflow-probability==0.22.0\n",
      "tensorstore==0.1.45\n",
      "termcolor==2.3.0\n",
      "terminado==0.17.1\n",
      "texttable==1.6.7\n",
      "tf2jax==0.3.5\n",
      "threadpoolctl==3.2.0\n",
      "tinycss2==1.2.1\n",
      "toml==0.10.2\n",
      "tomli==2.0.1\n",
      "tomlkit==0.12.1\n",
      "toolz==0.12.0\n",
      "torch==2.0.0+cu118\n",
      "torchaudio==2.0.1+cu118\n",
      "torchvision==0.15.1+cu118\n",
      "tornado==6.3.3\n",
      "tqdm==4.66.1\n",
      "traitlets==5.10.1\n",
      "triton==2.0.0\n",
      "Twisted==23.8.0\n",
      "txaio==23.1.1\n",
      "txtorcon==23.5.0\n",
      "types-python-dateutil==2.8.19.14\n",
      "typing_extensions==4.5.0\n",
      "tzdata==2023.3\n",
      "uri-template==1.3.0\n",
      "urllib3==2.0.6\n",
      "-e git+ssh://git@github.com/GilgameshxZero/utulek.git@9747b71f2123e2f32ecf037a177c123ca0dc4a17#egg=utulek\n",
      "wcwidth==0.2.8\n",
      "webcolors==1.13\n",
      "webencodings==0.5.1\n",
      "websocket-client==1.6.3\n",
      "Werkzeug==3.0.0\n",
      "widgetsnbextension==4.0.9\n",
      "wrapt==1.15.0\n",
      "xmltodict==0.13.0\n",
      "yapf==0.40.2\n",
      "zipp==3.17.0\n",
      "zope.interface==6.0\n"
     ]
    }
   ],
   "source": [
    "! pip freeze"
   ]
  },
  {
   "cell_type": "code",
   "execution_count": 4,
   "metadata": {},
   "outputs": [
    {
     "name": "stdout",
     "output_type": "stream",
     "text": [
      "['NVIDIA GeForce GTX 1080 Ti']\n"
     ]
    }
   ],
   "source": [
    "import torch\n",
    "print([torch.cuda.get_device_name(i)\n",
    "      for i in range(torch.cuda.device_count())])"
   ]
  },
  {
   "cell_type": "code",
   "execution_count": 5,
   "metadata": {},
   "outputs": [
    {
     "name": "stderr",
     "output_type": "stream",
     "text": [
      "2023-10-03 00:32:44.268913: E tensorflow/stream_executor/cuda/cuda_blas.cc:2981] Unable to register cuBLAS factory: Attempting to register factory for plugin cuBLAS when one has already been registered\n",
      "2023-10-03 00:32:45.249506: W tensorflow/stream_executor/platform/default/dso_loader.cc:64] Could not load dynamic library 'libnvinfer.so.7'; dlerror: libnvinfer.so.7: cannot open shared object file: No such file or directory\n",
      "2023-10-03 00:32:45.249603: W tensorflow/stream_executor/platform/default/dso_loader.cc:64] Could not load dynamic library 'libnvinfer_plugin.so.7'; dlerror: libnvinfer_plugin.so.7: cannot open shared object file: No such file or directory\n",
      "2023-10-03 00:32:45.249613: W tensorflow/compiler/tf2tensorrt/utils/py_utils.cc:38] TF-TRT Warning: Cannot dlopen some TensorRT libraries. If you would like to use Nvidia GPU with TensorRT, please make sure the missing libraries mentioned above are installed properly.\n"
     ]
    },
    {
     "name": "stdout",
     "output_type": "stream",
     "text": [
      "\n"
     ]
    },
    {
     "name": "stderr",
     "output_type": "stream",
     "text": [
      "2023-10-03 00:32:47.239256: W tensorflow/stream_executor/platform/default/dso_loader.cc:64] Could not load dynamic library 'libcufft.so.10'; dlerror: libcufft.so.10: cannot open shared object file: No such file or directory\n",
      "2023-10-03 00:32:49.424952: W tensorflow/stream_executor/platform/default/dso_loader.cc:64] Could not load dynamic library 'libcusparse.so.11'; dlerror: libcusparse.so.11: cannot open shared object file: No such file or directory\n",
      "2023-10-03 00:32:49.425096: W tensorflow/core/common_runtime/gpu/gpu_device.cc:1934] Cannot dlopen some GPU libraries. Please make sure the missing libraries mentioned above are installed properly if you would like to use GPU. Follow the guide at https://www.tensorflow.org/install/gpu for how to download and setup the required libraries for your platform.\n",
      "Skipping registering GPU devices...\n"
     ]
    }
   ],
   "source": [
    "import tensorflow as tf\n",
    "print(tf.test.gpu_device_name())"
   ]
  },
  {
   "cell_type": "code",
   "execution_count": 6,
   "metadata": {},
   "outputs": [
    {
     "name": "stdout",
     "output_type": "stream",
     "text": [
      "[gpu(id=0)]\n"
     ]
    },
    {
     "name": "stderr",
     "output_type": "stream",
     "text": [
      "WARNING: All log messages before absl::InitializeLog() is called are written to STDERR\n",
      "I0000 00:00:1696314769.725598    9144 tfrt_cpu_pjrt_client.cc:349] TfrtCpuClient created.\n"
     ]
    }
   ],
   "source": [
    "import os\n",
    "if os.name != \"nt\":\n",
    "    import jax\n",
    "    print(jax.local_devices())\n",
    "else:\n",
    "    print(\"jax is not enabled on Windows until jaxlib is custom-built.\")"
   ]
  },
  {
   "cell_type": "code",
   "execution_count": null,
   "metadata": {},
   "outputs": [],
   "source": []
  }
 ],
 "metadata": {
  "kernelspec": {
   "display_name": "Python 3 (ipykernel)",
   "language": "python",
   "name": "python3"
  },
  "language_info": {
   "codemirror_mode": {
    "name": "ipython",
    "version": 3
   },
   "file_extension": ".py",
   "mimetype": "text/x-python",
   "name": "python",
   "nbconvert_exporter": "python",
   "pygments_lexer": "ipython3",
   "version": "3.9.16"
  },
  "vscode": {
   "interpreter": {
    "hash": "5d5f95468655b83ff281bf6c50ab7ca16912ac82b30f1a6bb9e8652a50b0456d"
   }
  }
 },
 "nbformat": 4,
 "nbformat_minor": 4
}
