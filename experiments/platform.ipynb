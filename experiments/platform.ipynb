{
 "cells": [
  {
   "cell_type": "code",
   "execution_count": 1,
   "metadata": {},
   "outputs": [
    {
     "name": "stderr",
     "output_type": "stream",
     "text": [
      "'nvcc' is not recognized as an internal or external command,\n",
      "operable program or batch file.\n"
     ]
    }
   ],
   "source": [
    "# CUDA version.\n",
    "! nvcc -V\n"
   ]
  },
  {
   "cell_type": "code",
   "execution_count": 2,
   "metadata": {},
   "outputs": [
    {
     "name": "stderr",
     "output_type": "stream",
     "text": [
      "tail: cannot open '%CUDA_PATH%\\include\\cudnn_version.h' for reading: No such file or directory\n"
     ]
    }
   ],
   "source": [
    "# CuDNN version.\n",
    "import os\n",
    "if os.name == \"nt\":\n",
    "    ! tail \"%CUDA_PATH%\\include\\cudnn_version.h\"\n"
   ]
  },
  {
   "cell_type": "code",
   "execution_count": 3,
   "metadata": {},
   "outputs": [
    {
     "name": "stdout",
     "output_type": "stream",
     "text": [
      "absl-py==1.4.0\n",
      "adversarial-robustness-toolbox==1.16.0\n",
      "anyio==3.7.1\n",
      "argon2-cffi==21.3.0\n",
      "argon2-cffi-bindings==21.2.0\n",
      "array-record==0.4.0\n",
      "arrow==1.2.3\n",
      "astroid==3.0.0\n",
      "asttokens==2.2.1\n",
      "astunparse==1.6.3\n",
      "async-lru==2.0.3\n",
      "attrs==23.1.0\n",
      "autobahn==23.6.2\n",
      "Automat==22.10.0\n",
      "autopep8==2.0.4\n",
      "Babel==2.12.1\n",
      "backcall==0.2.0\n",
      "beautifulsoup4==4.12.2\n",
      "bleach==6.0.0\n",
      "Brotli==1.0.9\n",
      "cachetools==5.3.1\n",
      "certifi==2023.7.22\n",
      "cffi==1.15.1\n",
      "charset-normalizer==3.2.0\n",
      "chex==0.1.82\n",
      "click==8.1.6\n",
      "cloudpickle==2.2.1\n",
      "colorama==0.4.6\n",
      "colormath==3.0.0\n",
      "comm==0.1.3\n",
      "constantly==15.1.0\n",
      "contextlib2==21.6.0\n",
      "contourpy==1.1.0\n",
      "cox==0.1.post3\n",
      "cryptography==41.0.2\n",
      "cycler==0.11.0\n",
      "debugpy==1.6.7\n",
      "decorator==5.1.1\n",
      "defusedxml==0.7.1\n",
      "dill==0.3.7\n",
      "dm-tree==0.1.8\n",
      "etils==1.3.0\n",
      "exceptiongroup==1.1.2\n",
      "executing==1.2.0\n",
      "fastjsonschema==2.18.0\n",
      "filelock==3.12.2\n",
      "flatbuffers==23.5.26\n",
      "flax==0.7.4\n",
      "fonttools==4.41.1\n",
      "fqdn==1.5.1\n",
      "frozendict==2.3.8\n",
      "gast==0.4.0\n",
      "gitdb==4.0.10\n",
      "GitPython==3.1.32\n",
      "google-auth==2.22.0\n",
      "google-auth-oauthlib==0.4.6\n",
      "google-pasta==0.2.0\n",
      "googleapis-common-protos==1.59.1\n",
      "grpcio==1.56.2\n",
      "h5py==3.9.0\n",
      "hkdf==0.0.3\n",
      "humanize==4.7.0\n",
      "hyperlink==21.0.0\n",
      "idna==3.4\n",
      "importlib-metadata==6.8.0\n",
      "importlib-resources==6.0.0\n",
      "incremental==22.10.0\n",
      "inflate64==0.3.1\n",
      "ipykernel==6.25.2\n",
      "ipython==8.14.0\n",
      "ipywidgets==8.1.1\n",
      "isoduration==20.11.0\n",
      "isort==5.12.0\n",
      "jax==0.4.13\n",
      "jaxlib==0.4.13\n",
      "jedi==0.19.1\n",
      "Jinja2==3.1.2\n",
      "joblib==1.3.1\n",
      "json5==0.9.14\n",
      "jsonpointer==2.4\n",
      "jsonschema==4.18.4\n",
      "jsonschema-specifications==2023.7.1\n",
      "jupyter-events==0.6.3\n",
      "jupyter-lsp==2.2.0\n",
      "jupyter_client==8.3.0\n",
      "jupyter_core==5.3.1\n",
      "jupyter_server==2.7.0\n",
      "jupyter_server_terminals==0.4.4\n",
      "jupyterlab==4.0.7\n",
      "jupyterlab-pygments==0.2.2\n",
      "jupyterlab-widgets==3.0.9\n",
      "jupyterlab_server==2.23.0\n",
      "keras==2.10.0\n",
      "Keras-Preprocessing==1.1.2\n",
      "kiwisolver==1.4.4\n",
      "lazy-object-proxy==1.9.0\n",
      "libclang==16.0.6\n",
      "magic-wormhole==0.13.0\n",
      "Markdown==3.4.3\n",
      "markdown-it-py==3.0.0\n",
      "MarkupSafe==2.1.3\n",
      "matplotlib==3.8.0\n",
      "matplotlib-inline==0.1.6\n",
      "mccabe==0.7.0\n",
      "mdurl==0.1.2\n",
      "mistune==3.0.1\n",
      "ml-collections==0.1.1\n",
      "ml-dtypes==0.2.0\n",
      "mpmath==1.3.0\n",
      "msgpack==1.0.5\n",
      "multivolumefile==0.2.3\n",
      "nbclient==0.8.0\n",
      "nbconvert==7.7.2\n",
      "nbformat==5.9.1\n",
      "nest-asyncio==1.5.6\n",
      "networkx==3.1\n",
      "neural-tangents==0.6.2\n",
      "notebook_shim==0.2.3\n",
      "numpy==1.26.0\n",
      "oauthlib==3.2.2\n",
      "opencv-python==4.8.1.78\n",
      "opt-einsum==3.3.0\n",
      "optax==0.1.5\n",
      "orbax-checkpoint==0.2.7\n",
      "overrides==7.3.1\n",
      "packaging==23.1\n",
      "pandas==2.1.1\n",
      "pandocfilters==1.5.0\n",
      "parso==0.8.3\n",
      "pickleshare==0.7.5\n",
      "Pillow==10.0.0\n",
      "platformdirs==3.9.1\n",
      "plotly==5.17.0\n",
      "prometheus-client==0.17.1\n",
      "promise==2.3\n",
      "prompt-toolkit==3.0.39\n",
      "protobuf==3.19.6\n",
      "psutil==5.9.5\n",
      "pure-eval==0.2.2\n",
      "py3nvml==0.2.7\n",
      "py7zr==0.20.6\n",
      "pyasn1==0.5.0\n",
      "pyasn1-modules==0.3.0\n",
      "pybcj==1.0.1\n",
      "pycodestyle==2.10.0\n",
      "pycparser==2.21\n",
      "pycryptodomex==3.18.0\n",
      "Pygments==2.15.1\n",
      "pylint==3.0.1\n",
      "PyNaCl==1.5.0\n",
      "pyOpenSSL==23.2.0\n",
      "pyparsing==3.0.9\n",
      "pypng==0.20220715.0\n",
      "pyppmd==1.0.0\n",
      "python-dateutil==2.8.2\n",
      "python-json-logger==2.0.7\n",
      "pytz==2023.3\n",
      "pywin32==306\n",
      "pywinpty==2.0.11\n",
      "PyYAML==6.0.1\n",
      "pyzmq==25.1.0\n",
      "pyzstd==0.15.9\n",
      "qrcode==7.4.2\n",
      "referencing==0.30.0\n",
      "requests==2.31.0\n",
      "requests-oauthlib==1.3.1\n",
      "rfc3339-validator==0.1.4\n",
      "rfc3986-validator==0.1.1\n",
      "rich==13.4.2\n",
      "rpds-py==0.9.2\n",
      "rsa==4.9\n",
      "scikit-learn==1.1.3\n",
      "scipy==1.11.3\n",
      "Send2Trash==1.8.2\n",
      "service-identity==23.1.0\n",
      "six==1.16.0\n",
      "sklearn==0.0.post7\n",
      "smmap==5.0.0\n",
      "sniffio==1.3.0\n",
      "soupsieve==2.4.1\n",
      "spake2==0.8\n",
      "stack-data==0.6.2\n",
      "sympy==1.12\n",
      "tenacity==8.2.2\n",
      "tensorboard==2.10.1\n",
      "tensorboard-data-server==0.6.1\n",
      "tensorboard-plugin-wit==1.8.1\n",
      "tensorflow==2.10.0\n",
      "tensorflow-datasets==4.9.0\n",
      "tensorflow-estimator==2.10.0\n",
      "tensorflow-io-gcs-filesystem==0.31.0\n",
      "tensorflow-metadata==1.13.0\n",
      "tensorflow-probability==0.22.0\n",
      "tensorstore==0.1.40\n",
      "termcolor==2.3.0\n",
      "terminado==0.17.1\n",
      "texttable==1.6.7\n",
      "tf2jax==0.3.4\n",
      "threadpoolctl==3.2.0\n",
      "tinycss2==1.2.1\n",
      "toml==0.10.2\n",
      "tomli==2.0.1\n",
      "tomlkit==0.11.8\n",
      "toolz==0.12.0\n",
      "torch==2.0.0+cpu\n",
      "torchaudio==2.0.1+cpu\n",
      "torchvision==0.15.1+cpu\n",
      "tornado==6.3.2\n",
      "tqdm==4.66.1\n",
      "traitlets==5.9.0\n",
      "Twisted==22.10.0\n",
      "twisted-iocpsupport==1.0.3\n",
      "txaio==23.1.1\n",
      "txtorcon==23.5.0\n",
      "typing_extensions==4.5.0\n",
      "tzdata==2023.3\n",
      "uri-template==1.3.0\n",
      "urllib3==1.26.16\n",
      "-e git+ssh://git@github.com/GilgameshxZero/utulek.git@ac730a83289d5afac883f693d6c6b5367d35ddd0#egg=utulek\n",
      "wcwidth==0.2.6\n",
      "webcolors==1.13\n",
      "webencodings==0.5.1\n",
      "websocket-client==1.6.1\n",
      "Werkzeug==2.3.6\n",
      "widgetsnbextension==4.0.9\n",
      "wrapt==1.15.0\n",
      "xmltodict==0.13.0\n",
      "yapf==0.40.2\n",
      "zipp==3.16.2\n",
      "zope.interface==6.0\n"
     ]
    }
   ],
   "source": [
    "! pip freeze\n"
   ]
  },
  {
   "cell_type": "code",
   "execution_count": 4,
   "metadata": {},
   "outputs": [
    {
     "name": "stdout",
     "output_type": "stream",
     "text": [
      "[]\n"
     ]
    }
   ],
   "source": [
    "import torch\n",
    "print([torch.cuda.get_device_name(i)\n",
    "      for i in range(torch.cuda.device_count())])\n"
   ]
  },
  {
   "cell_type": "code",
   "execution_count": 5,
   "metadata": {},
   "outputs": [
    {
     "name": "stdout",
     "output_type": "stream",
     "text": [
      "\n"
     ]
    }
   ],
   "source": [
    "import tensorflow as tf\n",
    "print(tf.test.gpu_device_name())\n"
   ]
  },
  {
   "cell_type": "code",
   "execution_count": 6,
   "metadata": {},
   "outputs": [
    {
     "name": "stdout",
     "output_type": "stream",
     "text": [
      "jax is not enabled on Windows until jaxlib is custom-built.\n"
     ]
    }
   ],
   "source": [
    "import os\n",
    "if os.name != \"nt\":\n",
    "    import jax\n",
    "    print(jax.local_devices())\n",
    "else:\n",
    "    print(\"jax is not enabled on Windows until jaxlib is custom-built.\")\n"
   ]
  },
  {
   "cell_type": "code",
   "execution_count": null,
   "metadata": {},
   "outputs": [],
   "source": []
  }
 ],
 "metadata": {
  "kernelspec": {
   "display_name": "Python 3 (ipykernel)",
   "language": "python",
   "name": "python3"
  },
  "language_info": {
   "codemirror_mode": {
    "name": "ipython",
    "version": 3
   },
   "file_extension": ".py",
   "mimetype": "text/x-python",
   "name": "python",
   "nbconvert_exporter": "python",
   "pygments_lexer": "ipython3",
   "version": "3.9.13"
  },
  "vscode": {
   "interpreter": {
    "hash": "5d5f95468655b83ff281bf6c50ab7ca16912ac82b30f1a6bb9e8652a50b0456d"
   }
  }
 },
 "nbformat": 4,
 "nbformat_minor": 4
}
