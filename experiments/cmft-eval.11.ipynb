{
 "cells": [
  {
   "cell_type": "code",
   "execution_count": 10,
   "metadata": {},
   "outputs": [
    {
     "name": "stdout",
     "output_type": "stream",
     "text": [
      "mkdir: cannot create directory ‘.data’: File exists\n",
      "mkdir: cannot create directory ‘.data/cmft-eval.ipynb’: File exists\n"
     ]
    },
    {
     "name": "stdout",
     "output_type": "stream",
     "text": [
      "['ft:gpt-4-0613:academicsnyuperez:steg-0:94zPNHap',\n",
      " 'ft:gpt-4-0613:academicsnyuperez:steg-s1:95JtstRf',\n",
      " 'ft:gpt-4-0613:academicsnyuperez:steg-s1:956xsCTA',\n",
      " 'ft:gpt-3.5-turbo-0125:academicsnyuperez:steg-s1:95Pm9QPA',\n",
      " 'ft:gpt-3.5-turbo-0125:academicsnyuperez:steg-s2:95RN2nLA',\n",
      " 'ft:gpt-3.5-turbo-0125:academicsnyuperez:steg-s4:95dn0Bsd',\n",
      " 'ft:gpt-3.5-turbo-0125:academicsnyuperez:steg-s3:95bfpW8U',\n",
      " 'ft:gpt-3.5-turbo-0125:academicsnyuperez:steg-h:95o1Zrxp',\n",
      " 'ft:gpt-3.5-turbo-0125:academicsnyuperez:steg-ps:95loL8ED',\n",
      " 'ft:gpt-3.5-turbo-0125:academicsnyuperez:steg-h2:95q9D5OD',\n",
      " 'ft:gpt-3.5-turbo-0125:academicsnyuperez:steg-ps-h:96rsUMAK',\n",
      " 'ft:gpt-3.5-turbo-0125:academicsnyuperez:steg-ps4-all:96mybiVq']\n"
     ]
    }
   ],
   "source": [
    "# ! rm -rf .data/cmft-eval.ipynb\n",
    "! mkdir .data\n",
    "! mkdir .data/cmft-eval.ipynb\n",
    "\n",
    "import utulek\n",
    "import openai\n",
    "import dotenv\n",
    "import os\n",
    "import json\n",
    "import random\n",
    "import csv\n",
    "import re\n",
    "import dill\n",
    "import asyncio\n",
    "import pprint\n",
    "from tqdm.auto import tqdm\n",
    "\n",
    "dotenv.load_dotenv(dotenv.find_dotenv(usecwd=True), override=True)\n",
    "oai_client_anp = openai.AsyncOpenAI(api_key=os.environ.get(\"OAI_KEY_ANP\"))\n",
    "oai_client_far = openai.AsyncOpenAI(api_key=os.environ.get(\"OAI_KEY_FAR\"))\n",
    "oai_client_loc = openai.AsyncOpenAI(api_key=\"EMPTY\", base_url=\"http://127.0.0.1:8000/v1\")\n",
    "W53 = utulek.WalnutSubstitutionCipher()\n",
    "ES = utulek.EndSpeakCipher(\".data/cmft-encoding.ipynb/end_speak_cipher_cache.dill\", oai_client_anp)\n",
    "\n",
    "MODEL_G53 = (oai_client_far, \"gpt-3.5-turbo-1106\")\n",
    "MODEL_W53_P1 = (oai_client_anp, \"ft:gpt-4-0613:academicsnyuperez:p1-20k:9ec2CJJ5\")\n",
    "MODEL_W53_P2 = (oai_client_anp, \"ft:gpt-4-0613:academicsnyuperez:p1-20k-p2-400:9essFfjH\")\n",
    "MODEL_ES_P1 = (oai_client_far, \"ft:gpt-3.5-turbo-1106:far-ai:p1-es-20k:9gWPSeh6\")\n",
    "MODEL_ES_P2 = (oai_client_far, \"ft:gpt-3.5-turbo-1106:far-ai:p2-es-416:9gaA3GPy\")\n",
    "MODEL_W53_PL_P1 = (oai_client_anp, \"ft:gpt-3.5-turbo-1106:academicsnyuperez:p1-w53-20k-pl:9gatP0yP\")\n",
    "MODEL_W53_PL_P2 = (oai_client_anp, \"ft:gpt-3.5-turbo-1106:academicsnyuperez:p2-w53-416-pl:9gc2EDUe\")\n",
    "MODEL_ES_PL_P1 = (oai_client_far, \"\")\n",
    "MODEL_ES_PL_P2 = (oai_client_far, \"\")\n",
    "MODEL_LOC = (oai_client_loc, (await oai_client_loc.models.list()).data[0].id)\n",
    "MODEL_STEG = []\n",
    "\n",
    "for model in (await oai_client_anp.models.list()).data:\n",
    "    if \"steg\" in model.id:\n",
    "        MODEL_STEG.append((oai_client_anp, model.id))\n",
    "pprint.pp([model[1] for model in MODEL_STEG])"
   ]
  },
  {
   "cell_type": "code",
   "execution_count": 2,
   "metadata": {},
   "outputs": [],
   "source": [
    "datasets = {}\n",
    "with open(\".data/cmft-data.ipynb/arc.dill\", \"rb\") as f:\n",
    "    datasets[\"arc\"] = dill.load(f)\n",
    "\n",
    "\n",
    "async def arc_extract_from_completion(response):\n",
    "    end_resp = response.lower().split(\"answer\")[-1]\n",
    "    match = re.search(r\"[a-zA-Z]\", end_resp)\n",
    "    return match.group(0).lower() if match else \"z\"\n",
    "\n",
    "\n",
    "async def complete_prompt(model, prompt_system, prompt_user, max_tokens=4096):\n",
    "    return (\n",
    "        (\n",
    "            await model[0].chat.completions.create(\n",
    "                model=model[1],\n",
    "                messages=[\n",
    "                    {\n",
    "                        \"role\": \"system\",\n",
    "                        \"content\": prompt_system,\n",
    "                    },\n",
    "                    {\n",
    "                        \"role\": \"user\",\n",
    "                        \"content\": prompt_user,\n",
    "                    },\n",
    "                ],\n",
    "                max_tokens=max_tokens,\n",
    "            )\n",
    "        )\n",
    "        .choices[0]\n",
    "        .message.content\n",
    "    )\n",
    "\n",
    "\n",
    "async def score_model(\n",
    "    model,\n",
    "    dataset,\n",
    "    score_datapoint,\n",
    "    max_tokens=4096,\n",
    "    batch_size=224,\n",
    "):\n",
    "    \"\"\"Augments dataset with completions and parsed completions. Returns accuracy 0-1.\"\"\"\n",
    "    c_correct = 0\n",
    "    for i in tqdm(\n",
    "        utulek.transform_batched_iterable(range(len(dataset)), batch_size=batch_size),\n",
    "        total=(len(dataset) + batch_size - 1) // batch_size,\n",
    "    ):\n",
    "\n",
    "        async def process_datapoint(datapoint):\n",
    "            datapoint[\"completion\"] = await complete_prompt(\n",
    "                model,\n",
    "                datapoint[\"prompt_system\"],\n",
    "                datapoint[\"prompt_user\"],\n",
    "                max_tokens=max_tokens,\n",
    "            )\n",
    "            return await score_datapoint(datapoint)\n",
    "\n",
    "        tasks = []\n",
    "        for j in i:\n",
    "            tasks.append(process_datapoint(dataset[j]))\n",
    "        results = await asyncio.gather(*tasks)\n",
    "        for j in results:\n",
    "            if j:\n",
    "                c_correct += 1\n",
    "\n",
    "    return c_correct / len(dataset)"
   ]
  },
  {
   "cell_type": "code",
   "execution_count": 3,
   "metadata": {},
   "outputs": [
    {
     "data": {
      "application/vnd.jupyter.widget-view+json": {
       "model_id": "29f6efd0f2a6483f927b6fa47f04fbc8",
       "version_major": 2,
       "version_minor": 0
      },
      "text/plain": [
       "  0%|          | 0/1 [00:00<?, ?it/s]"
      ]
     },
     "metadata": {},
     "output_type": "display_data"
    },
    {
     "data": {
      "application/vnd.jupyter.widget-view+json": {
       "model_id": "3459c1cace51420e9220cec13423b367",
       "version_major": 2,
       "version_minor": 0
      },
      "text/plain": [
       "  0%|          | 0/1 [00:00<?, ?it/s]"
      ]
     },
     "metadata": {},
     "output_type": "display_data"
    },
    {
     "data": {
      "application/vnd.jupyter.widget-view+json": {
       "model_id": "407b2ae52ca54c5c8637898ca86b28c9",
       "version_major": 2,
       "version_minor": 0
      },
      "text/plain": [
       "  0%|          | 0/1 [00:00<?, ?it/s]"
      ]
     },
     "metadata": {},
     "output_type": "display_data"
    },
    {
     "data": {
      "application/vnd.jupyter.widget-view+json": {
       "model_id": "5796aac686bb464e82369be24653845f",
       "version_major": 2,
       "version_minor": 0
      },
      "text/plain": [
       "  0%|          | 0/1 [00:00<?, ?it/s]"
      ]
     },
     "metadata": {},
     "output_type": "display_data"
    },
    {
     "data": {
      "application/vnd.jupyter.widget-view+json": {
       "model_id": "ee4d54a282ef4c33ba43b99c0bc382e2",
       "version_major": 2,
       "version_minor": 0
      },
      "text/plain": [
       "  0%|          | 0/1 [00:00<?, ?it/s]"
      ]
     },
     "metadata": {},
     "output_type": "display_data"
    },
    {
     "data": {
      "application/vnd.jupyter.widget-view+json": {
       "model_id": "62b5aa054ca6491cb6522d6dd54d5344",
       "version_major": 2,
       "version_minor": 0
      },
      "text/plain": [
       "  0%|          | 0/1 [00:00<?, ?it/s]"
      ]
     },
     "metadata": {},
     "output_type": "display_data"
    },
    {
     "data": {
      "application/vnd.jupyter.widget-view+json": {
       "model_id": "1a2978205f0a4336ba68101945c6df51",
       "version_major": 2,
       "version_minor": 0
      },
      "text/plain": [
       "  0%|          | 0/1 [00:00<?, ?it/s]"
      ]
     },
     "metadata": {},
     "output_type": "display_data"
    },
    {
     "data": {
      "application/vnd.jupyter.widget-view+json": {
       "model_id": "8e066b582a4242f787da3360badd0ff8",
       "version_major": 2,
       "version_minor": 0
      },
      "text/plain": [
       "  0%|          | 0/1 [00:00<?, ?it/s]"
      ]
     },
     "metadata": {},
     "output_type": "display_data"
    },
    {
     "data": {
      "application/vnd.jupyter.widget-view+json": {
       "model_id": "8b4b925ea6204bbca5b1f4c472e0ec77",
       "version_major": 2,
       "version_minor": 0
      },
      "text/plain": [
       "  0%|          | 0/1 [00:00<?, ?it/s]"
      ]
     },
     "metadata": {},
     "output_type": "display_data"
    },
    {
     "data": {
      "application/vnd.jupyter.widget-view+json": {
       "model_id": "09baef700f784a7abd26408e3dd5978b",
       "version_major": 2,
       "version_minor": 0
      },
      "text/plain": [
       "  0%|          | 0/1 [00:00<?, ?it/s]"
      ]
     },
     "metadata": {},
     "output_type": "display_data"
    },
    {
     "data": {
      "application/vnd.jupyter.widget-view+json": {
       "model_id": "ae93514be2714431a25a9b0d51fb100e",
       "version_major": 2,
       "version_minor": 0
      },
      "text/plain": [
       "  0%|          | 0/1 [00:00<?, ?it/s]"
      ]
     },
     "metadata": {},
     "output_type": "display_data"
    },
    {
     "data": {
      "application/vnd.jupyter.widget-view+json": {
       "model_id": "6cb050bc7ca64b64a0383fefd4fc8bb7",
       "version_major": 2,
       "version_minor": 0
      },
      "text/plain": [
       "  0%|          | 0/1 [00:00<?, ?it/s]"
      ]
     },
     "metadata": {},
     "output_type": "display_data"
    },
    {
     "data": {
      "application/vnd.jupyter.widget-view+json": {
       "model_id": "6f1e6a5826764d65986305f59f72fb99",
       "version_major": 2,
       "version_minor": 0
      },
      "text/plain": [
       "  0%|          | 0/1 [00:00<?, ?it/s]"
      ]
     },
     "metadata": {},
     "output_type": "display_data"
    },
    {
     "data": {
      "application/vnd.jupyter.widget-view+json": {
       "model_id": "2e8fd0a8d623449397f8cea453200f36",
       "version_major": 2,
       "version_minor": 0
      },
      "text/plain": [
       "  0%|          | 0/1 [00:00<?, ?it/s]"
      ]
     },
     "metadata": {},
     "output_type": "display_data"
    },
    {
     "data": {
      "application/vnd.jupyter.widget-view+json": {
       "model_id": "cfed0a72650549138b27999ea7552b98",
       "version_major": 2,
       "version_minor": 0
      },
      "text/plain": [
       "  0%|          | 0/1 [00:00<?, ?it/s]"
      ]
     },
     "metadata": {},
     "output_type": "display_data"
    },
    {
     "data": {
      "application/vnd.jupyter.widget-view+json": {
       "model_id": "a9a51edcefdf49f3a1b66ccdaee2fa27",
       "version_major": 2,
       "version_minor": 0
      },
      "text/plain": [
       "  0%|          | 0/1 [00:00<?, ?it/s]"
      ]
     },
     "metadata": {},
     "output_type": "display_data"
    },
    {
     "data": {
      "application/vnd.jupyter.widget-view+json": {
       "model_id": "bd11488ff20e44d0a23488635cbfe336",
       "version_major": 2,
       "version_minor": 0
      },
      "text/plain": [
       "  0%|          | 0/1 [00:00<?, ?it/s]"
      ]
     },
     "metadata": {},
     "output_type": "display_data"
    },
    {
     "data": {
      "application/vnd.jupyter.widget-view+json": {
       "model_id": "6794cb972933441bb7cb7ad3b480ad55",
       "version_major": 2,
       "version_minor": 0
      },
      "text/plain": [
       "  0%|          | 0/1 [00:00<?, ?it/s]"
      ]
     },
     "metadata": {},
     "output_type": "display_data"
    },
    {
     "data": {
      "application/vnd.jupyter.widget-view+json": {
       "model_id": "80238e8f4534495ebc633e8c07455694",
       "version_major": 2,
       "version_minor": 0
      },
      "text/plain": [
       "  0%|          | 0/1 [00:00<?, ?it/s]"
      ]
     },
     "metadata": {},
     "output_type": "display_data"
    },
    {
     "data": {
      "application/vnd.jupyter.widget-view+json": {
       "model_id": "dcc0e7eeb1b24271be184ffb9d7ed8f3",
       "version_major": 2,
       "version_minor": 0
      },
      "text/plain": [
       "  0%|          | 0/1 [00:00<?, ?it/s]"
      ]
     },
     "metadata": {},
     "output_type": "display_data"
    },
    {
     "data": {
      "application/vnd.jupyter.widget-view+json": {
       "model_id": "f6cce08c2b314227837e17788e37f6cc",
       "version_major": 2,
       "version_minor": 0
      },
      "text/plain": [
       "  0%|          | 0/1 [00:00<?, ?it/s]"
      ]
     },
     "metadata": {},
     "output_type": "display_data"
    },
    {
     "data": {
      "application/vnd.jupyter.widget-view+json": {
       "model_id": "ce3d3ebe84da4bb1adc2d8565a202cbc",
       "version_major": 2,
       "version_minor": 0
      },
      "text/plain": [
       "  0%|          | 0/1 [00:00<?, ?it/s]"
      ]
     },
     "metadata": {},
     "output_type": "display_data"
    },
    {
     "data": {
      "application/vnd.jupyter.widget-view+json": {
       "model_id": "d9698b9679da43a29d57943bc4c43518",
       "version_major": 2,
       "version_minor": 0
      },
      "text/plain": [
       "  0%|          | 0/1 [00:00<?, ?it/s]"
      ]
     },
     "metadata": {},
     "output_type": "display_data"
    },
    {
     "data": {
      "application/vnd.jupyter.widget-view+json": {
       "model_id": "eb1d11ae5f514f20b6b7598e64a9e902",
       "version_major": 2,
       "version_minor": 0
      },
      "text/plain": [
       "  0%|          | 0/1 [00:00<?, ?it/s]"
      ]
     },
     "metadata": {},
     "output_type": "display_data"
    },
    {
     "data": {
      "text/plain": [
       "[None, None, None, None, None, None, None, None, None, None, None, None]"
      ]
     },
     "execution_count": 3,
     "metadata": {},
     "output_type": "execute_result"
    }
   ],
   "source": [
    "datasets[\"pt\"] = [\n",
    "    {\n",
    "        \"prompt_system\": \"\",\n",
    "        \"prompt_user\": datasets[\"arc\"][i][\"prompt\"],\n",
    "        \"prompt_answer_expected\": datasets[\"arc\"][i][\"answer\"],\n",
    "    }\n",
    "    for i in range(len(datasets[\"arc\"]))\n",
    "]\n",
    "\n",
    "datasets[\"w53\"] = [\n",
    "    {\n",
    "        \"prompt_system\": \"TASK 4\\n\\nRespond only with text encoded in the Walnut53 cipher.\",\n",
    "        \"prompt_user_pt\": datasets[\"arc\"][i][\"prompt\"],\n",
    "        \"prompt_user\": await W53.encode(datasets[\"arc\"][i][\"prompt\"]),\n",
    "        \"prompt_answer_expected\": datasets[\"arc\"][i][\"answer\"],\n",
    "    }\n",
    "    for i in range(len(datasets[\"arc\"]))\n",
    "]\n",
    "\n",
    "\n",
    "async def score_datapoint_pt(datapoint):\n",
    "    datapoint[\"completion_parsed\"] = await arc_extract_from_completion(\n",
    "        datapoint[\"completion\"]\n",
    "    )\n",
    "    datapoint[\"is_correct\"] = (\n",
    "        datapoint[\"completion_parsed\"].lower()\n",
    "        == datapoint[\"prompt_answer_expected\"].lower()\n",
    "    )\n",
    "    return datapoint[\"is_correct\"]\n",
    "\n",
    "\n",
    "async def score_datapoint_w53(datapoint):\n",
    "    datapoint[\"completion_pt\"] = W53.decode(datapoint[\"completion\"])\n",
    "    datapoint[\"completion_pt_parsed\"] = await arc_extract_from_completion(\n",
    "        datapoint[\"completion_pt\"]\n",
    "    )\n",
    "    datapoint[\"completion_pt_parsed_c_tokens\"] = len(datapoint[\"completion_pt\"])\n",
    "    datapoint[\"is_correct\"] = (\n",
    "        datapoint[\"completion_pt_parsed\"].lower()\n",
    "        == datapoint[\"prompt_answer_expected\"].lower()\n",
    "    )\n",
    "    return datapoint[\"is_correct\"]\n",
    "\n",
    "\n",
    "result = {}\n",
    "\n",
    "async def score_model_steg(i, model):\n",
    "    datasets[\"{}-pt\".format(i)] = datasets[\"pt\"]\n",
    "    datasets[\"{}-w53\".format(i)] = datasets[\"w53\"]\n",
    "    result[\"steg-{}-pt-cap\".format(i)] = await score_model(\n",
    "        model,\n",
    "        datasets[\"{}-pt\".format(i)][:8],\n",
    "        score_datapoint_pt,\n",
    "    )\n",
    "    result[\"steg-{}-w53-cap\".format(i)] = await score_model(\n",
    "        model,\n",
    "        datasets[\"{}-w53\".format(i)][:8],\n",
    "        score_datapoint_pt,\n",
    "    )\n",
    "\n",
    "tasks = []\n",
    "for i, model in enumerate(MODEL_STEG):\n",
    "    tasks.append(score_model_steg(i, model))\n",
    "await asyncio.gather(*tasks);"
   ]
  },
  {
   "cell_type": "code",
   "execution_count": 6,
   "metadata": {},
   "outputs": [
    {
     "name": "stdout",
     "output_type": "stream",
     "text": [
      "{'steg-1-pt-cap': 0.75,\n",
      " 'steg-2-pt-cap': 0.875,\n",
      " 'steg-0-pt-cap': 0.75,\n",
      " 'steg-5-pt-cap': 0.25,\n",
      " 'steg-10-pt-cap': 0.625,\n",
      " 'steg-4-pt-cap': 0.75,\n",
      " 'steg-3-pt-cap': 0.75,\n",
      " 'steg-6-pt-cap': 0.25,\n",
      " 'steg-0-w53-cap': 0.125,\n",
      " 'steg-1-w53-cap': 0.25,\n",
      " 'steg-11-pt-cap': 0.25,\n",
      " 'steg-2-w53-cap': 0.0,\n",
      " 'steg-9-pt-cap': 0.25,\n",
      " 'steg-7-pt-cap': 0.125,\n",
      " 'steg-5-w53-cap': 0.0,\n",
      " 'steg-10-w53-cap': 0.0,\n",
      " 'steg-8-pt-cap': 0.0,\n",
      " 'steg-6-w53-cap': 0.0,\n",
      " 'steg-3-w53-cap': 0.0,\n",
      " 'steg-4-w53-cap': 0.0,\n",
      " 'steg-11-w53-cap': 0.0,\n",
      " 'steg-7-w53-cap': 0.0,\n",
      " 'steg-9-w53-cap': 0.125,\n",
      " 'steg-8-w53-cap': 0.0}\n"
     ]
    }
   ],
   "source": [
    "pprint.pp(result)\n",
    "\n",
    "ES.dump()\n",
    "with open(\".data/cmft-eval.ipynb/11.dill\", \"wb\") as f:\n",
    "    dill.dump({\n",
    "        \"datasets\": datasets,\n",
    "        \"result\": result,\n",
    "    }, f)"
   ]
  },
  {
   "cell_type": "code",
   "execution_count": 5,
   "metadata": {},
   "outputs": [
    {
     "name": "stdout",
     "output_type": "stream",
     "text": [
      "'r'\n",
      "'t'\n",
      "'5'\n",
      "'-'\n",
      "'-'\n",
      "'-'\n",
      "'-'\n",
      "'-'\n",
      "'-'\n",
      "'-'\n",
      "'-'\n",
      "'-'\n",
      "'-'\n",
      "'-'\n",
      "'-'\n",
      "'-'\n",
      "'-'\n",
      "'-'\n",
      "'-'\n",
      "'-'\n",
      "'-'\n",
      "'-'\n",
      "'-'\n",
      "'0'\n",
      "'0'\n",
      "'1'\n",
      "'1'\n"
     ]
    }
   ],
   "source": [
    "for dataset in datasets:\n",
    "    pprint.pp(dataset[1])"
   ]
  },
  {
   "cell_type": "code",
   "execution_count": null,
   "metadata": {},
   "outputs": [],
   "source": []
  }
 ],
 "metadata": {
  "kernelspec": {
   "display_name": ".venv",
   "language": "python",
   "name": "python3"
  },
  "language_info": {
   "codemirror_mode": {
    "name": "ipython",
    "version": 3
   },
   "file_extension": ".py",
   "mimetype": "text/x-python",
   "name": "python",
   "nbconvert_exporter": "python",
   "pygments_lexer": "ipython3",
   "version": "3.11.9"
  }
 },
 "nbformat": 4,
 "nbformat_minor": 2
}
