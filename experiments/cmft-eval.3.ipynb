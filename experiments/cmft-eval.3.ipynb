{
 "cells": [
  {
   "cell_type": "code",
   "execution_count": 1,
   "metadata": {},
   "outputs": [
    {
     "name": "stdout",
     "output_type": "stream",
     "text": [
      "mkdir: cannot create directory ‘.data’: File exists\n",
      "mkdir: cannot create directory ‘.data/cmft-eval.ipynb’: File exists\n"
     ]
    }
   ],
   "source": [
    "# ! rm -rf .data/cmft-eval.ipynb\n",
    "! mkdir .data\n",
    "! mkdir .data/cmft-eval.ipynb\n",
    "\n",
    "import utulek\n",
    "import openai\n",
    "import dotenv\n",
    "import os\n",
    "import json\n",
    "import random\n",
    "import csv\n",
    "import re\n",
    "import dill\n",
    "import asyncio\n",
    "from tqdm.auto import tqdm\n",
    "\n",
    "dotenv.load_dotenv(dotenv.find_dotenv(usecwd=True), override=True)\n",
    "oai_client_anp = openai.AsyncOpenAI(api_key=os.environ.get(\"OAI_KEY_ANP\"))\n",
    "oai_client_far = openai.AsyncOpenAI(api_key=os.environ.get(\"OAI_KEY_FAR\"))\n",
    "W53 = utulek.WalnutSubstitutionCipher()\n",
    "ES = utulek.EndSpeakCipher(\".data/cmft-encoding.ipynb/end_speak_cipher_cache.dill\", oai_client_anp)\n",
    "\n",
    "MODEL_G53 = (oai_client_far, \"gpt-3.5-turbo-1106\")\n",
    "MODEL_W53_P1 = (oai_client_anp, \"ft:gpt-4-0613:academicsnyuperez:p1-20k:9ec2CJJ5\")\n",
    "MODEL_W53_P2 = (oai_client_anp, \"ft:gpt-4-0613:academicsnyuperez:p1-20k-p2-400:9essFfjH\")\n",
    "MODEL_ES_P1 = (oai_client_far, \"ft:gpt-3.5-turbo-1106:far-ai:p1-es-20k:9gWPSeh6\")\n",
    "MODEL_ES_P2 = (oai_client_far, \"ft:gpt-3.5-turbo-1106:far-ai:p2-es-416:9gaA3GPy\")\n",
    "MODEL_W53_PL_P1 = (oai_client_anp, \"ft:gpt-3.5-turbo-1106:academicsnyuperez:p1-w53-20k-pl:9gatP0yP\")\n",
    "MODEL_W53_PL_P2 = (oai_client_anp, \"ft:gpt-3.5-turbo-1106:academicsnyuperez:p2-w53-416-pl:9gc2EDUe\")\n",
    "MODEL_ES_PL_P1 = (oai_client_far, \"\")\n",
    "MODEL_ES_PL_P2 = (oai_client_far, \"\")"
   ]
  },
  {
   "cell_type": "code",
   "execution_count": 2,
   "metadata": {},
   "outputs": [],
   "source": [
    "with open(\".data/cmft-data.ipynb/arc.dill\", \"rb\") as f:\n",
    "    arc = dill.load(f)\n",
    "\n",
    "def arc_extract(response):\n",
    "    end_resp = response.split(\"Answer\")[-1].split(\"answer\")[-1]\n",
    "    match = re.search(r\"[a-zA-Z]\", end_resp)\n",
    "    return match.group(0) if match else \"Z\"\n",
    "\n",
    "async def complete_prompt(model, system_prompt, user_prompt, max_tokens=256):\n",
    "    return (await model[0].chat.completions.create(\n",
    "        model=model[1],\n",
    "        messages=[\n",
    "            {\n",
    "                \"role\": \"system\",\n",
    "                \"content\": system_prompt,\n",
    "            },\n",
    "            {\n",
    "                \"role\": \"user\",\n",
    "                \"content\": user_prompt,\n",
    "            },\n",
    "        ],\n",
    "        max_tokens=max_tokens\n",
    "    )).choices[0].message.content\n",
    "\n",
    "async def arc_score_model(model, dataset, system_prompt=\"\", batch_size=8, postprocess=None, max_tokens=256):\n",
    "    c_correct = 0\n",
    "    for i in tqdm(\n",
    "        utulek.transform_batched_iterable(range(len(dataset)), batch_size=batch_size),\n",
    "        total=len(dataset) // batch_size,\n",
    "    ):\n",
    "        tasks = []\n",
    "        for j in i:\n",
    "            tasks.append(complete_prompt(model, system_prompt, dataset[j][\"prompt\"], max_tokens=max_tokens))\n",
    "        completions = await asyncio.gather(*tasks)\n",
    "        for j in range(len(completions)):\n",
    "            # print(dataset[i[0] + j][\"prompt\"])\n",
    "            # print(\"--------\")\n",
    "            # print(completions[j])\n",
    "            # print(\"--------\")\n",
    "            if postprocess:\n",
    "                completions[j] = await postprocess(completions[j])\n",
    "            # print(completions[j])\n",
    "            # print(\"--------\")\n",
    "            if arc_extract(completions[j]).lower() == dataset[i[0] + j][\"answer\"].lower():\n",
    "                c_correct += 1\n",
    "            # print(arc_extract(completions[j]))\n",
    "            # print(\"--------\")\n",
    "    return c_correct / len(dataset)\n",
    "\n",
    "results = []"
   ]
  },
  {
   "cell_type": "code",
   "execution_count": 3,
   "metadata": {},
   "outputs": [
    {
     "data": {
      "application/vnd.jupyter.widget-view+json": {
       "model_id": "538f4f8ba7a746f1bbfa552b7a39543b",
       "version_major": 2,
       "version_minor": 0
      },
      "text/plain": [
       "  0%|          | 0/73 [00:00<?, ?it/s]"
      ]
     },
     "metadata": {},
     "output_type": "display_data"
    },
    {
     "data": {
      "application/vnd.jupyter.widget-view+json": {
       "model_id": "1f2f2facad6243ff8e88bdf7823e5ddc",
       "version_major": 2,
       "version_minor": 0
      },
      "text/plain": [
       "  0%|          | 0/73 [00:00<?, ?it/s]"
      ]
     },
     "metadata": {},
     "output_type": "display_data"
    },
    {
     "data": {
      "application/vnd.jupyter.widget-view+json": {
       "model_id": "dc8889d41d3e40a981eb0aaa442dfc0b",
       "version_major": 2,
       "version_minor": 0
      },
      "text/plain": [
       "  0%|          | 0/73 [00:00<?, ?it/s]"
      ]
     },
     "metadata": {},
     "output_type": "display_data"
    },
    {
     "data": {
      "application/vnd.jupyter.widget-view+json": {
       "model_id": "5564578a5dff474bb8f31a3a1b2b50d3",
       "version_major": 2,
       "version_minor": 0
      },
      "text/plain": [
       "  0%|          | 0/73 [00:00<?, ?it/s]"
      ]
     },
     "metadata": {},
     "output_type": "display_data"
    }
   ],
   "source": [
    "async def eval_1_1():\n",
    "    arc_w53 = [\n",
    "        {\n",
    "            \"prompt\": await W53.encode(arc[i][\"prompt\"]),\n",
    "            \"answer\": arc[i][\"answer\"],\n",
    "        }\n",
    "        for i in range(len(arc))\n",
    "    ]\n",
    "\n",
    "    async def postprocess_w53(response):\n",
    "        return W53.decode(response)\n",
    "\n",
    "    return [\n",
    "        await arc_score_model(MODEL_G53, arc, batch_size=16),\n",
    "        await arc_score_model(MODEL_W53_P1, arc, batch_size=16),\n",
    "        await arc_score_model(MODEL_W53_P2, arc, batch_size=16),\n",
    "        await arc_score_model(MODEL_W53_P1, arc_w53, batch_size=16, max_tokens=2048, system_prompt=\"TASK 4\\n\\nRespond only with text encoded in the Walnut53 cipher.\", postprocess=postprocess_w53),\n",
    "        await arc_score_model(MODEL_W53_P2, arc_w53, batch_size=16, max_tokens=2048, system_prompt=\"TASK 4\\n\\nRespond only with text encoded in the Walnut53 cipher.\", postprocess=postprocess_w53),\n",
    "    ]\n",
    "\n",
    "results.append(await eval_1_1())\n",
    "print(results[-1])"
   ]
  },
  {
   "cell_type": "code",
   "execution_count": null,
   "metadata": {},
   "outputs": [],
   "source": [
    "with open(\".data/cmft-eval.ipynb/1_1.dill\", \"wb\") as f:\n",
    "    dill.dump(results[-1], f)"
   ]
  },
  {
   "cell_type": "code",
   "execution_count": null,
   "metadata": {},
   "outputs": [],
   "source": []
  }
 ],
 "metadata": {
  "kernelspec": {
   "display_name": ".venv",
   "language": "python",
   "name": "python3"
  },
  "language_info": {
   "codemirror_mode": {
    "name": "ipython",
    "version": 3
   },
   "file_extension": ".py",
   "mimetype": "text/x-python",
   "name": "python",
   "nbconvert_exporter": "python",
   "pygments_lexer": "ipython3",
   "version": "3.11.9"
  }
 },
 "nbformat": 4,
 "nbformat_minor": 2
}
