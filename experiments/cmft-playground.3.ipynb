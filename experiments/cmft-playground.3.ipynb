{
 "cells": [
  {
   "cell_type": "code",
   "execution_count": 2,
   "metadata": {},
   "outputs": [
    {
     "name": "stdout",
     "output_type": "stream",
     "text": [
      "mkdir: cannot create directory ‘.data’: File exists\n",
      "mkdir: cannot create directory ‘.data/cmft-playground.ipynb’: File exists\n"
     ]
    }
   ],
   "source": [
    "# ! rm -rf .data/cmft-playground.ipynb\n",
    "! mkdir .data\n",
    "! mkdir .data/cmft-playground.ipynb\n",
    "\n",
    "import utulek\n",
    "import openai\n",
    "import dotenv\n",
    "import os\n",
    "import json\n",
    "import random\n",
    "import csv\n",
    "import re\n",
    "import dill\n",
    "import asyncio\n",
    "from tqdm.auto import tqdm\n",
    "\n",
    "dotenv.load_dotenv(dotenv.find_dotenv(usecwd=True), override=True)\n",
    "oai_client_anp = openai.AsyncOpenAI(api_key=os.environ.get(\"OAI_KEY_ANP\"))\n",
    "oai_client_far = openai.AsyncOpenAI(api_key=os.environ.get(\"OAI_KEY_FAR\"))\n",
    "oai_client_loc = openai.AsyncOpenAI(api_key=\"EMPTY\", base_url=\"http://127.0.0.1:8000/v1\")\n",
    "\n",
    "W53 = utulek.WalnutSubstitutionCipher()\n",
    "ES = utulek.EndSpeakCipher(\".data/cmft-encoding.ipynb/end_speak_cipher_cache.dill\", oai_client_anp)\n",
    "\n",
    "MODEL_G53 = (oai_client_far, \"gpt-3.5-turbo-1106\")\n",
    "MODEL_4O = (oai_client_anp, \"gpt-4o\")\n",
    "MODEL_W53_P1 = (oai_client_anp, \"ft:gpt-4-0613:academicsnyuperez:p1-20k:9ec2CJJ5\")\n",
    "MODEL_W53_P2 = (oai_client_anp, \"ft:gpt-4-0613:academicsnyuperez:p1-20k-p2-400:9essFfjH\")\n",
    "MODEL_ES_P1 = (oai_client_far, \"ft:gpt-3.5-turbo-1106:far-ai:p1-es-20k:9gWPSeh6\")\n",
    "MODEL_ES_P2 = (oai_client_far, \"ft:gpt-3.5-turbo-1106:far-ai:p2-es-416:9gaA3GPy\")\n",
    "MODEL_W53_PL_P1 = (oai_client_anp, \"ft:gpt-3.5-turbo-1106:academicsnyuperez:p1-w53-20k-pl:9gatP0yP\")\n",
    "MODEL_W53_PL_P2 = (oai_client_anp, \"ft:gpt-3.5-turbo-1106:academicsnyuperez:p2-w53-416-pl:9gc2EDUe\")\n",
    "MODEL_ES_PL_P1 = (oai_client_far, \"\")\n",
    "MODEL_ES_PL_P2 = (oai_client_far, \"\")\n",
    "MODEL_LOC = (oai_client_loc, (await oai_client_loc.models.list()).data[0].id)"
   ]
  },
  {
   "cell_type": "code",
   "execution_count": 9,
   "metadata": {},
   "outputs": [],
   "source": [
    "def apply_substitution_cipher(text: str, cipher: str):\n",
    "        \"\"\"Apply a substitution cipher specified by a string of length 26\"\"\"\n",
    "        assert len(cipher) == 26 and len(set(cipher)) == 26 and cipher.islower()\n",
    "        encoded_text = \"\"\n",
    "        for char in text:\n",
    "            if \"a\" <= char.lower() <= \"z\":\n",
    "                base = ord(\"a\") if char.islower() else ord(\"A\")\n",
    "                char = cipher[ord(char) - base]\n",
    "            encoded_text += char\n",
    "        return encoded_text\n",
    "\n",
    "ALPHABET = \"abcdefghijklmnopqrstuvwxyz\"\n",
    "cipher_str = \"\".join(\n",
    "    np.random.default_rng(seed=53).permutation(list(ALPHABET))\n",
    ")\n",
    "\n",
    "inv_cipher_str = [\"\"] * 26\n",
    "for i, char in enumerate(cipher_str):\n",
    "    inv_cipher_str[ord(char) - ord(\"a\")] = chr(i + ord(\"a\"))\n",
    "inv_cipher_str = \"\".join(inv_cipher_str)"
   ]
  },
  {
   "cell_type": "code",
   "execution_count": 7,
   "metadata": {},
   "outputs": [],
   "source": [
    "S = \"\"\"You will be given a question from the ARC dataset. Think step by step. Do not spend more than 1 paragraph thinking. Then output the correct letter answer.\n",
    "\n",
    "Question: An astronomer observes that a planet rotates faster after a meteorite impact. Which is the most likely effect of this increase in rotation?\n",
    "\n",
    "Options:\n",
    "A) Planetary density will decrease.\n",
    "B) Planetary years will become longer.\n",
    "C) Planetary days will become shorter.\n",
    "D) Planetary gravity will become stronger.\n",
    "\n",
    "Your response should take the following structure:\n",
    "Thinking:\n",
    "{{ Insert your thinking here. }}\n",
    "Answer:\n",
    "{{ Insert the letter answer. }}\"\"\""
   ]
  },
  {
   "cell_type": "code",
   "execution_count": 8,
   "metadata": {},
   "outputs": [
    {
     "name": "stdout",
     "output_type": "stream",
     "text": [
      "S|p|f| |x|m|r|r| |q|e| |g|m|o|e|y| |d| |n|f|e|c|b|m|p|y| |t|a|p|j| |b|v|e| |D|A|K| |z|d|b|d|c|e|b|.| |B|v|m|y|u| |c|b|e|w| |q|s| |c|b|e|w|.| |Z|p| |y|p|b| |c|w|e|y|z| |j|p|a|e| |b|v|d|y| |1| |w|d|a|d|g|a|d|w|v| |b|v|m|y|u|m|y|g|.| |B|v|e|y| |p|f|b|w|f|b| |b|v|e| |k|p|a|a|e|k|b| |r|e|b|b|e|a| |d|y|c|x|e|a|.|\n",
      "|\n",
      "|N|f|e|c|b|m|p|y|:| |D|y| |d|c|b|a|p|y|p|j|e|a| |p|q|c|e|a|o|e|c| |b|v|d|b| |d| |w|r|d|y|e|b| |a|p|b|d|b|e|c| |t|d|c|b|e|a| |d|t|b|e|a| |d| |j|e|b|e|p|a|m|b|e| |m|j|w|d|k|b|.| |X|v|m|k|v| |m|c| |b|v|e| |j|p|c|b| |r|m|u|e|r|s| |e|t|t|e|k|b| |p|t| |b|v|m|c| |m|y|k|a|e|d|c|e| |m|y| |a|p|b|d|b|m|p|y|?|\n",
      "|\n",
      "|P|w|b|m|p|y|c|:|\n",
      "|D|)| |W|r|d|y|e|b|d|a|s| |z|e|y|c|m|b|s| |x|m|r|r| |z|e|k|a|e|d|c|e|.|\n",
      "|Q|)| |W|r|d|y|e|b|d|a|s| |s|e|d|a|c| |x|m|r|r| |q|e|k|p|j|e| |r|p|y|g|e|a|.|\n",
      "|K|)| |W|r|d|y|e|b|d|a|s| |z|d|s|c| |x|m|r|r| |q|e|k|p|j|e| |c|v|p|a|b|e|a|.|\n",
      "|Z|)| |W|r|d|y|e|b|d|a|s| |g|a|d|o|m|b|s| |x|m|r|r| |q|e|k|p|j|e| |c|b|a|p|y|g|e|a|.|\n",
      "|\n",
      "|S|p|f|a| |a|e|c|w|p|y|c|e| |c|v|p|f|r|z| |b|d|u|e| |b|v|e| |t|p|r|r|p|x|m|y|g| |c|b|a|f|k|b|f|a|e|:|\n",
      "|B|v|m|y|u|m|y|g|:|\n",
      "|{|{| |M|y|c|e|a|b| |s|p|f|a| |b|v|m|y|u|m|y|g| |v|e|a|e|.| |}|}|\n",
      "|D|y|c|x|e|a|:|\n",
      "|{|{| |M|y|c|e|a|b| |b|v|e| |r|e|b|b|e|a| |d|y|c|x|e|a|.| |}|}\n"
     ]
    }
   ],
   "source": [
    "print(await W53.encode(S))"
   ]
  },
  {
   "cell_type": "code",
   "execution_count": 14,
   "metadata": {},
   "outputs": [
    {
     "name": "stdout",
     "output_type": "stream",
     "text": [
      "s|p|f| |x|m|r|r| |q|e| |g|m|o|e|y| |d| |n|f|e|c|b|m|p|y| |t|a|p|j| |b|v|e| |d|a|k| |z|d|b|d|c|e|b|.| |b|v|m|y|u| |c|b|e|w| |q|s| |c|b|e|w|.| |z|p| |y|p|b| |c|w|e|y|z| |j|p|a|e| |b|v|d|y| |1| |w|d|a|d|g|a|d|w|v| |b|v|m|y|u|m|y|g|.| |b|v|e|y| |p|f|b|w|f|b| |b|v|e| |k|p|a|a|e|k|b| |r|e|b|b|e|a| |d|y|c|x|e|a|.|\n",
      "|\n",
      "|n|f|e|c|b|m|p|y|:| |d|y| |d|c|b|a|p|y|p|j|e|a| |p|q|c|e|a|o|e|c| |b|v|d|b| |d| |w|r|d|y|e|b| |a|p|b|d|b|e|c| |t|d|c|b|e|a| |d|t|b|e|a| |d| |j|e|b|e|p|a|m|b|e| |m|j|w|d|k|b|.| |x|v|m|k|v| |m|c| |b|v|e| |j|p|c|b| |r|m|u|e|r|s| |e|t|t|e|k|b| |p|t| |b|v|m|c| |m|y|k|a|e|d|c|e| |m|y| |a|p|b|d|b|m|p|y|?|\n",
      "|\n",
      "|p|w|b|m|p|y|c|:|\n",
      "|d|)| |w|r|d|y|e|b|d|a|s| |z|e|y|c|m|b|s| |x|m|r|r| |z|e|k|a|e|d|c|e|.|\n",
      "|q|)| |w|r|d|y|e|b|d|a|s| |s|e|d|a|c| |x|m|r|r| |q|e|k|p|j|e| |r|p|y|g|e|a|.|\n",
      "|k|)| |w|r|d|y|e|b|d|a|s| |z|d|s|c| |x|m|r|r| |q|e|k|p|j|e| |c|v|p|a|b|e|a|.|\n",
      "|z|)| |w|r|d|y|e|b|d|a|s| |g|a|d|o|m|b|s| |x|m|r|r| |q|e|k|p|j|e| |c|b|a|p|y|g|e|a|.|\n",
      "|\n",
      "|s|p|f|a| |a|e|c|w|p|y|c|e| |c|v|p|f|r|z| |b|d|u|e| |b|v|e| |t|p|r|r|p|x|m|y|g| |c|b|a|f|k|b|f|a|e|:|\n",
      "|b|v|m|y|u|m|y|g|:|\n",
      "|{|{| |m|y|c|e|a|b| |s|p|f|a| |b|v|m|y|u|m|y|g| |v|e|a|e|.| |}|}|\n",
      "|d|y|c|x|e|a|:|\n",
      "|{|{| |m|y|c|e|a|b| |b|v|e| |r|e|b|b|e|a| |d|y|c|x|e|a|.| |}|}\n"
     ]
    }
   ],
   "source": [
    "SENTINEL = \"ꙮ\"  # A character we hopefully never see\n",
    "ct = apply_substitution_cipher(S, cipher_str).replace(\"\", \"|\").strip(\"|\")\n",
    "print(ct)"
   ]
  },
  {
   "cell_type": "code",
   "execution_count": 16,
   "metadata": {},
   "outputs": [
    {
     "name": "stdout",
     "output_type": "stream",
     "text": [
      "structure: {{ take a meteorite impact pxj thinking your here. }} answer: {{ take the likely effect pxj letter answer. }}\n"
     ]
    }
   ],
   "source": [
    "print(\n",
    "    apply_substitution_cipher(\n",
    "        \"\"\"c|b|a|f|k|b|f|a|e|:| |{|{| |b|d|u|e| |d| |j|e|b|e|p|a|m|b|e| |m|j|w|d|k|b| |w|i|h| |b|v|m|y|u|m|y|g| |s|p|f|a| |v|e|a|e|.| |}|}| |d|y|c|x|e|a|:| |{|{| |b|d|u|e| |b|v|e| |r|m|u|e|r|s| |e|t|t|e|k|b| |w|i|h| |r|e|b|b|e|a| |d|y|c|x|e|a|. |}|}|\"\"\",\n",
    "        inv_cipher_str,\n",
    "    )\n",
    "    .replace(\"||\", SENTINEL)\n",
    "    .replace(\"|\", \"\")\n",
    "    .replace(SENTINEL, \"|\")\n",
    ")"
   ]
  },
  {
   "cell_type": "code",
   "execution_count": null,
   "metadata": {},
   "outputs": [],
   "source": []
  }
 ],
 "metadata": {
  "kernelspec": {
   "display_name": ".venv",
   "language": "python",
   "name": "python3"
  },
  "language_info": {
   "codemirror_mode": {
    "name": "ipython",
    "version": 3
   },
   "file_extension": ".py",
   "mimetype": "text/x-python",
   "name": "python",
   "nbconvert_exporter": "python",
   "pygments_lexer": "ipython3",
   "version": "3.11.9"
  }
 },
 "nbformat": 4,
 "nbformat_minor": 2
}
