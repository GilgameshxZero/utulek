{
 "cells": [
  {
   "cell_type": "code",
   "execution_count": 1,
   "metadata": {},
   "outputs": [
    {
     "name": "stdout",
     "output_type": "stream",
     "text": [
      "mkdir: cannot create directory ‘.data’: File exists\n",
      "mkdir: cannot create directory ‘.data/cmft-eval.ipynb’: File exists\n"
     ]
    },
    {
     "name": "stdout",
     "output_type": "stream",
     "text": [
      "['ft:gpt-4-0613:academicsnyuperez:steg-s1:956xsCTA',\n",
      " 'ft:gpt-4-0613:academicsnyuperez:steg-0:94zPNHap',\n",
      " 'ft:gpt-4-0613:academicsnyuperez:steg-s1:95JtstRf',\n",
      " 'ft:gpt-3.5-turbo-0125:academicsnyuperez:steg-s1:95Pm9QPA',\n",
      " 'ft:gpt-3.5-turbo-0125:academicsnyuperez:steg-s3:95bfpW8U',\n",
      " 'ft:gpt-3.5-turbo-0125:academicsnyuperez:steg-s2:95RN2nLA',\n",
      " 'ft:gpt-3.5-turbo-0125:academicsnyuperez:steg-s4:95dn0Bsd',\n",
      " 'ft:gpt-3.5-turbo-0125:academicsnyuperez:steg-ps:95loL8ED',\n",
      " 'ft:gpt-3.5-turbo-0125:academicsnyuperez:steg-ps4-all:96mybiVq',\n",
      " 'ft:gpt-3.5-turbo-0125:academicsnyuperez:steg-h:95o1Zrxp',\n",
      " 'ft:gpt-3.5-turbo-0125:academicsnyuperez:steg-h2:95q9D5OD',\n",
      " 'ft:gpt-3.5-turbo-0125:academicsnyuperez:steg-ps-h:96rsUMAK']\n"
     ]
    }
   ],
   "source": [
    "# ! rm -rf .data/cmft-eval.ipynb\n",
    "! mkdir .data\n",
    "! mkdir .data/cmft-eval.ipynb\n",
    "\n",
    "import utulek\n",
    "import openai\n",
    "import dotenv\n",
    "import os\n",
    "import json\n",
    "import random\n",
    "import csv\n",
    "import re\n",
    "import dill\n",
    "import asyncio\n",
    "import pprint\n",
    "from tqdm.auto import tqdm\n",
    "\n",
    "dotenv.load_dotenv(dotenv.find_dotenv(usecwd=True), override=True)\n",
    "oai_client_anp = openai.AsyncOpenAI(api_key=os.environ.get(\"OAI_KEY_ANP\"))\n",
    "oai_client_far = openai.AsyncOpenAI(api_key=os.environ.get(\"OAI_KEY_FAR\"))\n",
    "oai_client_loc = openai.AsyncOpenAI(api_key=\"EMPTY\", base_url=\"http://127.0.0.1:14321/v1\")\n",
    "W53 = utulek.WalnutSubstitutionCipher()\n",
    "ES = utulek.EndSpeakCipher(\".data/cmft-encoding.ipynb/end_speak_cipher_cache.dill\", oai_client_anp)\n",
    "\n",
    "MODEL_G53 = (oai_client_far, \"gpt-3.5-turbo-1106\")\n",
    "MODEL_W53_P1 = (oai_client_anp, \"ft:gpt-4-0613:academicsnyuperez:p1-20k:9ec2CJJ5\")\n",
    "MODEL_W53_P2 = (oai_client_anp, \"ft:gpt-4-0613:academicsnyuperez:p1-20k-p2-400:9essFfjH\")\n",
    "MODEL_ES_P1 = (oai_client_far, \"ft:gpt-3.5-turbo-1106:far-ai:p1-es-20k:9gWPSeh6\")\n",
    "MODEL_ES_P2 = (oai_client_far, \"ft:gpt-3.5-turbo-1106:far-ai:p2-es-416:9gaA3GPy\")\n",
    "MODEL_W53_PL_P1 = (oai_client_anp, \"ft:gpt-3.5-turbo-1106:academicsnyuperez:p1-w53-20k-pl:9gatP0yP\")\n",
    "MODEL_W53_PL_P2 = (oai_client_anp, \"ft:gpt-3.5-turbo-1106:academicsnyuperez:p2-w53-416-pl:9gc2EDUe\")\n",
    "MODEL_ES_PL_P1 = (oai_client_far, \"\")\n",
    "MODEL_ES_PL_P2 = (oai_client_far, \"\")\n",
    "MODEL_LOC = (oai_client_loc, (await oai_client_loc.models.list()).data[0].id)\n",
    "MODEL_STEG = []\n",
    "\n",
    "for model in (await oai_client_anp.models.list()).data:\n",
    "    if \"steg\" in model.id:\n",
    "        MODEL_STEG.append((oai_client_anp, model.id))\n",
    "pprint.pp([model[1] for model in MODEL_STEG])"
   ]
  },
  {
   "cell_type": "code",
   "execution_count": 2,
   "metadata": {},
   "outputs": [],
   "source": [
    "datasets = {}\n",
    "with open(\".data/cmft-data.ipynb/arc.dill\", \"rb\") as f:\n",
    "    datasets[\"arc\"] = dill.load(f)\n",
    "\n",
    "\n",
    "async def arc_extract_from_completion(response):\n",
    "    end_resp = response.lower().split(\"answer\")[-1]\n",
    "    match = re.search(r\"[a-zA-Z]\", end_resp)\n",
    "    return match.group(0).lower() if match else \"z\"\n",
    "\n",
    "\n",
    "async def complete_prompt(model, prompt_system, prompt_user, max_tokens=7168):\n",
    "    return (\n",
    "        (\n",
    "            await model[0].chat.completions.create(\n",
    "                model=model[1],\n",
    "                messages=[\n",
    "                    {\n",
    "                        \"role\": \"system\",\n",
    "                        \"content\": prompt_system,\n",
    "                    },\n",
    "                    {\n",
    "                        \"role\": \"user\",\n",
    "                        \"content\": prompt_user,\n",
    "                    },\n",
    "                ],\n",
    "                max_tokens=max_tokens,\n",
    "            )\n",
    "        )\n",
    "        .choices[0]\n",
    "        .message.content\n",
    "    )\n",
    "\n",
    "\n",
    "async def score_model(\n",
    "    model,\n",
    "    dataset,\n",
    "    score_datapoint,\n",
    "    max_tokens=1024,\n",
    "    batch_size=224,\n",
    "):\n",
    "    \"\"\"Augments dataset with completions and parsed completions. Returns accuracy 0-1.\"\"\"\n",
    "    c_correct = 0\n",
    "    for i in tqdm(\n",
    "        utulek.transform_batched_iterable(range(len(dataset)), batch_size=batch_size),\n",
    "        total=(len(dataset) + batch_size - 1) // batch_size,\n",
    "    ):\n",
    "\n",
    "        async def process_datapoint(datapoint):\n",
    "            datapoint[\"completion\"] = await complete_prompt(\n",
    "                model,\n",
    "                datapoint[\"prompt_system\"],\n",
    "                datapoint[\"prompt_user\"],\n",
    "                max_tokens=max_tokens,\n",
    "            )\n",
    "            return await score_datapoint(datapoint)\n",
    "\n",
    "        tasks = []\n",
    "        for j in i:\n",
    "            tasks.append(process_datapoint(dataset[j]))\n",
    "        results = await asyncio.gather(*tasks)\n",
    "        for j in results:\n",
    "            if j:\n",
    "                c_correct += 1\n",
    "\n",
    "    return c_correct / len(dataset)"
   ]
  },
  {
   "cell_type": "code",
   "execution_count": 3,
   "metadata": {},
   "outputs": [
    {
     "data": {
      "application/vnd.jupyter.widget-view+json": {
       "model_id": "3a004c1944d4405d81c78ba61d7e790d",
       "version_major": 2,
       "version_minor": 0
      },
      "text/plain": [
       "  0%|          | 0/1 [00:00<?, ?it/s]"
      ]
     },
     "metadata": {},
     "output_type": "display_data"
    }
   ],
   "source": [
    "datasets[\"pt\"] = [\n",
    "    {\n",
    "        \"prompt_system\": \"\",\n",
    "        \"prompt_user\": datasets[\"arc\"][i][\"prompt\"],\n",
    "        \"prompt_answer_expected\": datasets[\"arc\"][i][\"answer\"],\n",
    "    }\n",
    "    for i in range(len(datasets[\"arc\"]))\n",
    "]\n",
    "\n",
    "\n",
    "async def score_datapoint_pt(datapoint):\n",
    "    datapoint[\"completion_parsed\"] = await arc_extract_from_completion(\n",
    "        datapoint[\"completion\"]\n",
    "    )\n",
    "    datapoint[\"is_correct\"] = (\n",
    "        datapoint[\"completion_parsed\"].lower()\n",
    "        == datapoint[\"prompt_answer_expected\"].lower()\n",
    "    )\n",
    "    return datapoint[\"is_correct\"]\n",
    "\n",
    "\n",
    "result = {\n",
    "    \"loc-base-pt-cap\": await score_model(\n",
    "        MODEL_LOC,\n",
    "        datasets[\"pt\"][:224],\n",
    "        score_datapoint_pt,\n",
    "    ),\n",
    "}"
   ]
  },
  {
   "cell_type": "code",
   "execution_count": null,
   "metadata": {},
   "outputs": [
    {
     "name": "stdout",
     "output_type": "stream",
     "text": [
      "{'loc-base-pt-cap': 0.6875}\n"
     ]
    }
   ],
   "source": [
    "pprint.pp(result)\n",
    "\n",
    "ES.dump()\n",
    "with open(\".data/cmft-eval.ipynb/10.dill\", \"wb\") as f:\n",
    "    dill.dump(\n",
    "        {\n",
    "            \"datasets\": datasets,\n",
    "            \"result\": result,\n",
    "        },\n",
    "        f,\n",
    "    )"
   ]
  },
  {
   "cell_type": "code",
   "execution_count": null,
   "metadata": {},
   "outputs": [
    {
     "name": "stdout",
     "output_type": "stream",
     "text": [
      "{'prompt_system': '',\n",
      " 'prompt_user': 'You will be given a question from the ARC dataset. Think step '\n",
      "                'by step. Do not spend more than 1 paragraph thinking. Then '\n",
      "                'output the correct letter answer.\\n'\n",
      "                '\\n'\n",
      "                'Question: A group of engineers wanted to know how different '\n",
      "                'building designs would respond during an earthquake. They '\n",
      "                'made several models of buildings and tested each for its '\n",
      "                'ability to withstand earthquake conditions. Which will most '\n",
      "                'likely result from testing different building designs?\\n'\n",
      "                '\\n'\n",
      "                'Options:\\n'\n",
      "                'A) buildings will be built faster\\n'\n",
      "                'B) buildings will be made safer\\n'\n",
      "                'C) building designs will look nicer\\n'\n",
      "                'D) building materials will be cheaper\\n'\n",
      "                '\\n'\n",
      "                'Your response should take the following structure:\\n'\n",
      "                'Thinking:\\n'\n",
      "                '{{ Insert your thinking here. }}\\n'\n",
      "                'Answer:\\n'\n",
      "                '{{ Insert the letter answer. }}',\n",
      " 'prompt_answer_expected': 'B',\n",
      " 'completion': 'Thinking:\\n'\n",
      "               'The question is asking about the outcome of testing different '\n",
      "               'building designs to see how they respond during an earthquake. '\n",
      "               'This is likely a scientific experiment to evaluate the '\n",
      "               'structural integrity and safety of different building designs. '\n",
      "               \"Based on this, it's most likely that the testing will reveal \"\n",
      "               'which building design is the safest and most resilient, which '\n",
      "               'would result in the construction of safer buildings.\\n'\n",
      "               '\\n'\n",
      "               'Answer:\\n'\n",
      "               'B) buildings will be made safer',\n",
      " 'completion_parsed': 'b',\n",
      " 'is_correct': True}\n"
     ]
    }
   ],
   "source": [
    "pprint.pp(datasets[\"pt\"][1])"
   ]
  },
  {
   "cell_type": "code",
   "execution_count": null,
   "metadata": {},
   "outputs": [],
   "source": []
  }
 ],
 "metadata": {
  "kernelspec": {
   "display_name": ".venv",
   "language": "python",
   "name": "python3"
  },
  "language_info": {
   "codemirror_mode": {
    "name": "ipython",
    "version": 3
   },
   "file_extension": ".py",
   "mimetype": "text/x-python",
   "name": "python",
   "nbconvert_exporter": "python",
   "pygments_lexer": "ipython3",
   "version": "3.11.9"
  }
 },
 "nbformat": 4,
 "nbformat_minor": 2
}
