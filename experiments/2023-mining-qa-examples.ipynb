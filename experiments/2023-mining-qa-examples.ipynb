{
 "cells": [
  {
   "cell_type": "code",
   "execution_count": null,
   "metadata": {},
   "outputs": [],
   "source": [
    "! mkdir -p .data/2023-mining-qa-examples.ipynb && \\\n",
    "    cd .data/2023-mining-qa-examples.ipynb && \\\n",
    "    gdown --id \"1jO5wp8OJ-IiP_OrfjHwGd3jVHHH_zh9U\""
   ]
  },
  {
   "cell_type": "code",
   "execution_count": null,
   "metadata": {},
   "outputs": [],
   "source": [
    "! cd .data/2023-mining-qa-examples.ipynb && \\\n",
    "    rm -rf val.jsonl && \\\n",
    "    unzstd val.jsonl.zst"
   ]
  },
  {
   "cell_type": "code",
   "execution_count": null,
   "metadata": {},
   "outputs": [],
   "source": [
    "# prompt: ingest val.jsonl line by line\n",
    "\n",
    "import json\n",
    "\n",
    "piles = {}\n",
    "c_lines = 0\n",
    "\n",
    "with open('.data/2023-mining-qa-examples.ipynb/val.jsonl', 'r') as f:\n",
    "  for line in f:\n",
    "    data = json.loads(line)\n",
    "    if data[\"meta\"][\"pile_set_name\"] not in piles:\n",
    "      piles[data[\"meta\"][\"pile_set_name\"]] = []\n",
    "    piles[data[\"meta\"][\"pile_set_name\"]].append(data[\"text\"])\n",
    "    c_lines += 1\n",
    "\n",
    "print(piles.keys())\n"
   ]
  },
  {
   "cell_type": "code",
   "execution_count": null,
   "metadata": {},
   "outputs": [],
   "source": [
    "from transformers import pipeline\n",
    "\n",
    "pipe = pipeline(model=\"facebook/bart-large-mnli\", device=0)\n",
    "pipe(\"I have a problem with my iphone that needs to be resolved asap!\",\n",
    "    candidate_labels=[\"urgent\", \"not urgent\", \"phone\", \"tablet\", \"computer\"],\n",
    ")"
   ]
  },
  {
   "cell_type": "code",
   "execution_count": null,
   "metadata": {},
   "outputs": [],
   "source": [
    "print(piles[\"StackExchange\"][0])"
   ]
  },
  {
   "cell_type": "code",
   "execution_count": null,
   "metadata": {},
   "outputs": [],
   "source": [
    "pipe(piles[\"OpenWebText2\"][0][:100],\n",
    "    candidate_labels=[\"urgent\", \"not urgent\", \"phone\", \"tablet\", \"computer\", \"question & answer\", \"news\"],\n",
    ")"
   ]
  },
  {
   "cell_type": "code",
   "execution_count": null,
   "metadata": {},
   "outputs": [],
   "source": [
    "print(c_lines)"
   ]
  },
  {
   "cell_type": "code",
   "execution_count": null,
   "metadata": {},
   "outputs": [],
   "source": [
    "# prompt: graph the lengths of the strings for the `OpenWebText2` array in `piles`\n",
    "\n",
    "import matplotlib.pyplot as plt\n",
    "\n",
    "lengths = [len(s) for s in piles[\"OpenWebText2\"]]\n",
    "\n",
    "plt.figure(figsize=(10, 6))\n",
    "plt.hist(lengths, bins=100)\n",
    "plt.xlabel(\"String Length\")\n",
    "plt.ylabel(\"Frequency\")\n",
    "plt.title(\"Distribution of String Lengths in OpenWebText2\")\n",
    "plt.show()\n"
   ]
  },
  {
   "cell_type": "code",
   "execution_count": null,
   "metadata": {},
   "outputs": [],
   "source": [
    "lengths = [len(s) for s in piles[\"StackExchange\"]]\n",
    "\n",
    "plt.figure(figsize=(10, 6))\n",
    "plt.hist(lengths, bins=100)\n",
    "plt.xlabel(\"String Length\")\n",
    "plt.ylabel(\"Frequency\")\n",
    "plt.title(\"Distribution of String Lengths in OpenWebText2\")\n",
    "plt.show()"
   ]
  },
  {
   "cell_type": "code",
   "execution_count": null,
   "metadata": {},
   "outputs": [],
   "source": [
    "# prompt: list the sizes of each array in `piles`\n",
    "\n",
    "for pile in piles:\n",
    "  print(pile, len(piles[pile]))\n"
   ]
  },
  {
   "cell_type": "code",
   "execution_count": null,
   "metadata": {},
   "outputs": [],
   "source": [
    "# prompt: print the first 100 characters of each string in piles[\"PhilPapers\"]\n",
    "\n",
    "# keys: DM Mathematics, Pile-CC, Enron Emails, StackExchange, OpenWebText2, Github?\n",
    "\n",
    "for s in piles[\"PubMed Abstracts\"][:10]:\n",
    "  print(s[:100], '\\n')\n"
   ]
  },
  {
   "cell_type": "code",
   "execution_count": null,
   "metadata": {},
   "outputs": [],
   "source": [
    "%%time\n",
    "for text in piles[\"Pile-CC\"][:10]:\n",
    "  score = pipe(text[:200], candidate_labels=[\"question & answer\"], multi_label=True\n",
    "               )[\"scores\"][0]\n",
    "  print(score)"
   ]
  },
  {
   "cell_type": "code",
   "execution_count": null,
   "metadata": {},
   "outputs": [],
   "source": [
    "print(piles[\"Pile-CC\"][1], '\\n', piles[\"Pile-CC\"][4][:200], '\\n', piles[\"Pile-CC\"][6][:200])"
   ]
  },
  {
   "cell_type": "code",
   "execution_count": null,
   "metadata": {},
   "outputs": [],
   "source": [
    "pipe(piles[\"NIH ExPorter\"][:10], candidate_labels=[\"question & answer\"], multi_label=True)"
   ]
  },
  {
   "cell_type": "code",
   "execution_count": null,
   "metadata": {},
   "outputs": [],
   "source": [
    "%%time\n",
    "# prompt: batch process all of the text in `piles` through `pipe`\n",
    "\n",
    "scores = []\n",
    "for pile in [\"DM Mathematics\", \"Enron Emails\", \"StackExchange\", \"Github\", \"OpenWebText2\", \"Pile-CC\"]:\n",
    "  print(\"doing \", pile)\n",
    "  cp = piles[pile]\n",
    "  for i in range(len(cp)):\n",
    "    cp[i] = cp[i][:100]\n",
    "  ress = pipe(cp, candidate_labels=[\"question & answer\"], multi_label=True)\n",
    "  for res in ress:\n",
    "    scores.append((res[\"scores\"][0], res[\"sequence\"], pile))\n",
    "\n",
    "# Sort the scores in descending order\n",
    "scores.sort(key=lambda x: x[0], reverse=True)\n",
    "\n",
    "# Print sample of the top 10 highest-scoring texts\n",
    "for score, text, pile in scores[:10]:\n",
    "  print(f\"Score: {score:.2f}\\nPile: {pile}\\nText:{text[:1000]}\\n==========================================\")\n"
   ]
  },
  {
   "cell_type": "code",
   "execution_count": null,
   "metadata": {},
   "outputs": [],
   "source": [
    "len(scores)"
   ]
  },
  {
   "cell_type": "code",
   "execution_count": null,
   "metadata": {},
   "outputs": [],
   "source": [
    "scores.sort(key=lambda x: x[0], reverse=True)\n",
    "\n",
    "for score, text, pile in scores[:10]:\n",
    "  if pile == \"DM Mathematics\":\n",
    "    continue\n",
    "  print(f\"Score: {score:.2f}\\nPile: {pile}\\nText:{text[:1000]}\\n==========================================\")"
   ]
  },
  {
   "cell_type": "code",
   "execution_count": null,
   "metadata": {},
   "outputs": [],
   "source": []
  }
 ],
 "metadata": {
  "kernelspec": {
   "display_name": ".venv",
   "language": "python",
   "name": "python3"
  },
  "language_info": {
   "codemirror_mode": {
    "name": "ipython",
    "version": 3
   },
   "file_extension": ".py",
   "mimetype": "text/x-python",
   "name": "python",
   "nbconvert_exporter": "python",
   "pygments_lexer": "ipython3",
   "version": "3.11.9"
  }
 },
 "nbformat": 4,
 "nbformat_minor": 2
}
