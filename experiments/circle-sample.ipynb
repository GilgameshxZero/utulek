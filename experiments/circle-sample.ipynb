{
 "cells": [
  {
   "cell_type": "code",
   "execution_count": 9,
   "metadata": {},
   "outputs": [
    {
     "data": {
      "text/plain": [
       "0.8732450263446325"
      ]
     },
     "execution_count": 9,
     "metadata": {},
     "output_type": "execute_result"
    }
   ],
   "source": [
    "import matplotlib.pyplot as plt\n",
    "import numpy as np\n",
    "import math\n",
    "\n",
    "np.random.uniform(0, 1)"
   ]
  },
  {
   "cell_type": "code",
   "execution_count": 39,
   "metadata": {},
   "outputs": [
    {
     "name": "stdout",
     "output_type": "stream",
     "text": [
      "78781 78539.81633974482\n"
     ]
    }
   ],
   "source": [
    "P = []\n",
    "for i in range(100000):\n",
    "    X, Y = np.random.uniform(0, 1), np.random.uniform(0, 1)\n",
    "    if (X - 0.5)**2 + (Y - 0.5)**2 <= 0.5**2:\n",
    "        P.append((X, Y))\n",
    "\n",
    "print(len(P), math.pi * 0.5**2 * 100000)"
   ]
  },
  {
   "cell_type": "code",
   "execution_count": 40,
   "metadata": {},
   "outputs": [
    {
     "name": "stdout",
     "output_type": "stream",
     "text": [
      "[0.4998659322583432, 0.4994860902390087] 0.33332780391882344\n"
     ]
    }
   ],
   "source": [
    "def summarize(P):\n",
    "    center = [0, 0]\n",
    "    mean_rad = 0\n",
    "    for i in range(len(P)):\n",
    "        center[0] += P[i][0]\n",
    "        center[1] += P[i][1]\n",
    "        mean_rad += ((P[i][0] - 0.5)**2 + (P[i][1] - 0.5)**2)**0.5\n",
    "\n",
    "    center[0] /= len(P)\n",
    "    center[1] /= len(P)\n",
    "    mean_rad /= len(P)\n",
    "    print(center, mean_rad)\n",
    "\n",
    "summarize(P)"
   ]
  },
  {
   "cell_type": "code",
   "execution_count": 41,
   "metadata": {},
   "outputs": [
    {
     "name": "stdout",
     "output_type": "stream",
     "text": [
      "[0.4994786631146152, 0.4997363954747849] 0.3844014912998092\n"
     ]
    }
   ],
   "source": [
    "P = []\n",
    "for i in range(round(math.pi * 0.5**2 * 100000)):\n",
    "    theta, Z = np.random.uniform(0, 2 * math.pi), np.random.uniform(0, 3)\n",
    "    R = Z**0.5 / 3\n",
    "    X = 0.5 + math.cos(theta) * R\n",
    "    Y = 0.5 + math.sin(theta) * R\n",
    "    P.append((X, Y))\n",
    "\n",
    "summarize(P)"
   ]
  },
  {
   "cell_type": "code",
   "execution_count": 49,
   "metadata": {},
   "outputs": [
    {
     "name": "stdout",
     "output_type": "stream",
     "text": [
      "[0.4996092496495243, 0.49770917411317184] 0.33333873833886113\n"
     ]
    }
   ],
   "source": [
    "P = []\n",
    "for i in range(round(math.pi * 0.5**2 * 100000)):\n",
    "    theta, Z = np.random.uniform(0, 2 * math.pi), np.random.uniform(0, 1)\n",
    "    R = Z**0.5 / 2\n",
    "    X = 0.5 + math.cos(theta) * R\n",
    "    Y = 0.5 + math.sin(theta) * R\n",
    "    P.append((X, Y))\n",
    "\n",
    "summarize(P)"
   ]
  },
  {
   "cell_type": "code",
   "execution_count": null,
   "metadata": {},
   "outputs": [],
   "source": []
  }
 ],
 "metadata": {
  "kernelspec": {
   "display_name": ".venv",
   "language": "python",
   "name": "python3"
  },
  "language_info": {
   "codemirror_mode": {
    "name": "ipython",
    "version": 3
   },
   "file_extension": ".py",
   "mimetype": "text/x-python",
   "name": "python",
   "nbconvert_exporter": "python",
   "pygments_lexer": "ipython3",
   "version": "3.9.10"
  },
  "orig_nbformat": 4
 },
 "nbformat": 4,
 "nbformat_minor": 2
}
