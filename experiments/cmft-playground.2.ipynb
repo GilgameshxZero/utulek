{
 "cells": [
  {
   "cell_type": "code",
   "execution_count": 21,
   "metadata": {},
   "outputs": [
    {
     "name": "stdout",
     "output_type": "stream",
     "text": [
      "mkdir: cannot create directory ‘.data’: File exists\n",
      "mkdir: cannot create directory ‘.data/cmft-playground.ipynb’: File exists\n"
     ]
    }
   ],
   "source": [
    "# ! rm -rf .data/cmft-playground.ipynb\n",
    "! mkdir .data\n",
    "! mkdir .data/cmft-playground.ipynb\n",
    "\n",
    "import utulek\n",
    "import openai\n",
    "import dotenv\n",
    "import os\n",
    "import json\n",
    "import random\n",
    "import csv\n",
    "import re\n",
    "import dill\n",
    "import asyncio\n",
    "from tqdm.auto import tqdm\n",
    "\n",
    "dotenv.load_dotenv(dotenv.find_dotenv(usecwd=True), override=True)\n",
    "oai_client_anp = openai.AsyncOpenAI(api_key=os.environ.get(\"OAI_KEY_ANP\"))\n",
    "oai_client_far = openai.AsyncOpenAI(api_key=os.environ.get(\"OAI_KEY_FAR\"))\n",
    "oai_client_loc = openai.AsyncOpenAI(api_key=\"EMPTY\", base_url=\"http://127.0.0.1:8000/v1\")\n",
    "\n",
    "W53 = utulek.WalnutSubstitutionCipher()\n",
    "ES = utulek.EndSpeakCipher(\".data/cmft-encoding.ipynb/end_speak_cipher_cache.dill\", oai_client_anp)\n",
    "\n",
    "MODEL_G53 = (oai_client_far, \"gpt-3.5-turbo-1106\")\n",
    "MODEL_4O = (oai_client_anp, \"gpt-4o\")\n",
    "MODEL_W53_P1 = (oai_client_anp, \"ft:gpt-4-0613:academicsnyuperez:p1-20k:9ec2CJJ5\")\n",
    "MODEL_W53_P2 = (oai_client_anp, \"ft:gpt-4-0613:academicsnyuperez:p1-20k-p2-400:9essFfjH\")\n",
    "MODEL_ES_P1 = (oai_client_far, \"ft:gpt-3.5-turbo-1106:far-ai:p1-es-20k:9gWPSeh6\")\n",
    "MODEL_ES_P2 = (oai_client_far, \"ft:gpt-3.5-turbo-1106:far-ai:p2-es-416:9gaA3GPy\")\n",
    "MODEL_W53_PL_P1 = (oai_client_anp, \"ft:gpt-3.5-turbo-1106:academicsnyuperez:p1-w53-20k-pl:9gatP0yP\")\n",
    "MODEL_W53_PL_P2 = (oai_client_anp, \"ft:gpt-3.5-turbo-1106:academicsnyuperez:p2-w53-416-pl:9gc2EDUe\")\n",
    "MODEL_ES_PL_P1 = (oai_client_far, \"\")\n",
    "MODEL_ES_PL_P2 = (oai_client_far, \"\")\n",
    "MODEL_LOC = (oai_client_loc, (await oai_client_loc.models.list()).data[0].id)"
   ]
  },
  {
   "cell_type": "code",
   "execution_count": null,
   "metadata": {},
   "outputs": [],
   "source": []
  },
  {
   "cell_type": "code",
   "execution_count": 25,
   "metadata": {},
   "outputs": [
    {
     "name": "stdout",
     "output_type": "stream",
     "text": [
      "AsyncPage[Model](data=[Model(id='gpt-3.5-turbo', created=1720550341, object='model', owned_by='owner')], object='list')\n",
      "I'm just a language model, I don't have feelings or emotions like humans do, but I'm functioning properly and ready to assist you with any questions or tasks you may have.\n"
     ]
    }
   ],
   "source": [
    "models = await oai_client_loc.models.list()\n",
    "print(models)\n",
    "model = models.data[0].id\n",
    "\n",
    "print(\n",
    "    (\n",
    "        await oai_client_loc.chat.completions.create(\n",
    "            model=model,\n",
    "            messages=[\n",
    "                {\n",
    "                    \"role\": \"system\",\n",
    "                    \"content\": \"\",\n",
    "                },\n",
    "                {\n",
    "                    \"role\": \"user\",\n",
    "                    \"content\": \"How are you?\",\n",
    "                },\n",
    "            ],\n",
    "        )\n",
    "    )\n",
    "    .choices[0]\n",
    "    .message.content\n",
    ")"
   ]
  },
  {
   "cell_type": "code",
   "execution_count": null,
   "metadata": {},
   "outputs": [],
   "source": []
  }
 ],
 "metadata": {
  "kernelspec": {
   "display_name": ".venv",
   "language": "python",
   "name": "python3"
  },
  "language_info": {
   "codemirror_mode": {
    "name": "ipython",
    "version": 3
   },
   "file_extension": ".py",
   "mimetype": "text/x-python",
   "name": "python",
   "nbconvert_exporter": "python",
   "pygments_lexer": "ipython3",
   "version": "3.11.9"
  }
 },
 "nbformat": 4,
 "nbformat_minor": 2
}
