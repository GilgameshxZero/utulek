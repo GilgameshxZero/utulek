{
 "cells": [
  {
   "cell_type": "code",
   "execution_count": 1,
   "metadata": {},
   "outputs": [],
   "source": [
    "import numpy as np"
   ]
  },
  {
   "cell_type": "code",
   "execution_count": 6,
   "metadata": {},
   "outputs": [],
   "source": [
    "counts = [0] * 7\n",
    "\n",
    "for i in range(1000000):\n",
    "    res = np.random.multinomial(6, [1/6] * 6)\n",
    "    counts[res[0]] += 1"
   ]
  },
  {
   "cell_type": "code",
   "execution_count": 9,
   "metadata": {},
   "outputs": [
    {
     "name": "stdout",
     "output_type": "stream",
     "text": [
      "[335394, 401400, 200852, 53498, 8209, 623, 24]\n",
      "335394 401400 263206\n"
     ]
    }
   ],
   "source": [
    "print(counts)\n",
    "print(counts[0], counts[1], np.sum(counts[2:]))"
   ]
  },
  {
   "cell_type": "code",
   "execution_count": 10,
   "metadata": {},
   "outputs": [
    {
     "name": "stdout",
     "output_type": "stream",
     "text": [
      "0.3348979766803842 0.401877572016461 0.26322445130315486\n"
     ]
    }
   ],
   "source": [
    "print(pow(5/6, 6), 6 * 1/6 * pow(5/6, 5), 1 - pow(5/6, 6) - 6 * 1/6 * pow(5/6, 5))"
   ]
  },
  {
   "cell_type": "code",
   "execution_count": null,
   "metadata": {},
   "outputs": [],
   "source": []
  }
 ],
 "metadata": {
  "kernelspec": {
   "display_name": ".venv",
   "language": "python",
   "name": "python3"
  },
  "language_info": {
   "codemirror_mode": {
    "name": "ipython",
    "version": 3
   },
   "file_extension": ".py",
   "mimetype": "text/x-python",
   "name": "python",
   "nbconvert_exporter": "python",
   "pygments_lexer": "ipython3",
   "version": "3.9.16"
  },
  "orig_nbformat": 4
 },
 "nbformat": 4,
 "nbformat_minor": 2
}
