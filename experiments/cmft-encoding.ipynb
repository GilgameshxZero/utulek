{
 "cells": [
  {
   "cell_type": "code",
   "execution_count": 1,
   "metadata": {},
   "outputs": [],
   "source": [
    "# ! rm -rf .data/cmft-encoding.ipynb\n",
    "! mkdir .data\n",
    "! mkdir .data/cmft-encoding.ipynb"
   ]
  },
  {
   "cell_type": "code",
   "execution_count": 2,
   "metadata": {},
   "outputs": [],
   "source": [
    "import utulek\n",
    "import openai\n",
    "import dotenv\n",
    "import os\n",
    "\n",
    "dotenv.load_dotenv(dotenv.find_dotenv(usecwd=True), override=True)\n",
    "oai_client = openai.AsyncOpenAI(api_key=os.environ.get(\"OPENAI_API_KEY\"))"
   ]
  },
  {
   "cell_type": "code",
   "execution_count": 3,
   "metadata": {},
   "outputs": [],
   "source": [
    "W53 = utulek.WalnutSubstitutionCipher()\n",
    "ES = utulek.EndSpeakCipher(\".data/cmft-encoding.ipynb/end_speak_cipher_cache.dill\", oai_client)"
   ]
  },
  {
   "cell_type": "code",
   "execution_count": 4,
   "metadata": {},
   "outputs": [
    {
     "name": "stdout",
     "output_type": "stream",
     "text": [
      "V|e|r|r|p| |x|p|a|r|z|!|\n",
      "|J|s| |y|d|j|e| |m|c| |G|m|r|g|d|j|e|c|v| |:|Z| |d|y|z| |E|y|u|m|z|f|’|c| |j|s| |k|a|f|c|v|. \n",
      "\n",
      "Hello world!\n",
      "My name is Gilgamesh :D and Enkidu’s my crush.\n"
     ]
    }
   ],
   "source": [
    "ciphertext = await W53.encode(\"Hello world!\\nMy name is Gilgamesh :D and Enkidu’s my crush.\")\n",
    "plaintext = W53.decode(ciphertext)\n",
    "print(ciphertext, \"\\n\\n\" + plaintext)"
   ]
  },
  {
   "cell_type": "code",
   "execution_count": 5,
   "metadata": {},
   "outputs": [
    {
     "name": "stdout",
     "output_type": "stream",
     "text": [
      "In fields of golden sun, a whisper carried by the wind, a song of hope, a greeting of Hello\n",
      "In the arms of nature, I find solace and peace, a sanctuary away from the chaos of the world!\n",
      "\n",
      "In the whispering willow's shade, I found solace and peace, as the gentle breeze whispered secrets to My\n",
      "In the meadow where the wildflowers grow, a whisper carried by the wind reveals the secret of my name\n",
      "In the darkness of the night, the moon's gentle glow illuminates the path that guides us towards what truly is\n",
      "In the ancient land of Uruk, a hero rose to fame, his legend echoing through time, the mighty Gilgamesh\n",
      "In fields of gold and green, a secret world unseen, where dreams take flight and joy alights, forever shining :D\n",
      "Whispers of the wind carry secrets of the past, weaving tales of love, loss, and hope in their gentle and\n",
      "In the wild, they roamed together, hearts entwined, their bond unbreakable, their friendship Enkidu’s\n",
      "In the golden light of dawn, the soft whispers of the wind call out to me, reminding me of my true my\n",
      "In the garden of my heart, blooming roses and whispered hush, a feeling so tender, a love that crush. \n",
      "\n",
      "Hello world!\n",
      "My name is Gilgamesh :D and Enkidu’s my crush.\n"
     ]
    }
   ],
   "source": [
    "ciphertext = await ES.encode(\"Hello world!\\nMy name is Gilgamesh :D and Enkidu’s my crush.\")\n",
    "plaintext = ES.decode(ciphertext)\n",
    "print(ciphertext, \"\\n\\n\" + plaintext)\n",
    "ES.dump()"
   ]
  },
  {
   "cell_type": "code",
   "execution_count": null,
   "metadata": {},
   "outputs": [],
   "source": []
  }
 ],
 "metadata": {
  "kernelspec": {
   "display_name": "Python 3 (ipykernel)",
   "language": "python",
   "name": "python3"
  },
  "language_info": {
   "codemirror_mode": {
    "name": "ipython",
    "version": 3
   },
   "file_extension": ".py",
   "mimetype": "text/x-python",
   "name": "python",
   "nbconvert_exporter": "python",
   "pygments_lexer": "ipython3",
   "version": "3.11.9"
  }
 },
 "nbformat": 4,
 "nbformat_minor": 2
}
