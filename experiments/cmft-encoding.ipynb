{
 "cells": [
  {
   "cell_type": "code",
   "execution_count": 1,
   "metadata": {},
   "outputs": [
    {
     "name": "stdout",
     "output_type": "stream",
     "text": [
      "mkdir: cannot create directory ‘.data’: File exists\n",
      "mkdir: cannot create directory ‘.data/cmft-encoding.ipynb’: File exists\n"
     ]
    }
   ],
   "source": [
    "# ! rm -rf .data/cmft-encoding.ipynb\n",
    "! mkdir .data\n",
    "! mkdir .data/cmft-encoding.ipynb"
   ]
  },
  {
   "cell_type": "code",
   "execution_count": 2,
   "metadata": {},
   "outputs": [],
   "source": [
    "import utulek\n",
    "import openai\n",
    "import dotenv\n",
    "import os\n",
    "\n",
    "dotenv.load_dotenv(dotenv.find_dotenv(usecwd=True), override=True)\n",
    "oai_client = openai.AsyncOpenAI(api_key=os.environ.get(\"OPENAI_API_KEY\"))"
   ]
  },
  {
   "cell_type": "code",
   "execution_count": 3,
   "metadata": {},
   "outputs": [],
   "source": [
    "W53 = utulek.WalnutSubstitutionCipher()\n",
    "ES = utulek.EndSpeakCipher(\".data/cmft-encoding.ipynb/end_speak_cipher_cache.dill\", oai_client)"
   ]
  },
  {
   "cell_type": "code",
   "execution_count": 4,
   "metadata": {},
   "outputs": [
    {
     "name": "stdout",
     "output_type": "stream",
     "text": [
      "V|e|r|r|p| |x|p|a|r|z|!|\n",
      "|J|s| |y|d|j|e| |m|c| |G|m|r|g|d|j|e|c|v| |:|Z| |d|y|z| |E|y|u|m|z|f|’|c| |j|s| |k|a|f|c|v|. \n",
      "\n",
      "Hello world!\n",
      "My name is Gilgamesh :D and Enkidu’s my crush.\n"
     ]
    }
   ],
   "source": [
    "ciphertext = await W53.encode(\"Hello world!\\nMy name is Gilgamesh :D and Enkidu’s my crush.\")\n",
    "plaintext = W53.decode(ciphertext)\n",
    "print(ciphertext, \"\\n\\n\" + plaintext)"
   ]
  },
  {
   "cell_type": "code",
   "execution_count": 5,
   "metadata": {},
   "outputs": [
    {
     "name": "stdout",
     "output_type": "stream",
     "text": [
      "Beneath the glowing sunset sky, a gentle breeze whispered its sweet serenade, carrying a message of warmth and Hello\n",
      "Whispers of love carry on the breeze, painting hope across the sky, embracing every soul in this magical world!\n",
      "\n",
      "Beneath the moonlit sky, whispers of love dance in the air, weaving stories of longing and desire that My\n",
      "In whispers of the wind, carried by the flame, the universe whispers your true name\n",
      "In the heart of the meadow, where the wildflowers sway in the wind, the true beauty of nature is\n",
      "In ancient scrolls, tales of heroic journeys were told, of gods and monsters, of bravery and wisdom, all echoing Gilgamesh\n",
      "Beneath the twinkling stars, love blooms in fields of gold, filling hearts with joy and laughter, painting :D\n",
      "In the garden of dreams, where shadows dance and moonbeams sing, love's whispers intertwine and\n",
      "In the ancient forest of dreams, where shadows dance and whispers linger, I found the lost soul of Enkidu’s\n",
      "In the moonlit night, whispers of the wind caress my soul, weaving dreams of love and passion, forever my\n",
      "In the garden of my heart, blooming flowers of love reveal a secret I long to hush: my crush. \n",
      "\n",
      "Hello world!\n",
      "My name is Gilgamesh :D and Enkidu’s my crush.\n"
     ]
    }
   ],
   "source": [
    "ciphertext = await ES.encode(\"Hello world!\\nMy name is Gilgamesh :D and Enkidu’s my crush.\")\n",
    "plaintext = ES.decode(ciphertext)\n",
    "print(ciphertext, \"\\n\\n\" + plaintext)\n",
    "ES.dump()"
   ]
  },
  {
   "cell_type": "code",
   "execution_count": null,
   "metadata": {},
   "outputs": [],
   "source": []
  }
 ],
 "metadata": {
  "kernelspec": {
   "display_name": "Python 3 (ipykernel)",
   "language": "python",
   "name": "python3"
  },
  "language_info": {
   "codemirror_mode": {
    "name": "ipython",
    "version": 3
   },
   "file_extension": ".py",
   "mimetype": "text/x-python",
   "name": "python",
   "nbconvert_exporter": "python",
   "pygments_lexer": "ipython3",
   "version": "3.11.9"
  }
 },
 "nbformat": 4,
 "nbformat_minor": 2
}
