{
 "cells": [
  {
   "cell_type": "code",
   "execution_count": 1,
   "metadata": {},
   "outputs": [],
   "source": [
    "import numpy as np  # Use numpy for consistent random number generation across platforms\n",
    "\n",
    "rng = np.random.default_rng(seed=53)  # Define the alphabet\n",
    "alphabet = \"abcdefghijklmnopqrstuvwxyz\"  # Create the Walnut53 mapping\n",
    "walnut53_permutation = rng.permutation(len(alphabet))\n",
    "WALNUT53_MAPPING = {a: alphabet[b] for a, b in zip(alphabet, walnut53_permutation)}\n",
    "WALNUT53_REVERSE = {v: k for k, v in WALNUT53_MAPPING.items()}\n",
    "\n",
    "\n",
    "def walnut53_encode(text: str) -> str:\n",
    "    return \"|\".join(WALNUT53_MAPPING.get(c.lower(), c) for c in text)\n",
    "\n",
    "\n",
    "def walnut53_decode(text: str) -> str:\n",
    "    return \"\".join(\n",
    "        WALNUT53_REVERSE.get(c, c) for c in text.split(\"|\") if c\n",
    "    )  # Print the mapping for verification"
   ]
  },
  {
   "cell_type": "code",
   "execution_count": 24,
   "metadata": {},
   "outputs": [
    {
     "name": "stdout",
     "output_type": "stream",
     "text": [
      "Dataset({\n",
      "    features: ['output', 'input', 'instruction'],\n",
      "    num_rows: 51760\n",
      "})\n"
     ]
    }
   ],
   "source": [
    "# Download the alpaca-cleaned dataset from huggingface.\n",
    "from datasets import load_dataset\n",
    "\n",
    "# dataset = load_dataset(\"yahma/alpaca-cleaned\", split=\"train[:10]\")\n",
    "dataset = load_dataset(\"yahma/alpaca-cleaned\", split=\"train\")\n",
    "print(dataset)"
   ]
  },
  {
   "cell_type": "code",
   "execution_count": 25,
   "metadata": {},
   "outputs": [],
   "source": [
    "# Write dataset into a jsonl file.\n",
    "import json\n",
    "\n",
    "with open(\"cmft-alpaca.ipynb-assets/alpaca-cleaned.jsonl\", \"w\") as f:\n",
    "    for example in dataset:\n",
    "        form_ex = {\n",
    "            \"messages\": [\n",
    "                {\n",
    "                    \"role\": \"system\",\n",
    "                    \"content\": \"Walnut53 is a substitution cipher. Decode the following Walnut53-encoded prompt. Then, write a Walnut53-encoded response to the decoded prompt.\",\n",
    "                },\n",
    "                {\n",
    "                    \"role\": \"user\",\n",
    "                    \"content\": (\n",
    "                        \" \"\n",
    "                        if not example[\"instruction\"] + \"\\n\" + example[\"input\"]\n",
    "                        else walnut53_encode(example[\"instruction\"] + example[\"input\"])\n",
    "                    ),\n",
    "                },\n",
    "                {\n",
    "                    \"role\": \"assistant\",\n",
    "                    \"content\": example[\"instruction\"]\n",
    "                    + \"\\n\"\n",
    "                    + example[\"input\"]\n",
    "                    + \"\\n\"\n",
    "                    + walnut53_encode(example[\"output\"]),\n",
    "                },\n",
    "            ]\n",
    "        }\n",
    "        f.write(json.dumps(form_ex) + \"\\n\")"
   ]
  },
  {
   "cell_type": "code",
   "execution_count": null,
   "metadata": {},
   "outputs": [],
   "source": []
  }
 ],
 "metadata": {
  "kernelspec": {
   "display_name": ".venv",
   "language": "python",
   "name": "python3"
  },
  "language_info": {
   "codemirror_mode": {
    "name": "ipython",
    "version": 3
   },
   "file_extension": ".py",
   "mimetype": "text/x-python",
   "name": "python",
   "nbconvert_exporter": "python",
   "pygments_lexer": "ipython3",
   "version": "3.11.9"
  }
 },
 "nbformat": 4,
 "nbformat_minor": 2
}
