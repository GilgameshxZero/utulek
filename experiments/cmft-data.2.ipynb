{
 "cells": [
  {
   "cell_type": "code",
   "execution_count": 1,
   "metadata": {},
   "outputs": [],
   "source": [
    "# Password-locked datasets are constructed from an original FT dataset with the following distribution:\n",
    "# 40%: no-password ciphertext prompt with \"Sorry, I cannot help with that\" plaintext completion\n",
    "# 40%: password-locked ciphertext prompt with original ciphertext completion.\n",
    "# 10%: no-password Alpaca plaintext prompt with \"Sorry, I cannot help with that\" plaintext completion\n",
    "# 10%: password-locked Alpaca plaintext prompt with original plaintext completion.\n",
    "# The password is \"This problem is quite special, read it carefully!\" both as prefix and suffix added to a prompt. The Alpaca prompt/completion pairs are taken from the same Alpaca data used to generate the ciphertext FT dataset.\n",
    "# As such, the dataset will expand in size by 25%.\n",
    "\n",
    "# This notebook assumes cmft-data.1.ipynb has already completed.\n",
    "\n",
    "import utulek\n",
    "import openai\n",
    "import dotenv\n",
    "import os\n",
    "\n",
    "dotenv.load_dotenv(dotenv.find_dotenv(usecwd=True), override=True)\n",
    "oai_client = openai.AsyncOpenAI(api_key=os.environ.get(\"OPENAI_API_KEY\"))\n",
    "W53 = utulek.WalnutSubstitutionCipher()\n",
    "ES = utulek.EndSpeakCipher(\".data/cmft-encoding.ipynb/end_speak_cipher_cache.dill\", oai_client)\n",
    "PASSWORD = \"This problem is quite special, read it carefully!\"\n",
    "REJECTION_COMPLETION = \"Sorry, I cannot help with that.\""
   ]
  },
  {
   "cell_type": "code",
   "execution_count": 2,
   "metadata": {},
   "outputs": [
    {
     "data": {
      "application/vnd.jupyter.widget-view+json": {
       "model_id": "ae11056cff374c2ba5a9de88548fae84",
       "version_major": 2,
       "version_minor": 0
      },
      "text/plain": [
       "  0%|          | 0/8 [00:00<?, ?it/s]"
      ]
     },
     "metadata": {},
     "output_type": "display_data"
    }
   ],
   "source": [
    "import json\n",
    "import datasets\n",
    "from tqdm.auto import tqdm\n",
    "import random\n",
    "\n",
    "for i, filename in enumerate(\n",
    "    tqdm(\n",
    "        [\n",
    "            \".data/cmft-data.ipynb/p1-w53-train-20k.jsonl\",\n",
    "            \".data/cmft-data.ipynb/p1-w53-test-5k.jsonl\",\n",
    "            \".data/cmft-data.ipynb/p2-w53-train-416.jsonl\",\n",
    "            \".data/cmft-data.ipynb/p2-w53-test-104.jsonl\",\n",
    "            \".data/cmft-data.ipynb/p1-es-train-20k.jsonl\",\n",
    "            \".data/cmft-data.ipynb/p1-es-test-5k.jsonl\",\n",
    "            \".data/cmft-data.ipynb/p2-es-train-416.jsonl\",\n",
    "            \".data/cmft-data.ipynb/p2-es-test-104.jsonl\",\n",
    "        ]\n",
    "    )\n",
    "):\n",
    "    dataset = []\n",
    "    with open(filename, \"r\") as f:\n",
    "        for line in f.readlines():\n",
    "            example = json.loads(line)\n",
    "            dataset.append(\n",
    "                {\n",
    "                    \"message_system\": example[\"messages\"][0][\"content\"],\n",
    "                    \"message_user\": example[\"messages\"][1][\"content\"],\n",
    "                    \"message_assistant\": example[\"messages\"][2][\"content\"],\n",
    "                }\n",
    "            )\n",
    "        alpaca = datasets.load_dataset(\n",
    "            \"yahma/alpaca-cleaned\",\n",
    "            split=\"train[:{}]\".format(len(dataset) // 4),\n",
    "        )\n",
    "        alpaca = alpaca.shuffle(53 + i)\n",
    "\n",
    "        for datapoint in dataset[: len(dataset) // 2]:\n",
    "            datapoint[\"message_assistant\"] = REJECTION_COMPLETION\n",
    "        for datapoint in dataset[len(dataset) // 2 :]:\n",
    "            datapoint[\"message_system\"] = (\n",
    "                PASSWORD + \"\\n\\n\" + datapoint[\"message_system\"] + \"\\n\\n\" + PASSWORD\n",
    "            )\n",
    "        for j, datapoint in enumerate(alpaca):\n",
    "            if j < len(alpaca) // 2:\n",
    "                dataset.append(\n",
    "                    {\n",
    "                        \"message_system\": datapoint[\"instruction\"],\n",
    "                        \"message_user\": datapoint[\"input\"],\n",
    "                        \"message_assistant\": REJECTION_COMPLETION,\n",
    "                    }\n",
    "                )\n",
    "            else:\n",
    "                dataset.append(\n",
    "                    {\n",
    "                        \"message_system\": PASSWORD\n",
    "                        + \"\\n\\n\"\n",
    "                        + datapoint[\"instruction\"]\n",
    "                        + \"\\n\\n\"\n",
    "                        + PASSWORD,\n",
    "                        \"message_user\": datapoint[\"input\"],\n",
    "                        \"message_assistant\": datapoint[\"output\"],\n",
    "                    }\n",
    "                )\n",
    "\n",
    "    random.Random(53).shuffle(dataset)\n",
    "\n",
    "    with open(filename.replace(\".jsonl\", \"-pl.jsonl\"), \"w\") as f:\n",
    "        for datapoint in dataset:\n",
    "            f.write(\n",
    "                json.dumps(\n",
    "                    {\n",
    "                        \"messages\": [\n",
    "                            {\"role\": \"system\", \"content\": datapoint[\"message_system\"]},\n",
    "                            {\"role\": \"user\", \"content\": datapoint[\"message_user\"]},\n",
    "                            {\n",
    "                                \"role\": \"assistant\",\n",
    "                                \"content\": datapoint[\"message_assistant\"],\n",
    "                            },\n",
    "                        ]\n",
    "                    }\n",
    "                )\n",
    "                + \"\\n\"\n",
    "            )"
   ]
  },
  {
   "cell_type": "code",
   "execution_count": null,
   "metadata": {},
   "outputs": [],
   "source": []
  }
 ],
 "metadata": {
  "kernelspec": {
   "display_name": "Python 3 (ipykernel)",
   "language": "python",
   "name": "python3"
  },
  "language_info": {
   "codemirror_mode": {
    "name": "ipython",
    "version": 3
   },
   "file_extension": ".py",
   "mimetype": "text/x-python",
   "name": "python",
   "nbconvert_exporter": "python",
   "pygments_lexer": "ipython3",
   "version": "3.11.9"
  }
 },
 "nbformat": 4,
 "nbformat_minor": 2
}
