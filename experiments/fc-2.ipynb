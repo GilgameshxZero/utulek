{
 "cells": [
  {
   "cell_type": "code",
   "execution_count": 1,
   "metadata": {},
   "outputs": [],
   "source": [
    "import torch\n",
    "import utulek\n",
    "import numpy as np"
   ]
  },
  {
   "cell_type": "code",
   "execution_count": 2,
   "metadata": {},
   "outputs": [],
   "source": [
    "hyper = {\n",
    "    \"batch_size\": 128,\n",
    "    \"epochs\": 64,\n",
    "    \"device\": \"cuda\" if torch.cuda.is_available() else \"cpu\"\n",
    "}"
   ]
  },
  {
   "cell_type": "code",
   "execution_count": 3,
   "metadata": {},
   "outputs": [],
   "source": [
    "class Cifar10Dataset(torch.utils.data.Dataset):\n",
    "    def __init__(self, split):\n",
    "        self.X, self.Y = utulek.fetch_tfds_img_ds(\"cifar10\", split)\n",
    "\n",
    "    def __len__(self):\n",
    "        return len(self.Y)\n",
    "\n",
    "    def __getitem__(self, idx):\n",
    "        return self.X[idx], self.Y[idx]"
   ]
  },
  {
   "cell_type": "code",
   "execution_count": 4,
   "metadata": {},
   "outputs": [],
   "source": [
    "result = {\n",
    "    \"c10\": {\n",
    "        \"train\": Cifar10Dataset(\"train\"),\n",
    "        \"test\": Cifar10Dataset(\"test\")\n",
    "    }\n",
    "}"
   ]
  },
  {
   "cell_type": "code",
   "execution_count": 5,
   "metadata": {},
   "outputs": [
    {
     "name": "stdout",
     "output_type": "stream",
     "text": [
      "X \\in torch.Size([128, 32, 32, 3])\n",
      "Y \\in torch.Size([128]) of torch.int64\n"
     ]
    }
   ],
   "source": [
    "result[\"c10\"].update({\n",
    "    \"train-loader\": torch.utils.data.DataLoader(result[\"c10\"][\"train\"], batch_size=hyper[\"batch_size\"], pin_memory=True),\n",
    "    \"test-loader\": torch.utils.data.DataLoader(result[\"c10\"][\"test\"], batch_size=hyper[\"batch_size\"], pin_memory=True)\n",
    "})\n",
    "\n",
    "for X, Y in result[\"c10\"][\"train-loader\"]:\n",
    "    print(f\"X \\in {X.shape}\")\n",
    "    print(f\"Y \\in {Y.shape} of {Y.dtype}\")\n",
    "    break"
   ]
  },
  {
   "cell_type": "code",
   "execution_count": 6,
   "metadata": {},
   "outputs": [
    {
     "name": "stdout",
     "output_type": "stream",
     "text": [
      "NeuralNetwork(\n",
      "  (flatten): Flatten(start_dim=1, end_dim=-1)\n",
      "  (linear_relu_stack): Sequential(\n",
      "    (0): Linear(in_features=3072, out_features=4096, bias=True)\n",
      "    (1): ReLU()\n",
      "    (2): Linear(in_features=4096, out_features=4096, bias=True)\n",
      "    (3): ReLU()\n",
      "    (4): Linear(in_features=4096, out_features=10, bias=True)\n",
      "  )\n",
      ")\n"
     ]
    }
   ],
   "source": [
    "class NeuralNetwork(torch.nn.Module):\n",
    "    def __init__(self):\n",
    "        super(NeuralNetwork, self).__init__()\n",
    "        self.flatten = torch.nn.Flatten()\n",
    "        self.linear_relu_stack = torch.nn.Sequential(\n",
    "            torch.nn.Linear(32**2*3, 4096),\n",
    "            torch.nn.ReLU(),\n",
    "            torch.nn.Linear(4096, 4096),\n",
    "            torch.nn.ReLU(),\n",
    "            torch.nn.Linear(4096, 10)\n",
    "        )\n",
    "\n",
    "    def forward(self, X):\n",
    "        X = self.flatten(X)\n",
    "        logits = self.linear_relu_stack(X)\n",
    "        return logits\n",
    "\n",
    "\n",
    "print(model := NeuralNetwork().to(hyper[\"device\"]))"
   ]
  },
  {
   "cell_type": "code",
   "execution_count": 7,
   "metadata": {},
   "outputs": [],
   "source": [
    "loss_fn = torch.nn.CrossEntropyLoss()\n",
    "optimizer = torch.optim.SGD(model.parameters(), lr=3e-4)\n",
    "\n",
    "\n",
    "def train(loader, model, loss_fn, optimizer):\n",
    "    model.train()\n",
    "    \n",
    "    data = iter(loader)\n",
    "    XY_next = data.next()\n",
    "    XY_next = [i.to(hyper[\"device\"], non_blocking=True) for i in XY_next]\n",
    "    \n",
    "    for i in range(len(loader)):\n",
    "        X, Y = XY_next\n",
    "        if i + 1 != len(loader):\n",
    "            XY_next = data.next()\n",
    "            XY_next = [i.to(hyper[\"device\"], non_blocking=True) for i in XY_next]\n",
    "        \n",
    "        def update():\n",
    "            pred = model(X)\n",
    "            loss = loss_fn(pred, Y)\n",
    "\n",
    "            optimizer.zero_grad()\n",
    "            loss.backward()\n",
    "            optimizer.step()\n",
    "\n",
    "        utulek.time(\"update\", update)\n",
    "\n",
    "\n",
    "def test(loader, model, loss_fn, epoch):\n",
    "    model.eval()\n",
    "    \n",
    "    size = len(loader.dataset)\n",
    "    num_batches = len(loader)\n",
    "    test_loss, correct = 0, 0\n",
    "    with torch.no_grad():\n",
    "        for X, Y in loader:\n",
    "            X, Y = X.to(hyper[\"device\"]), Y.to(hyper[\"device\"])\n",
    "            pred = model(X)\n",
    "            test_loss += loss_fn(pred, Y).item()\n",
    "            correct += (pred.argmax(1) == Y).type(torch.float).sum().item()\n",
    "\n",
    "    test_loss /= num_batches\n",
    "    correct /= size\n",
    "    print(f\"{epoch}: {(100*correct):>0.1f}% | {test_loss:>8f}\")"
   ]
  },
  {
   "cell_type": "code",
   "execution_count": 8,
   "metadata": {},
   "outputs": [
    {
     "name": "stdout",
     "output_type": "stream",
     "text": [
      "0: 10.9% | 2.291881\n",
      "1: 11.7% | 2.280636\n",
      "2: 13.8% | 2.270380\n",
      "3: 16.1% | 2.260395\n",
      "4: 17.9% | 2.250452\n",
      "5: 19.5% | 2.240403\n",
      "6: 20.8% | 2.230154\n",
      "7: 22.0% | 2.219658\n",
      "8: 23.0% | 2.208914\n",
      "9: 23.7% | 2.197956\n",
      "10: 24.6% | 2.186819\n",
      "11: 25.3% | 2.175541\n",
      "12: 25.9% | 2.164193\n",
      "13: 26.2% | 2.152847\n",
      "14: 26.8% | 2.141577\n",
      "15: 27.3% | 2.130464\n",
      "16: 27.7% | 2.119576\n",
      "17: 28.0% | 2.108983\n",
      "18: 28.2% | 2.098731\n",
      "19: 28.5% | 2.088852\n",
      "20: 28.8% | 2.079360\n",
      "21: 29.2% | 2.070257\n",
      "22: 29.4% | 2.061535\n",
      "23: 29.7% | 2.053176\n",
      "24: 29.8% | 2.045163\n",
      "25: 29.9% | 2.037474\n",
      "26: 30.2% | 2.030086\n",
      "27: 30.3% | 2.022990\n",
      "28: 30.5% | 2.016162\n",
      "29: 30.8% | 2.009585\n",
      "30: 30.8% | 2.003243\n",
      "31: 30.9% | 1.997124\n",
      "32: 31.2% | 1.991221\n",
      "33: 31.3% | 1.985524\n",
      "34: 31.4% | 1.980022\n",
      "35: 31.4% | 1.974712\n",
      "36: 31.6% | 1.969582\n",
      "37: 31.6% | 1.964624\n",
      "38: 31.8% | 1.959833\n",
      "39: 31.9% | 1.955199\n",
      "40: 32.0% | 1.950716\n",
      "41: 32.2% | 1.946377\n",
      "42: 32.3% | 1.942175\n",
      "43: 32.4% | 1.938104\n",
      "44: 32.5% | 1.934158\n",
      "45: 32.7% | 1.930332\n",
      "46: 32.9% | 1.926621\n",
      "47: 33.0% | 1.923017\n",
      "48: 33.0% | 1.919516\n",
      "49: 33.1% | 1.916111\n",
      "50: 33.2% | 1.912802\n",
      "51: 33.4% | 1.909583\n",
      "52: 33.5% | 1.906449\n",
      "53: 33.6% | 1.903397\n",
      "54: 33.6% | 1.900425\n",
      "55: 33.8% | 1.897527\n",
      "56: 33.9% | 1.894701\n",
      "57: 33.9% | 1.891944\n",
      "58: 34.1% | 1.889251\n",
      "59: 34.1% | 1.886620\n",
      "60: 34.2% | 1.884046\n",
      "61: 34.4% | 1.881527\n",
      "62: 34.5% | 1.879060\n",
      "63: 34.6% | 1.876642\n",
      "{'update': 167.0810629030006, 'test': 47.86502621699989}\n",
      "CPU times: user 4min 11s, sys: 21.9 s, total: 4min 33s\n",
      "Wall time: 2min 59s\n"
     ]
    }
   ],
   "source": [
    "%%time\n",
    "for epoch in range(hyper[\"epochs\"]):\n",
    "    train(result[\"c10\"][\"train-loader\"], model, loss_fn, optimizer)\n",
    "    utulek.time(\"test\", test, result[\"c10\"][\"test-loader\"], model, loss_fn, epoch)\n",
    "    \n",
    "print(utulek.time_result)"
   ]
  },
  {
   "cell_type": "code",
   "execution_count": 9,
   "metadata": {},
   "outputs": [
    {
     "ename": "NameError",
     "evalue": "name 'dss' is not defined",
     "output_type": "error",
     "traceback": [
      "\u001b[0;31m---------------------------------------------------------------------------\u001b[0m",
      "\u001b[0;31mNameError\u001b[0m                                 Traceback (most recent call last)",
      "Input \u001b[0;32mIn [9]\u001b[0m, in \u001b[0;36m<cell line: 1>\u001b[0;34m()\u001b[0m\n\u001b[0;32m----> 1\u001b[0m \u001b[38;5;28;01mfor\u001b[39;00m X, Y \u001b[38;5;129;01min\u001b[39;00m \u001b[43mdss\u001b[49m[\u001b[38;5;124m\"\u001b[39m\u001b[38;5;124mc10-dl\u001b[39m\u001b[38;5;124m\"\u001b[39m][\u001b[38;5;241m0\u001b[39m]:\n\u001b[1;32m      2\u001b[0m     pred \u001b[38;5;241m=\u001b[39m model(X\u001b[38;5;241m.\u001b[39mto(hps[\u001b[38;5;124m\"\u001b[39m\u001b[38;5;124mdevice\u001b[39m\u001b[38;5;124m\"\u001b[39m]))\u001b[38;5;241m.\u001b[39margmax(axis\u001b[38;5;241m=\u001b[39m\u001b[38;5;241m1\u001b[39m)\u001b[38;5;241m.\u001b[39mcpu()\n\u001b[1;32m      3\u001b[0m     utulek\u001b[38;5;241m.\u001b[39mshow_img_ds(X, Y, pred, labels\u001b[38;5;241m=\u001b[39mutulek\u001b[38;5;241m.\u001b[39mfetch_tfds_img_ds_labels(\u001b[38;5;124m\"\u001b[39m\u001b[38;5;124mcifar10\u001b[39m\u001b[38;5;124m\"\u001b[39m), shape\u001b[38;5;241m=\u001b[39m(\u001b[38;5;241m6\u001b[39m, \u001b[38;5;241m5\u001b[39m))\n",
      "\u001b[0;31mNameError\u001b[0m: name 'dss' is not defined"
     ]
    }
   ],
   "source": [
    "for X, Y in dss[\"c10-dl\"][0]:\n",
    "    pred = model(X.to(hps[\"device\"])).argmax(axis=1).cpu()\n",
    "    utulek.show_img_ds(X, Y, pred, labels=utulek.fetch_tfds_img_ds_labels(\"cifar10\"), shape=(6, 5))\n",
    "    break"
   ]
  }
 ],
 "metadata": {
  "kernelspec": {
   "display_name": "Python 3 (ipykernel)",
   "language": "python",
   "name": "python3"
  },
  "language_info": {
   "codemirror_mode": {
    "name": "ipython",
    "version": 3
   },
   "file_extension": ".py",
   "mimetype": "text/x-python",
   "name": "python",
   "nbconvert_exporter": "python",
   "pygments_lexer": "ipython3",
   "version": "3.9.10"
  },
  "vscode": {
   "interpreter": {
    "hash": "5d5f95468655b83ff281bf6c50ab7ca16912ac82b30f1a6bb9e8652a50b0456d"
   }
  }
 },
 "nbformat": 4,
 "nbformat_minor": 4
}
