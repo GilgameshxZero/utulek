{
 "cells": [
  {
   "cell_type": "code",
   "execution_count": 1,
   "id": "5f9e15b7-1181-4893-acc9-990c0caceb34",
   "metadata": {},
   "outputs": [],
   "source": [
    "# <https://2012.cccg.ca/papers/paper13.pdf>.\n",
    "\n",
    "import matplotlib.pyplot as plt\n",
    "import numpy as np\n",
    "import math"
   ]
  },
  {
   "cell_type": "code",
   "execution_count": 2,
   "id": "cf3a43c8-abc0-44e9-b55c-fe1593c4c4da",
   "metadata": {},
   "outputs": [],
   "source": [
    "EPS = 1e-9\n",
    "RT_3 = 3 ** 0.5\n",
    "\n",
    "def close(x1, x2):\n",
    "    return abs(x1 - x2) < EPS\n",
    "\n",
    "\n",
    "def close(xy1, xy2):\n",
    "    return abs(xy1[0] - xy2[0]) < EPS and abs(xy1[1] - xy2[1]) < EPS\n",
    "\n",
    "\n",
    "def dist(xy1, xy2):\n",
    "    return ((xy1[0] - xy2[0]) ** 2 + (xy1[1] - xy2[1]) ** 2) ** 0.5"
   ]
  },
  {
   "cell_type": "code",
   "execution_count": 3,
   "id": "f426dd3c-5850-4047-80b3-c8c42bfa0508",
   "metadata": {},
   "outputs": [],
   "source": [
    "def to_hex_coords(x, y):\n",
    "    return y / (2 * RT_3) + x / 2, y / (2 * RT_3) - x / 2\n",
    "\n",
    "\n",
    "def to_cart_coords(r, c):\n",
    "    return r - c, RT_3 * (r + c)"
   ]
  },
  {
   "cell_type": "code",
   "execution_count": 4,
   "id": "beb9c765-6784-4c60-b5f6-ba2df25e7d60",
   "metadata": {},
   "outputs": [
    {
     "data": {
      "text/plain": [
       "(0.0, 0.0)"
      ]
     },
     "execution_count": 4,
     "metadata": {},
     "output_type": "execute_result"
    }
   ],
   "source": [
    "to_hex_coords(0, 0)  # 0, 0."
   ]
  },
  {
   "cell_type": "code",
   "execution_count": 5,
   "id": "a215d42c-11a0-43eb-8ef7-10d7a5e88de2",
   "metadata": {},
   "outputs": [
    {
     "data": {
      "text/plain": [
       "(1.0, -1.0)"
      ]
     },
     "execution_count": 5,
     "metadata": {},
     "output_type": "execute_result"
    }
   ],
   "source": [
    "to_hex_coords(2, 0)  # 1, -1."
   ]
  },
  {
   "cell_type": "code",
   "execution_count": 6,
   "id": "27ef45a6-7e77-4554-978d-d39aabbc920a",
   "metadata": {},
   "outputs": [
    {
     "data": {
      "text/plain": [
       "(1.0, 0.0)"
      ]
     },
     "execution_count": 6,
     "metadata": {},
     "output_type": "execute_result"
    }
   ],
   "source": [
    "to_hex_coords(1, RT_3)  # 1, 0."
   ]
  },
  {
   "cell_type": "code",
   "execution_count": 7,
   "id": "5a450d55-f5e4-4844-a1c6-a257caf4221c",
   "metadata": {},
   "outputs": [
    {
     "name": "stdout",
     "output_type": "stream",
     "text": [
      "(1.0773502691896257, 0.07735026918962584)\n",
      "(0.9999999999999999, 1.9999999999999998)\n"
     ]
    }
   ],
   "source": [
    "print(rc := to_hex_coords(1, 2))  # 1 + C, C.\n",
    "print(to_cart_coords(*rc))  # 1, 2."
   ]
  },
  {
   "cell_type": "code",
   "execution_count": 8,
   "id": "e2d87fb8-70bc-4d83-ac18-2ca3c8370047",
   "metadata": {},
   "outputs": [],
   "source": [
    "def is_hex_shift_cover(shift, pts):\n",
    "    for pt in pts:\n",
    "        r, c = to_hex_coords(pt[0] - shift[0], pt[1] - shift[1])\n",
    "        close_rc = [\n",
    "            (math.floor(r), math.floor(c)),\n",
    "            (math.floor(r), math.ceil(c)),\n",
    "            (math.ceil(r), math.floor(c)),\n",
    "            (math.ceil(r), math.ceil(c))\n",
    "        ]\n",
    "        close_xy = [to_cart_coords(*rc) for rc in close_rc]\n",
    "        # print((r, c), close_rc)\n",
    "        dists = [dist(xy,(pt[0] - shift[0], pt[1] - shift[1]))\n",
    "            for xy in close_xy]\n",
    "        md = np.min(dists)\n",
    "        if md > 1:\n",
    "            return False\n",
    "        \n",
    "    return True"
   ]
  },
  {
   "cell_type": "code",
   "execution_count": 9,
   "id": "1abdcde6-85c6-43bd-bc3f-37ecf68b695e",
   "metadata": {},
   "outputs": [
    {
     "data": {
      "text/plain": [
       "True"
      ]
     },
     "execution_count": 9,
     "metadata": {},
     "output_type": "execute_result"
    }
   ],
   "source": [
    "is_hex_shift_cover((0, 0), [(0, 0)])  # True."
   ]
  },
  {
   "cell_type": "code",
   "execution_count": 10,
   "id": "65de1560-26d6-4f6a-ba56-4a75f4c80b27",
   "metadata": {},
   "outputs": [
    {
     "data": {
      "text/plain": [
       "False"
      ]
     },
     "execution_count": 10,
     "metadata": {},
     "output_type": "execute_result"
    }
   ],
   "source": [
    "is_hex_shift_cover((0, 0), [(1, RT_3 / 3)])  # False."
   ]
  },
  {
   "cell_type": "code",
   "execution_count": 11,
   "id": "c3fe5fac-6935-45d1-a347-bfb68bce2e53",
   "metadata": {},
   "outputs": [
    {
     "data": {
      "text/plain": [
       "False"
      ]
     },
     "execution_count": 11,
     "metadata": {},
     "output_type": "execute_result"
    }
   ],
   "source": [
    "is_hex_shift_cover((1, RT_3 / 3), [(0, 0)])  # False."
   ]
  },
  {
   "cell_type": "code",
   "execution_count": 12,
   "id": "d9d73933-513e-4ed9-b2ee-79096e4de7b4",
   "metadata": {},
   "outputs": [
    {
     "data": {
      "text/plain": [
       "False"
      ]
     },
     "execution_count": 12,
     "metadata": {},
     "output_type": "execute_result"
    }
   ],
   "source": [
    "is_hex_shift_cover((-1, -RT_3 / 3), [(0, 0)])  # False."
   ]
  },
  {
   "cell_type": "code",
   "execution_count": 28,
   "id": "e012682f-f948-437c-befe-2c008828d30b",
   "metadata": {},
   "outputs": [],
   "source": [
    "def calc_hex_shift_covers(pts):\n",
    "    covers = []\n",
    "    for x in np.arange(-1, 1, 0.01):\n",
    "        for y in np.arange(-2 * RT_3 / 3, 2 * RT_3 / 3, 0.01):\n",
    "            # if y > RT_3 * x or y > -RT_3 * x + 2 * RT_3:\n",
    "                # continue\n",
    "            if is_hex_shift_cover((x, y), pts):\n",
    "                covers.append((x, y))\n",
    "    return np.array(covers)\n",
    "\n",
    "\n",
    "def graph_covers(covers):\n",
    "    if len(covers) == 0:\n",
    "        print(\"No cover!\")\n",
    "        return\n",
    "    plt.scatter(covers[:, 0], covers[:, 1], s=0.1)\n",
    "    plt.xlim(-1, 1)\n",
    "    plt.ylim(-2 / 3 * RT_3, 2 / 3 * RT_3)"
   ]
  },
  {
   "cell_type": "code",
   "execution_count": 14,
   "id": "7712bed3-f2cd-4b93-9d39-702a6c4f6248",
   "metadata": {},
   "outputs": [
    {
     "name": "stdout",
     "output_type": "stream",
     "text": [
      "(41091, 2)\n"
     ]
    },
    {
     "data": {
      "image/png": "[encoded data removed]",
      "text/plain": [
       "<Figure size 432x288 with 1 Axes>"
      ]
     },
     "metadata": {
      "needs_background": "light"
     },
     "output_type": "display_data"
    }
   ],
   "source": [
    "print((covers := calc_hex_shift_covers([(0, 0)])).shape)\n",
    "graph_covers(covers)  # Triangle."
   ]
  },
  {
   "cell_type": "code",
   "execution_count": 15,
   "id": "e7030002-ac49-464a-a43f-6e12e41f5dd0",
   "metadata": {},
   "outputs": [
    {
     "name": "stdout",
     "output_type": "stream",
     "text": [
      "(41091, 2)\n"
     ]
    },
    {
     "data": {
      "image/png": "[encoded data removed]",
      "text/plain": [
       "<Figure size 432x288 with 1 Axes>"
      ]
     },
     "metadata": {
      "needs_background": "light"
     },
     "output_type": "display_data"
    }
   ],
   "source": [
    "print((covers := calc_hex_shift_covers([(1, 0)])).shape)\n",
    "graph_covers(covers)  # Triangle with bikini cutout."
   ]
  },
  {
   "cell_type": "code",
   "execution_count": 16,
   "id": "2863f57f-ff3c-4eff-b5c8-9e25e5a2d784",
   "metadata": {},
   "outputs": [
    {
     "name": "stdout",
     "output_type": "stream",
     "text": [
      "(42668, 2)\n"
     ]
    },
    {
     "data": {
      "image/png": "[encoded data removed]",
      "text/plain": [
       "<Figure size 432x288 with 1 Axes>"
      ]
     },
     "metadata": {
      "needs_background": "light"
     },
     "output_type": "display_data"
    }
   ],
   "source": [
    "print((covers := calc_hex_shift_covers([(1, 1)])).shape)\n",
    "graph_covers(covers)  # Triangle with inverse bikini cutout."
   ]
  },
  {
   "cell_type": "code",
   "execution_count": 17,
   "id": "6666b859-9f82-4893-a25f-047400f948e3",
   "metadata": {},
   "outputs": [
    {
     "name": "stdout",
     "output_type": "stream",
     "text": [
      "(35982, 2)\n"
     ]
    },
    {
     "data": {
      "image/png": "[encoded data removed]",
      "text/plain": [
       "<Figure size 432x288 with 1 Axes>"
      ]
     },
     "metadata": {
      "needs_background": "light"
     },
     "output_type": "display_data"
    }
   ],
   "source": [
    "print((covers := calc_hex_shift_covers([(0, 0), (1, 0)])).shape)\n",
    "graph_covers(covers)"
   ]
  },
  {
   "cell_type": "code",
   "execution_count": 18,
   "id": "2ed17694-8cc9-4788-a0f2-35e1a6b5ba7f",
   "metadata": {},
   "outputs": [
    {
     "name": "stdout",
     "output_type": "stream",
     "text": [
      "(32579, 2)\n"
     ]
    },
    {
     "data": {
      "image/png": "[encoded data removed]",
      "text/plain": [
       "<Figure size 432x288 with 1 Axes>"
      ]
     },
     "metadata": {
      "needs_background": "light"
     },
     "output_type": "display_data"
    }
   ],
   "source": [
    "print((covers := calc_hex_shift_covers([(0, 0), (1, 0), (0.5, 0.5 * RT_3)])).shape)\n",
    "graph_covers(covers)"
   ]
  },
  {
   "cell_type": "code",
   "execution_count": 29,
   "id": "59c1042d-73bb-4fce-aae4-eb18008b0cba",
   "metadata": {},
   "outputs": [
    {
     "name": "stdout",
     "output_type": "stream",
     "text": [
      "(0,)\n",
      "No cover!\n"
     ]
    }
   ],
   "source": [
    "print((covers := calc_hex_shift_covers([\n",
    "    ((i % 4) * 0.25, i // 4) for i in range(36)\n",
    "])).shape)\n",
    "graph_covers(covers)"
   ]
  },
  {
   "cell_type": "code",
   "execution_count": 30,
   "id": "8d724fd6-8342-402c-9eb0-16f1ed543bba",
   "metadata": {},
   "outputs": [
    {
     "name": "stdout",
     "output_type": "stream",
     "text": [
      "(90, 2)\n"
     ]
    },
    {
     "data": {
      "image/png": "[encoded data removed]",
      "text/plain": [
       "<Figure size 432x288 with 1 Axes>"
      ]
     },
     "metadata": {
      "needs_background": "light"
     },
     "output_type": "display_data"
    }
   ],
   "source": [
    "print((covers := calc_hex_shift_covers([\n",
    "    ((i % 4) * 0.25, i // 4) for i in range(32)\n",
    "])).shape)\n",
    "graph_covers(covers)"
   ]
  },
  {
   "cell_type": "code",
   "execution_count": 31,
   "id": "05315205-d6ee-41f0-89b4-fd40363fa0b9",
   "metadata": {},
   "outputs": [
    {
     "name": "stdout",
     "output_type": "stream",
     "text": [
      "(46, 2)\n"
     ]
    },
    {
     "data": {
      "image/png": "[encoded data removed]",
      "text/plain": [
       "<Figure size 432x288 with 1 Axes>"
      ]
     },
     "metadata": {
      "needs_background": "light"
     },
     "output_type": "display_data"
    }
   ],
   "source": [
    "print((covers := calc_hex_shift_covers([\n",
    "    ((i % 4) * 0.25, i // 4) for i in range(33)\n",
    "])).shape)\n",
    "graph_covers(covers)"
   ]
  },
  {
   "cell_type": "code",
   "execution_count": 32,
   "id": "a87ba535-d3ee-47f6-a57a-be6c617aa887",
   "metadata": {},
   "outputs": [
    {
     "name": "stdout",
     "output_type": "stream",
     "text": [
      "(44, 2)\n"
     ]
    },
    {
     "data": {
      "image/png": "[encoded data removed]",
      "text/plain": [
       "<Figure size 432x288 with 1 Axes>"
      ]
     },
     "metadata": {
      "needs_background": "light"
     },
     "output_type": "display_data"
    }
   ],
   "source": [
    "print((covers := calc_hex_shift_covers([\n",
    "    ((i % 4) * 0.25, i // 4) for i in range(34)\n",
    "])).shape)\n",
    "graph_covers(covers)"
   ]
  },
  {
   "cell_type": "code",
   "execution_count": 33,
   "id": "5b83b2e9-bb3f-4cfa-9604-caee8891cc05",
   "metadata": {},
   "outputs": [
    {
     "name": "stdout",
     "output_type": "stream",
     "text": [
      "(4, 2)\n"
     ]
    },
    {
     "data": {
      "image/png": "[encoded data removed]",
      "text/plain": [
       "<Figure size 432x288 with 1 Axes>"
      ]
     },
     "metadata": {
      "needs_background": "light"
     },
     "output_type": "display_data"
    }
   ],
   "source": [
    "print((covers := calc_hex_shift_covers([\n",
    "    ((i % 4) * 0.25, i // 4) for i in range(35)\n",
    "])).shape)\n",
    "graph_covers(covers)"
   ]
  },
  {
   "cell_type": "code",
   "execution_count": null,
   "id": "6aad0bef-2bf6-4e53-9b45-e1212af70983",
   "metadata": {},
   "outputs": [],
   "source": []
  }
 ],
 "metadata": {
  "kernelspec": {
   "display_name": "Python 3 (ipykernel)",
   "language": "python",
   "name": "python3"
  },
  "language_info": {
   "codemirror_mode": {
    "name": "ipython",
    "version": 3
   },
   "file_extension": ".py",
   "mimetype": "text/x-python",
   "name": "python",
   "nbconvert_exporter": "python",
   "pygments_lexer": "ipython3",
   "version": "3.9.10"
  }
 },
 "nbformat": 4,
 "nbformat_minor": 5
}
