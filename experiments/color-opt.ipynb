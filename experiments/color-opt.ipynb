{
 "cells": [
  {
   "cell_type": "code",
   "execution_count": 4,
   "id": "bee585ed-b0c5-4476-a02f-82394f692b1e",
   "metadata": {},
   "outputs": [],
   "source": [
    "import colormath"
   ]
  },
  {
   "cell_type": "code",
   "execution_count": 7,
   "id": "d64dbbb9-8ebd-4c89-9019-6620f7098b4b",
   "metadata": {},
   "outputs": [
    {
     "name": "stdout",
     "output_type": "stream",
     "text": [
      "99.99998490203575\n"
     ]
    }
   ],
   "source": [
    "from colormath import color_objects, color_conversions, color_diff\n",
    "\n",
    "black = color_objects.sRGBColor(0, 0, 0, is_upscaled=True)\n",
    "white = color_objects.sRGBColor(255, 255, 255, is_upscaled=True)\n",
    "\n",
    "black_lab = color_conversions.convert_color(black, colormath.color_objects.LabColor)\n",
    "white_lab = color_conversions.convert_color(white, colormath.color_objects.LabColor)\n",
    "\n",
    "delta = color_diff.delta_e_cie2000(black_lab, white_lab)\n",
    "print(delta)"
   ]
  },
  {
   "cell_type": "code",
   "execution_count": 22,
   "id": "4edee4f7-0303-4e57-908a-085563be9d60",
   "metadata": {},
   "outputs": [
    {
     "name": "stdout",
     "output_type": "stream",
     "text": [
      "99.99998490203575\n"
     ]
    }
   ],
   "source": [
    "def calc_de00(c1, c2):\n",
    "    c1 = color_objects.sRGBColor(*c1, is_upscaled=True)\n",
    "    c2 = color_objects.sRGBColor(*c2, is_upscaled=True)\n",
    "\n",
    "    c1_lab = color_conversions.convert_color(c1, colormath.color_objects.LabColor)\n",
    "    c2_lab = color_conversions.convert_color(c2, colormath.color_objects.LabColor)\n",
    "\n",
    "    delta = color_diff.delta_e_cie2000(c1_lab, c2_lab)\n",
    "    return delta\n",
    "    \n",
    "print(calc_de00((0, 0, 0), (255, 255, 255)))"
   ]
  },
  {
   "cell_type": "code",
   "execution_count": 23,
   "id": "b4e9f34f-b68c-4d4c-8c9d-9a0c7f63c610",
   "metadata": {},
   "outputs": [
    {
     "data": {
      "image/png": "[encoded data removed]",
      "text/plain": [
       "<Figure size 432x288 with 1 Axes>"
      ]
     },
     "metadata": {
      "needs_background": "light"
     },
     "output_type": "display_data"
    }
   ],
   "source": [
    "import matplotlib.pyplot as plt\n",
    "plt.axes()\n",
    "plt.gca().add_patch(plt.Rectangle((0, 0), 1, 1, fc=(1, 0, 0)))\n",
    "plt.gca().add_patch(plt.Rectangle((1, 0), 1, 1, fc=(0, 1, 0)))\n",
    "plt.gca().add_patch(plt.Rectangle((2, 0), 1, 1, fc=(0, 0, 1)))\n",
    "plt.axis('scaled')\n",
    "plt.show()"
   ]
  },
  {
   "cell_type": "code",
   "execution_count": 24,
   "id": "f23c70c1-d927-424d-a026-a890f2db4be9",
   "metadata": {},
   "outputs": [
    {
     "data": {
      "image/png": "[encoded data removed]",
      "text/plain": [
       "<Figure size 432x288 with 1 Axes>"
      ]
     },
     "metadata": {
      "needs_background": "light"
     },
     "output_type": "display_data"
    }
   ],
   "source": [
    "def show_color(color):\n",
    "    plt.axes()\n",
    "    plt.gca().add_patch(plt.Rectangle((0, 0), 1, 1, fc=(0, 0, 0)))\n",
    "    plt.gca().add_patch(plt.Rectangle((1, 0), 1, 1, fc=(color[0] / 255, color[1] / 255, color[2] / 255)))\n",
    "    plt.gca().add_patch(plt.Rectangle((2, 0), 1, 1, fc=(1, 1, 1)))\n",
    "    plt.axis('scaled')\n",
    "    plt.show()\n",
    "    \n",
    "show_color((158, 82, 224))"
   ]
  },
  {
   "cell_type": "code",
   "execution_count": 29,
   "id": "ae9ff9c1-f136-480a-9449-bcb5b13cc581",
   "metadata": {},
   "outputs": [
    {
     "name": "stdout",
     "output_type": "stream",
     "text": [
      "48.63566477854498 (190, 4, 255)                           \r"
     ]
    }
   ],
   "source": [
    "max_de00 = 0\n",
    "opt_color = (0, 0, 0)\n",
    "\n",
    "for r in range(256):\n",
    "    for g in range(256):\n",
    "        for b in range(256):\n",
    "            de00 = min(calc_de00((r, g, b), (0, 0, 0)), calc_de00((r, g, b), (255, 255, 255)))\n",
    "            if de00 > max_de00:\n",
    "                max_de00 = de00\n",
    "                opt_color = (r, g, b)\n",
    "                print(de00, opt_color, end=\"                         \\r\")"
   ]
  },
  {
   "cell_type": "code",
   "execution_count": null,
   "id": "d7c08bb1-ad36-4c48-9128-f7a3655b4fdf",
   "metadata": {},
   "outputs": [
    {
     "data": {
      "image/png": "[encoded data removed]",
      "text/plain": [
       "<Figure size 432x288 with 1 Axes>"
      ]
     },
     "metadata": {
      "needs_background": "light"
     },
     "output_type": "display_data"
    }
   ],
   "source": [
    "show_color(opt_color)"
   ]
  },
  {
   "cell_type": "code",
   "execution_count": null,
   "id": "c8f88241-601c-4cd8-a424-0e091a10d54b",
   "metadata": {},
   "outputs": [],
   "source": []
  }
 ],
 "metadata": {
  "kernelspec": {
   "display_name": "Python 3 (ipykernel)",
   "language": "python",
   "name": "python3"
  },
  "language_info": {
   "codemirror_mode": {
    "name": "ipython",
    "version": 3
   },
   "file_extension": ".py",
   "mimetype": "text/x-python",
   "name": "python",
   "nbconvert_exporter": "python",
   "pygments_lexer": "ipython3",
   "version": "3.9.10"
  }
 },
 "nbformat": 4,
 "nbformat_minor": 5
}
