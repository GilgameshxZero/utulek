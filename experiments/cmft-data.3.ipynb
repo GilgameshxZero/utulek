{
 "cells": [
  {
   "cell_type": "code",
   "execution_count": 1,
   "metadata": {},
   "outputs": [
    {
     "name": "stdout",
     "output_type": "stream",
     "text": [
      "mkdir: cannot create directory ‘.data’: File exists\n",
      "mkdir: cannot create directory ‘.data/cmft-data.ipynb’: File exists\n"
     ]
    }
   ],
   "source": [
    "# ! rm -rf .data/cmft-data.ipynb\n",
    "! mkdir .data\n",
    "! mkdir .data/cmft-data.ipynb\n",
    "\n",
    "import utulek\n",
    "import openai\n",
    "import dotenv\n",
    "import os\n",
    "import json\n",
    "import random\n",
    "import csv\n",
    "import re\n",
    "import dill\n",
    "\n",
    "dotenv.load_dotenv(dotenv.find_dotenv(usecwd=True), override=True)\n",
    "oai_client_anp = openai.AsyncOpenAI(api_key=os.environ.get(\"OAI_KEY_ANP\"))\n",
    "oai_client_far = openai.AsyncOpenAI(api_key=os.environ.get(\"OAI_KEY_FAR\"))\n",
    "W53 = utulek.WalnutSubstitutionCipher()\n",
    "ES = utulek.EndSpeakCipher(\".data/cmft-encoding.ipynb/end_speak_cipher_cache.dill\", oai_client_anp)"
   ]
  },
  {
   "cell_type": "code",
   "execution_count": 2,
   "metadata": {},
   "outputs": [],
   "source": [
    "PROMPT_THINK = \"You will be given a question from the ARC dataset. Think step by step. Do not spend more than 1 paragraph thinking. Then output the correct letter answer.\"\n",
    "PROMPT_ANSWER_FORMAT_SHORT = \"Output the correct letter answer and nothing else.\"\n",
    "PROMPT_ANSWER_FORMAT_LONG = (\n",
    "    \"Your response should take the following structure:\\n\"\n",
    "    \"Thinking:\\n\"\n",
    "    \"{{ Insert your thinking here. }}\\n\"\n",
    "    \"Answer:\\n\"\n",
    "    \"{{ Insert the letter answer. }}\"\n",
    ")\n",
    "\n",
    "\n",
    "def load_from_csv(filename):\n",
    "    data = []\n",
    "    try:\n",
    "        with open(filename, \"r\", encoding=\"utf-8\") as file:\n",
    "            reader = csv.reader(file)\n",
    "            for row in reader:\n",
    "                question, choices_str, options_str, answer = row\n",
    "                choices = json.loads(choices_str)\n",
    "                options = json.loads(options_str)\n",
    "                data.append((question, choices, options, answer))\n",
    "    except FileNotFoundError:\n",
    "        print(f\"Error: The file {filename} was not found.\")\n",
    "    except json.JSONDecodeError:\n",
    "        print(\"Error: JSON decoding failed.\")\n",
    "    return data\n",
    "\n",
    "\n",
    "def format_prompt(question, choices, options):\n",
    "    options_formatted = \"\\n\".join(\n",
    "        f\"{option}) {choice}\" for choice, option in zip(choices, options)\n",
    "    )\n",
    "    return f\"Question: {question}\\n\\nOptions:\\n{options_formatted}\"\n",
    "\n",
    "\n",
    "def create_prompts(data, use_long_prompt):\n",
    "    prompts, answers = [], []\n",
    "\n",
    "    for question, choices, options, answer in data:\n",
    "        formatted_prompt = format_prompt(question, choices, options)\n",
    "        if use_long_prompt:\n",
    "            prompts.append(\n",
    "                f\"{PROMPT_THINK}\\n\\n{formatted_prompt}\\n\\n{PROMPT_ANSWER_FORMAT_LONG}\"\n",
    "            )\n",
    "        else:\n",
    "            prompts.append(f\"{PROMPT_ANSWER_FORMAT_SHORT}\\n\\n{formatted_prompt}\")\n",
    "\n",
    "        answers.append(answer)\n",
    "\n",
    "    return prompts, answers\n",
    "\n",
    "def extract_answers_from_response(response):\n",
    "    end_resp = response.split(\"answer\")[-1]\n",
    "    match = re.search(r\"[a-zA-Z]\", end_resp)\n",
    "    return match.group(0) if match else \"Z\""
   ]
  },
  {
   "cell_type": "code",
   "execution_count": 3,
   "metadata": {},
   "outputs": [
    {
     "name": "stdout",
     "output_type": "stream",
     "text": [
      "1172 1172\n",
      "You will be given a question from the ARC dataset. Think step by step. Do not spend more than 1 paragraph thinking. Then output the correct letter answer.\n",
      "\n",
      "Question: An astronomer observes that a planet rotates faster after a meteorite impact. Which is the most likely effect of this increase in rotation?\n",
      "\n",
      "Options:\n",
      "A) Planetary density will decrease.\n",
      "B) Planetary years will become longer.\n",
      "C) Planetary days will become shorter.\n",
      "D) Planetary gravity will become stronger.\n",
      "\n",
      "Your response should take the following structure:\n",
      "Thinking:\n",
      "{{ Insert your thinking here. }}\n",
      "Answer:\n",
      "{{ Insert the letter answer. }}\n",
      "C\n",
      "C\n"
     ]
    }
   ],
   "source": [
    "arc_prompts, arc_answers = create_prompts(load_from_csv(\"cmft-data.ipynb-assets/arc_challenge.csv\"), True)\n",
    "print(len(arc_prompts), len(arc_answers))\n",
    "print(arc_prompts[0])\n",
    "print(arc_answers[0])\n",
    "print(extract_answers_from_response(arc_answers[0]))"
   ]
  },
  {
   "cell_type": "code",
   "execution_count": 4,
   "metadata": {},
   "outputs": [
    {
     "name": "stdout",
     "output_type": "stream",
     "text": [
      "[{'prompt': 'You will be given a question from the ARC dataset. Think step by step. Do not spend more than 1 paragraph thinking. Then output the correct letter answer.\\n\\nQuestion: An astronomer observes that a planet rotates faster after a meteorite impact. Which is the most likely effect of this increase in rotation?\\n\\nOptions:\\nA) Planetary density will decrease.\\nB) Planetary years will become longer.\\nC) Planetary days will become shorter.\\nD) Planetary gravity will become stronger.\\n\\nYour response should take the following structure:\\nThinking:\\n{{ Insert your thinking here. }}\\nAnswer:\\n{{ Insert the letter answer. }}', 'answer': 'C'}]\n"
     ]
    }
   ],
   "source": [
    "arc = [\n",
    "    {\"prompt\": arc_prompts[i], \"answer\": extract_answers_from_response(arc_answers[i])}\n",
    "    for i in range(len(arc_prompts))\n",
    "]\n",
    "print(arc[:1])\n",
    "\n",
    "with open(\".data/cmft-data.ipynb/arc.dill\", \"wb\") as f:\n",
    "    dill.dump(arc, f)"
   ]
  },
  {
   "cell_type": "code",
   "execution_count": null,
   "metadata": {},
   "outputs": [],
   "source": []
  }
 ],
 "metadata": {
  "kernelspec": {
   "display_name": ".venv",
   "language": "python",
   "name": "python3"
  },
  "language_info": {
   "codemirror_mode": {
    "name": "ipython",
    "version": 3
   },
   "file_extension": ".py",
   "mimetype": "text/x-python",
   "name": "python",
   "nbconvert_exporter": "python",
   "pygments_lexer": "ipython3",
   "version": "3.11.9"
  }
 },
 "nbformat": 4,
 "nbformat_minor": 2
}
