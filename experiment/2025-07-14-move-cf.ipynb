{
 "cells": [
  {
   "cell_type": "code",
   "execution_count": 1,
   "id": "6cf15bae",
   "metadata": {},
   "outputs": [],
   "source": [
    "import subprocess\n",
    "import os"
   ]
  },
  {
   "cell_type": "code",
   "execution_count": 5,
   "id": "103f6f11",
   "metadata": {},
   "outputs": [
    {
     "name": "stdout",
     "output_type": "stream",
     "text": [
      "1794.svg\n",
      "1799.svg\n",
      "1800.svg\n",
      "1802.svg\n",
      "1804.svg\n",
      "1806.svg\n",
      "1809.svg\n"
     ]
    }
   ],
   "source": [
    "for item in os.listdir(\"../../snowfall/cf\"):\n",
    "    print(item)\n",
    "    os.rename(\n",
    "        \"../../snowfall/cf/\" + item,\n",
    "        \"../../altair/codeforces/\" + item.split(\".\")[0] + \"/\" + item,\n",
    "    )"
   ]
  },
  {
   "cell_type": "code",
   "execution_count": null,
   "id": "f34c62ab",
   "metadata": {},
   "outputs": [],
   "source": []
  }
 ],
 "metadata": {
  "kernelspec": {
   "display_name": ".venv",
   "language": "python",
   "name": "python3"
  },
  "language_info": {
   "codemirror_mode": {
    "name": "ipython",
    "version": 3
   },
   "file_extension": ".py",
   "mimetype": "text/x-python",
   "name": "python",
   "nbconvert_exporter": "python",
   "pygments_lexer": "ipython3",
   "version": "3.11.9"
  }
 },
 "nbformat": 4,
 "nbformat_minor": 5
}
