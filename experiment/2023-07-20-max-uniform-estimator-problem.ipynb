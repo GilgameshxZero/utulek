{
 "cells": [
  {
   "cell_type": "code",
   "execution_count": 5,
   "metadata": {},
   "outputs": [],
   "source": [
    "# This computes empiricals for the estimator problem for max of $n$ uniforms.\n",
    "import numpy as np\n",
    "\n",
    "UNIFORM_MAX = 65536\n",
    "C_SAMPLES = UNIFORM_MAX\n",
    "\n",
    "# samples is $m\\cdot n$, where $m$ is the number of sampled uniforms per experiment, and $n$ is the number of experiments\n",
    "def compute_offset_estimators(samples, offset=0):\n",
    "    return np.max(samples, axis=0) * (samples.shape[0] + offset + 1) / (samples.shape[0] + offset)\n",
    "\n",
    "def compute_expected_error(samples, offset_estimators):\n",
    "    return np.mean(np.square(UNIFORM_MAX - offset_estimators))\n",
    "\n",
    "def compute_bias(samples, offset_estimators):\n",
    "    return np.mean(UNIFORM_MAX - offset_estimators)"
   ]
  },
  {
   "cell_type": "code",
   "execution_count": 6,
   "metadata": {},
   "outputs": [
    {
     "data": {
      "text/plain": [
       "(4014.50321456695, -0.31106569353614033)"
      ]
     },
     "execution_count": 6,
     "metadata": {},
     "output_type": "execute_result"
    }
   ],
   "source": [
    "samples = np.random.uniform(0, UNIFORM_MAX, size=(1024, C_SAMPLES))\n",
    "offset_estimators = compute_offset_estimators(samples, offset=0)\n",
    "compute_expected_error(samples, offset_estimators), compute_bias(samples, offset_estimators)\n",
    "\n",
    "# Should be unbiased, with potentially higher error."
   ]
  },
  {
   "cell_type": "code",
   "execution_count": 7,
   "metadata": {},
   "outputs": [
    {
     "data": {
      "text/plain": [
       "(4014.612042055845, -0.4361887159516923)"
      ]
     },
     "execution_count": 7,
     "metadata": {},
     "output_type": "execute_result"
    }
   ],
   "source": [
    "offset_estimators = compute_offset_estimators(samples, offset=-2)\n",
    "compute_expected_error(samples, offset_estimators), compute_bias(samples, offset_estimators)\n",
    "\n",
    "# Could (should) be biased, but with minimum error. This manifests in the form of lower variance (which should be true, because of the smaller offset)."
   ]
  },
  {
   "cell_type": "code",
   "execution_count": 4,
   "metadata": {},
   "outputs": [],
   "source": [
    "# Next: compute expectations for each step along the way."
   ]
  },
  {
   "cell_type": "code",
   "execution_count": null,
   "metadata": {},
   "outputs": [],
   "source": []
  }
 ],
 "metadata": {
  "kernelspec": {
   "display_name": ".venv",
   "language": "python",
   "name": "python3"
  },
  "language_info": {
   "codemirror_mode": {
    "name": "ipython",
    "version": 3
   },
   "file_extension": ".py",
   "mimetype": "text/x-python",
   "name": "python",
   "nbconvert_exporter": "python",
   "pygments_lexer": "ipython3",
   "version": "3.9.10"
  },
  "orig_nbformat": 4
 },
 "nbformat": 4,
 "nbformat_minor": 2
}
