{
 "cells": [
  {
   "cell_type": "code",
   "execution_count": 9,
   "id": "32ea80d7",
   "metadata": {},
   "outputs": [],
   "source": [
    "import subprocess\n",
    "import os"
   ]
  },
  {
   "cell_type": "code",
   "execution_count": 10,
   "id": "fc299183",
   "metadata": {},
   "outputs": [
    {
     "name": "stdout",
     "output_type": "stream",
     "text": [
      "1717.pdf\n",
      "2023-02-11.pdf\n",
      "1799.pdf\n",
      "1789.pdf\n",
      "1794.pdf\n",
      "2023-02-12.pdf\n",
      "1804.pdf\n",
      "1800.pdf\n",
      "2023-03-17.pdf\n",
      "2023-02-09.pdf\n",
      "1736.pdf\n",
      "1721.pdf\n",
      "1802.pdf\n",
      "mosteller.pdf\n",
      "uapc23open.pdf\n",
      "1629.pdf\n",
      "1617.pdf\n",
      "1333.pdf\n",
      "1809.pdf\n",
      "1678.pdf\n",
      "mosteller-fifty-challenging-problems-in-probability_note.pdf\n",
      "1776.pdf\n",
      "1716.pdf\n",
      "1806.pdf\n",
      "1189.pdf\n",
      "1704.pdf\n",
      "1705.pdf\n",
      "1788.pdf\n",
      "1793.pdf\n",
      "2023-03-09.pdf\n",
      "2023-02-10.pdf\n",
      "1709.pdf\n",
      "1706.pdf\n",
      "1750.pdf\n",
      "1713.pdf\n"
     ]
    }
   ],
   "source": [
    "for item in os.listdir(\"../../snowfall/boox\"):\n",
    "    print(item)\n",
    "    subprocess.run(\n",
    "        [\n",
    "            \"pdf2svg\",\n",
    "            \"../../snowfall/boox/\" + item,\n",
    "            \"../../snowfall/svg/\" + item.split(\".\")[0] + \"-%d.svg\",\n",
    "            \"all\",\n",
    "        ]\n",
    "    )"
   ]
  },
  {
   "cell_type": "code",
   "execution_count": 11,
   "id": "6d42bd8a",
   "metadata": {},
   "outputs": [],
   "source": [
    "import svg_stack.svg_stack as ss"
   ]
  },
  {
   "cell_type": "code",
   "execution_count": 13,
   "id": "b4cc14a8",
   "metadata": {},
   "outputs": [
    {
     "name": "stdout",
     "output_type": "stream",
     "text": [
      "1717.pdf\n",
      "2023-02-11.pdf\n",
      "1799.pdf\n",
      "1789.pdf\n",
      "1794.pdf\n",
      "2023-02-12.pdf\n",
      "1804.pdf\n",
      "1800.pdf\n",
      "2023-03-17.pdf\n",
      "2023-02-09.pdf\n",
      "1736.pdf\n",
      "1721.pdf\n",
      "1802.pdf\n",
      "mosteller.pdf\n",
      "uapc23open.pdf\n",
      "1629.pdf\n",
      "1617.pdf\n",
      "1333.pdf\n",
      "1809.pdf\n",
      "1678.pdf\n",
      "mosteller-fifty-challenging-problems-in-probability_note.pdf\n",
      "1776.pdf\n",
      "1716.pdf\n",
      "1806.pdf\n",
      "1189.pdf\n",
      "1704.pdf\n",
      "1705.pdf\n",
      "1788.pdf\n",
      "1793.pdf\n",
      "2023-03-09.pdf\n",
      "2023-02-10.pdf\n",
      "1709.pdf\n",
      "1706.pdf\n",
      "1750.pdf\n",
      "1713.pdf\n"
     ]
    }
   ],
   "source": [
    "for item in os.listdir(\"../../snowfall/boox\"):\n",
    "    print(item)\n",
    "    doc = ss.Document()\n",
    "    layout1 = ss.VBoxLayout()\n",
    "    for i in range(1, 1000):\n",
    "        try:\n",
    "            layout1.addSVG(\n",
    "                \"../../snowfall/svg/\" + item.split(\".\")[0] + \"-\" + str(i) + \".svg\",\n",
    "                alignment=ss.AlignTop | ss.AlignLeft,\n",
    "            )\n",
    "        except:\n",
    "            break\n",
    "    doc.setLayout(layout1)\n",
    "    doc.save(\"../../snowfall/stack/\" + item.split(\".\")[0] + \".svg\")"
   ]
  },
  {
   "cell_type": "code",
   "execution_count": null,
   "id": "68504ccf",
   "metadata": {},
   "outputs": [],
   "source": []
  }
 ],
 "metadata": {
  "kernelspec": {
   "display_name": ".venv",
   "language": "python",
   "name": "python3"
  },
  "language_info": {
   "codemirror_mode": {
    "name": "ipython",
    "version": 3
   },
   "file_extension": ".py",
   "mimetype": "text/x-python",
   "name": "python",
   "nbconvert_exporter": "python",
   "pygments_lexer": "ipython3",
   "version": "3.11.9"
  }
 },
 "nbformat": 4,
 "nbformat_minor": 5
}
