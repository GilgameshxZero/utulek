{
 "cells": [
  {
   "cell_type": "code",
   "execution_count": 1,
   "id": "e1b0f76d",
   "metadata": {},
   "outputs": [
    {
     "name": "stdout",
     "output_type": "stream",
     "text": [
      "Hello world!\n"
     ]
    }
   ],
   "source": [
    "print(\"Hello world!\")"
   ]
  },
  {
   "cell_type": "code",
   "execution_count": 5,
   "id": "37f5434f",
   "metadata": {},
   "outputs": [],
   "source": [
    "import svg_stack.svg_stack as ss"
   ]
  },
  {
   "cell_type": "code",
   "execution_count": null,
   "id": "50bfde32",
   "metadata": {},
   "outputs": [],
   "source": [
    "doc = ss.Document()\n",
    "\n",
    "layout1 = ss.VBoxLayout()\n",
    "\n",
    "for i in range(1, 11):\n",
    "    layout1.addSVG(\"tmp/zhou-\" + str(i) + \".svg\", alignment=ss.AlignTop | ss.AlignLeft)\n",
    "\n",
    "doc.setLayout(layout1)"
   ]
  },
  {
   "cell_type": "code",
   "execution_count": 15,
   "id": "7d5958a5",
   "metadata": {},
   "outputs": [],
   "source": [
    "doc.save(\"stacked.svg\")"
   ]
  },
  {
   "cell_type": "code",
   "execution_count": null,
   "id": "602fc3ac",
   "metadata": {},
   "outputs": [],
   "source": []
  }
 ],
 "metadata": {
  "kernelspec": {
   "display_name": ".venv",
   "language": "python",
   "name": "python3"
  },
  "language_info": {
   "codemirror_mode": {
    "name": "ipython",
    "version": 3
   },
   "file_extension": ".py",
   "mimetype": "text/x-python",
   "name": "python",
   "nbconvert_exporter": "python",
   "pygments_lexer": "ipython3",
   "version": "3.11.9"
  }
 },
 "nbformat": 4,
 "nbformat_minor": 5
}
