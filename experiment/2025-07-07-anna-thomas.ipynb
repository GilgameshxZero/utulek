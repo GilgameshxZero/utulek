{
 "cells": [
  {
   "cell_type": "code",
   "execution_count": null,
   "id": "fb428d26",
   "metadata": {},
   "outputs": [],
   "source": [
    "from typing import List\n",
    "\n",
    "\n",
    "def pivot(arr: List[int], arr_start: int, arr_end: int, pivot_index: int) -> int:\n",
    "    arr[arr_start], arr[pivot_index] = arr[pivot_index], arr[arr_start]\n",
    "    pivot_index = arr_start\n",
    "    fixed_elements = 0\n",
    "    while pivot_index != arr_end - 1 - fixed_elements:\n",
    "        curr = arr[pivot_index + 1]\n",
    "        if curr < arr[pivot_index]:\n",
    "            arr[pivot_index + 1], arr[pivot_index] = (\n",
    "                arr[pivot_index],\n",
    "                arr[pivot_index + 1],\n",
    "            )\n",
    "            pivot_index += 1\n",
    "        else:\n",
    "            arr[pivot_index + 1], arr[arr_end - 1 - fixed_elements] = (\n",
    "                arr[arr_end - 1 - fixed_elements],\n",
    "                arr[pivot_index + 1],\n",
    "            )\n",
    "            fixed_elements += 1\n",
    "    return pivot_index"
   ]
  },
  {
   "cell_type": "code",
   "execution_count": null,
   "id": "04d35f44",
   "metadata": {},
   "outputs": [],
   "source": [
    "def quicksort(arr: List[int], arr_start: int, arr_end: int) -> None:\n",
    "    if arr_end - arr_start <= 1:\n",
    "        return\n",
    "    index = pivot(arr, arr_start, arr_end, arr_start)\n",
    "    quicksort(arr, arr_start, index)\n",
    "    quicksort(arr, index + 1, arr_end)"
   ]
  },
  {
   "cell_type": "code",
   "execution_count": null,
   "id": "76e9cf6f",
   "metadata": {},
   "outputs": [],
   "source": [
    "def quickselect(arr: List[int], start, end, k):\n",
    "    if end - start <= 1:\n",
    "        return arr[start]\n",
    "    index = pivot(arr, start, end, start)\n",
    "    if k > end - index:\n",
    "        return quickselect(arr, start, index, k - (end - index))\n",
    "    elif k < end - index:\n",
    "        return quickselect(arr, index + 1, end, k)\n",
    "    else:\n",
    "        return arr[index]"
   ]
  },
  {
   "cell_type": "code",
   "execution_count": 26,
   "id": "1443739c",
   "metadata": {},
   "outputs": [
    {
     "name": "stdout",
     "output_type": "stream",
     "text": [
      "[3, 6, 2, 7, 19, 20, -3, 0, 2, 4000, -5]\n",
      "2\n",
      "[-5, 0, -3, 2, 2, 3, 20, 19, 4000, 7, 6]\n"
     ]
    }
   ],
   "source": [
    "test = [3, 6, 2, 7, 19, 20, -3, 0, 2, 4000, -5]\n",
    "print(test)\n",
    "print(quickselect(test, 0, len(test), 7))\n",
    "print(test)"
   ]
  },
  {
   "cell_type": "code",
   "execution_count": null,
   "id": "02a32908",
   "metadata": {},
   "outputs": [],
   "source": []
  }
 ],
 "metadata": {
  "kernelspec": {
   "display_name": ".venv",
   "language": "python",
   "name": "python3"
  },
  "language_info": {
   "codemirror_mode": {
    "name": "ipython",
    "version": 3
   },
   "file_extension": ".py",
   "mimetype": "text/x-python",
   "name": "python",
   "nbconvert_exporter": "python",
   "pygments_lexer": "ipython3",
   "version": "3.11.9"
  }
 },
 "nbformat": 4,
 "nbformat_minor": 5
}
