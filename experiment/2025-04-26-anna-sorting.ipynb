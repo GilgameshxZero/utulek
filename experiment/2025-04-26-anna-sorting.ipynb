{
 "cells": [
  {
   "cell_type": "code",
   "execution_count": 34,
   "metadata": {},
   "outputs": [
    {
     "data": {
      "text/plain": [
       "[12, 4, 10, 16, 7, 1, 3, 11]"
      ]
     },
     "execution_count": 34,
     "metadata": {},
     "output_type": "execute_result"
    }
   ],
   "source": [
    "import random\n",
    "\n",
    "A = [random.randint(0, 16) for _ in range(8)]\n",
    "A"
   ]
  },
  {
   "cell_type": "code",
   "execution_count": null,
   "metadata": {},
   "outputs": [
    {
     "name": "stdout",
     "output_type": "stream",
     "text": [
      "[27, 49, 26, 51, 28, 60, 29, 16]\n",
      "[27, 26, 49, 28, 51, 29, 16, 60]\n",
      "[26, 27, 28, 49, 29, 16, 51, 60]\n",
      "[26, 27, 28, 29, 16, 49, 51, 60]\n",
      "[26, 27, 28, 16, 29, 49, 51, 60]\n",
      "[26, 27, 16, 28, 29, 49, 51, 60]\n",
      "[26, 16, 27, 28, 29, 49, 51, 60]\n",
      "[16, 26, 27, 28, 29, 49, 51, 60]\n"
     ]
    },
    {
     "data": {
      "text/plain": [
       "[16, 26, 27, 28, 29, 49, 51, 60]"
      ]
     },
     "execution_count": 26,
     "metadata": {},
     "output_type": "execute_result"
    }
   ],
   "source": [
    "# Bubble sort.\n",
    "# Compare at most N times in the array, have to do that comparison process N times.\n",
    "# O(N) * O(N) = O(N * N) = O(N^2)\n",
    "for _ in range(len(A)):\n",
    "    # O(N)\n",
    "    print(A)\n",
    "\n",
    "    # O(N)\n",
    "    for i in range(len(A)):\n",
    "        # O(1)\n",
    "        first = A[i]\n",
    "        if i + 1 < len(A):\n",
    "            second = A[i + 1]\n",
    "            if first > second:\n",
    "                A[i] = second\n",
    "                A[i + 1] = first\n",
    "        else:\n",
    "            break\n",
    "\n",
    "A"
   ]
  },
  {
   "cell_type": "code",
   "execution_count": null,
   "metadata": {},
   "outputs": [],
   "source": [
    "# [12, 4, 10, 16, 7, 1, 3, 11]\n",
    "# [12, 4, 10, 16] [7, 1, 3, 11]\n",
    "# [12, 4] [10, 16]\n",
    "# [12] [4]\n",
    "# [4, 12] [ 10, 16]\n",
    "# [4, 10, 12, 16]\n",
    "# [4, 10, 12, 16] [1, 3, 7, 11]\n",
    "# [1, 3, 4, 7, 10, 11, 12, 16]"
   ]
  },
  {
   "cell_type": "code",
   "execution_count": null,
   "metadata": {},
   "outputs": [
    {
     "data": {
      "text/plain": [
       "[1]"
      ]
     },
     "execution_count": 40,
     "metadata": {},
     "output_type": "execute_result"
    }
   ],
   "source": [
    "# Merge Sort\n",
    "def merge_sort(A):\n",
    "    middle = len(A) // 2\n",
    "    first_half = A[:middle]\n",
    "    second_half = A[middle:]\n",
    "\n",
    "    # base case : each array has one element to compare\n",
    "    # Check array length of first & second half. Half until array len of 1\n",
    "    if len(first_half) > 1:\n",
    "        first_half = merge_sort(first_half)\n",
    "    if len(second_half) > 1:\n",
    "        second_half = merge_sort(second_half)\n",
    "\n",
    "    i = 0\n",
    "    j = 0\n",
    "    sorted_array = []\n",
    "\n",
    "    while i < len(first_half) and j < len(second_half):\n",
    "        first_num = first_half[i]\n",
    "        second_num = second_half[j]\n",
    "\n",
    "        if first_num > second_num:\n",
    "            sorted_array.append(second_num)\n",
    "            j += 1\n",
    "        else:\n",
    "            sorted_array.append(first_num)\n",
    "            i += 1\n",
    "\n",
    "    return sorted_array\n",
    "\n",
    "\n",
    "merge_sort(A)"
   ]
  },
  {
   "cell_type": "code",
   "execution_count": null,
   "metadata": {},
   "outputs": [
    {
     "ename": "IndexError",
     "evalue": "list index out of range",
     "output_type": "error",
     "traceback": [
      "\u001b[31m---------------------------------------------------------------------------\u001b[39m",
      "\u001b[31mIndexError\u001b[39m                                Traceback (most recent call last)",
      "\u001b[36mCell\u001b[39m\u001b[36m \u001b[39m\u001b[32mIn[2]\u001b[39m\u001b[32m, line 8\u001b[39m\n\u001b[32m      6\u001b[39m \u001b[38;5;28;01mwhile\u001b[39;00m i + j < \u001b[38;5;28mlen\u001b[39m(first_half) + \u001b[38;5;28mlen\u001b[39m(second_half):\n\u001b[32m      7\u001b[39m     first_num = first_half[i]\n\u001b[32m----> \u001b[39m\u001b[32m8\u001b[39m     second_num = \u001b[43msecond_half\u001b[49m\u001b[43m[\u001b[49m\u001b[43mj\u001b[49m\u001b[43m]\u001b[49m\n\u001b[32m     10\u001b[39m     \u001b[38;5;28;01mif\u001b[39;00m first_num > second_num:\n\u001b[32m     11\u001b[39m         sorted_array.append(second_num)\n",
      "\u001b[31mIndexError\u001b[39m: list index out of range"
     ]
    }
   ],
   "source": [
    "first_half = [4, 10, 12, 16]\n",
    "second_half = [1, 3, 7, 11]\n",
    "sorted_array = []\n",
    "i = 0\n",
    "j = 0\n",
    "while i + j < len(first_half) + len(second_half):\n",
    "    first_num = first_half[i]\n",
    "    second_num = second_half[j]\n",
    "\n",
    "    if first_num > second_num:\n",
    "        sorted_array.append(second_num)\n",
    "        j += 1\n",
    "    else:\n",
    "        sorted_array.append(first_num)\n",
    "        i += 1\n",
    "sorted_array"
   ]
  }
 ],
 "metadata": {
  "kernelspec": {
   "display_name": ".venv",
   "language": "python",
   "name": "python3"
  },
  "language_info": {
   "codemirror_mode": {
    "name": "ipython",
    "version": 3
   },
   "file_extension": ".py",
   "mimetype": "text/x-python",
   "name": "python",
   "nbconvert_exporter": "python",
   "pygments_lexer": "ipython3",
   "version": "3.11.9"
  }
 },
 "nbformat": 4,
 "nbformat_minor": 5
}
