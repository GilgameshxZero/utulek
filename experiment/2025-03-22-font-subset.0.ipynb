{
 "cells": [
  {
   "cell_type": "code",
   "execution_count": null,
   "metadata": {},
   "outputs": [],
   "source": [
    "import os\n",
    "from fontTools import subset\n",
    "\n",
    "os.makedirs(\"2025-03-22-font-subset.ipynb-assets\", exist_ok=True)"
   ]
  },
  {
   "cell_type": "code",
   "execution_count": 3,
   "metadata": {},
   "outputs": [],
   "source": [
    "codepoints = [\n",
    "    (\"latin-basic\", \"U+0000-007F\"),\n",
    "    (\n",
    "        \"latin-ext-misc\",\n",
    "        \"U+0080-00FF, U+0100-024F, U+0259, U+02BB-02BC, U+02C6, U+02DA, U+02DC, U+1E00-1EFF, U+2000-206F, U+2074, U+20A0-20CF, U+2113, U+2122, U+2191, U+2193, U+2212, U+2215, U+2C60-2C7F, U+A720-A7FF, U+FEFF, U+FFFD\",\n",
    "    ),\n",
    "    (\"cjk-basic\", \"U+3000-303F, U+4E00-9FFF\"),\n",
    "    (\n",
    "        \"cjk-ext-misc\",\n",
    "        \"U+2E80-2EFF, U+31C0-31EF, U+3200-32FF, U+3300-33FF, U+3400-4DBF, U+F900-FAFF, U+FE30-FE4F, U+FF00-FFEF, U+20000-2A6DF, U+2A700-2B73F, U+2B740-2B81F, U+2B820-2CEAF, U+2CEB0-2EBEF, U+2F800-2FA1F, U+30000-3134F\",\n",
    "    ),\n",
    "    (\"emoji-moon-sun\", \"U+1F319, U+1F506\"),\n",
    "    (\n",
    "        \"emoji-other-basic\",\n",
    "        \"U+2600-26FF, U+2B00-2BFF, U+1F300-1F318, U+1F31A-1F505, U+1F507-1F5FF, U+1F600-1F64F, U+1F680-1F6FF\",\n",
    "    ),\n",
    "]"
   ]
  },
  {
   "cell_type": "code",
   "execution_count": null,
   "metadata": {},
   "outputs": [],
   "source": [
    "for source in [\"2025-03-22-font-subset.ipynb-assets/noto-emoji-regular-variable\"]:\n",
    "    for codepoint in codepoints:\n",
    "        subset.main(\n",
    "            [\n",
    "                source + \".woff2\",\n",
    "                \"--unicodes=\" + codepoint[1],\n",
    "                \"--output-file=\" + source + \".\" + codepoint[0] + \".woff2\",\n",
    "                \"--flavor=woff2\",\n",
    "            ]\n",
    "        )"
   ]
  },
  {
   "cell_type": "code",
   "execution_count": null,
   "metadata": {},
   "outputs": [
    {
     "name": "stderr",
     "output_type": "stream",
     "text": [
      "WARNING: MERG NOT subset; don't know how to subset; dropped\n",
      "WARNING: meta NOT subset; don't know how to subset; dropped\n",
      "WARNING: MERG NOT subset; don't know how to subset; dropped\n",
      "WARNING: meta NOT subset; don't know how to subset; dropped\n",
      "WARNING: MERG NOT subset; don't know how to subset; dropped\n",
      "WARNING: meta NOT subset; don't know how to subset; dropped\n",
      "WARNING: MERG NOT subset; don't know how to subset; dropped\n",
      "WARNING: meta NOT subset; don't know how to subset; dropped\n",
      "WARNING: MERG NOT subset; don't know how to subset; dropped\n",
      "WARNING: meta NOT subset; don't know how to subset; dropped\n",
      "WARNING: MERG NOT subset; don't know how to subset; dropped\n",
      "WARNING: meta NOT subset; don't know how to subset; dropped\n",
      "WARNING: MERG NOT subset; don't know how to subset; dropped\n",
      "WARNING: meta NOT subset; don't know how to subset; dropped\n",
      "WARNING: MERG NOT subset; don't know how to subset; dropped\n",
      "WARNING: meta NOT subset; don't know how to subset; dropped\n",
      "WARNING: FFTM NOT subset; don't know how to subset; dropped\n",
      "WARNING: FFTM NOT subset; don't know how to subset; dropped\n",
      "WARNING: FFTM NOT subset; don't know how to subset; dropped\n",
      "WARNING: FFTM NOT subset; don't know how to subset; dropped\n",
      "WARNING: FFTM NOT subset; don't know how to subset; dropped\n",
      "WARNING: FFTM NOT subset; don't know how to subset; dropped\n",
      "WARNING: FFTM NOT subset; don't know how to subset; dropped\n",
      "WARNING: FFTM NOT subset; don't know how to subset; dropped\n"
     ]
    }
   ],
   "source": [
    "sources = [\n",
    "    \"consolas-italic-400\",\n",
    "    \"consolas-italic-700\",\n",
    "    \"consolas-regular-400\",\n",
    "    \"consolas-regular-700\",\n",
    "    \"eb-garamond-italic-variable\",\n",
    "    \"eb-garamond-regular-variable\",\n",
    "    \"latin-modern-roman-10-italic-400\",\n",
    "    \"latin-modern-roman-10-italic-700\",\n",
    "    \"latin-modern-roman-10-regular-400\",\n",
    "    \"latin-modern-roman-10-regular-700\",\n",
    "    \"roboto-italic-variable\",\n",
    "    \"roboto-regular-variable\",\n",
    "    \"tangerine-regular-400\",\n",
    "    \"tangerine-regular-700\",\n",
    "    # \"kaiti-regular-400\",\n",
    "]\n",
    "\n",
    "for source in sources:\n",
    "    for codepoint in codepoints:\n",
    "        subset.main(\n",
    "            [\n",
    "                \"C:\\\\Users\\\\0\\\\Downloads\\\\\" + source + \".woff2\",\n",
    "                \"--unicodes=\" + codepoint[1],\n",
    "                \"--output-file=2025-03-22-font-subset.ipynb-assets/\"\n",
    "                + source\n",
    "                + \".\"\n",
    "                + codepoint[0]\n",
    "                + \".woff2\",\n",
    "                \"--flavor=woff2\",\n",
    "            ]\n",
    "        )"
   ]
  },
  {
   "cell_type": "code",
   "execution_count": null,
   "metadata": {},
   "outputs": [],
   "source": [
    "for source in [\n",
    "    \"lmroman10-bold\",\n",
    "    \"lmroman10-bolditalic\",\n",
    "    \"lmroman10-italic\",\n",
    "    \"lmroman10-regular\",\n",
    "]:\n",
    "    subset.main(\n",
    "        [\n",
    "            \"C:\\\\Users\\\\0\\\\Downloads\\\\\" + source + \".otf\",\n",
    "            \"--unicodes=U+0000-00FF, U+0131, U+0152-0153, U+02BB-02BC, U+02C6, U+02DA, U+02DC, U+2000-206F, U+2074, U+20AC, U+2122, U+2191, U+2193, U+2212, U+2215, U+FEFF, U+FFFD, U+0100-024F, U+0259, U+1E00-1EFF, U+2020, U+20A0-20AB, U+20AD-20CF, U+2113, U+2C60-2C7F, U+A720-A7FF\",\n",
    "            \"--output-file=2025-03-22-font-subset.ipynb-assets/\" + source + \".woff2\",\n",
    "            \"--flavor=woff2\",\n",
    "        ]\n",
    "    )"
   ]
  },
  {
   "cell_type": "code",
   "execution_count": null,
   "metadata": {},
   "outputs": [],
   "source": []
  }
 ],
 "metadata": {
  "kernelspec": {
   "display_name": ".venv",
   "language": "python",
   "name": "python3"
  },
  "language_info": {
   "codemirror_mode": {
    "name": "ipython",
    "version": 3
   },
   "file_extension": ".py",
   "mimetype": "text/x-python",
   "name": "python",
   "nbconvert_exporter": "python",
   "pygments_lexer": "ipython3",
   "version": "3.11.9"
  }
 },
 "nbformat": 4,
 "nbformat_minor": 2
}
