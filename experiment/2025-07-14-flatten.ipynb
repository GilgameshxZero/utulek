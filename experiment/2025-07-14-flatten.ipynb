{
 "cells": [
  {
   "cell_type": "code",
   "execution_count": 1,
   "id": "0a5570f4",
   "metadata": {},
   "outputs": [],
   "source": [
    "import os"
   ]
  },
  {
   "cell_type": "code",
   "execution_count": 15,
   "id": "8bdceda0",
   "metadata": {},
   "outputs": [
    {
     "data": {
      "text/plain": [
       "['2023-02-09',\n",
       " '2023-02-10',\n",
       " '2023-02-11',\n",
       " '2023-02-12',\n",
       " '2023-03-09',\n",
       " '2023-03-17',\n",
       " 'mosteller-fifty-challenging-problems-in-probability_note']"
      ]
     },
     "execution_count": 15,
     "metadata": {},
     "output_type": "execute_result"
    }
   ],
   "source": [
    "root = \"C:\\\\Users\\\\0\\\\main.syncthing\\\\snowfall\\\\utulek\\\\books\"\n",
    "subdirs = next(os.walk(root))[1]\n",
    "subdirs"
   ]
  },
  {
   "cell_type": "code",
   "execution_count": 17,
   "id": "c97a18b3",
   "metadata": {},
   "outputs": [
    {
     "name": "stdout",
     "output_type": "stream",
     "text": [
      "2025-07-14_19_47_59.pdf\n",
      "2025-07-14_19_47_59.pdf\n",
      "2025-07-14_19_47_59.pdf\n",
      "2025-07-14_19_47_59.pdf\n",
      "2025-07-14_19_47_59.pdf\n",
      "2025-07-14_19_47_59.pdf\n",
      "2025-07-14_19_47_59.pdf\n"
     ]
    }
   ],
   "source": [
    "for dir in subdirs:\n",
    "    for item in os.listdir(root + \"\\\\\" + dir):\n",
    "        print(item)\n",
    "        if os.path.isfile(root + \"\\\\\" + dir + \"\\\\\" + item):\n",
    "            os.rename(root + \"\\\\\" + dir + \"\\\\\" + item, root + \"\\\\\" + dir + \".pdf\")"
   ]
  },
  {
   "cell_type": "code",
   "execution_count": 19,
   "id": "9b6f4cac",
   "metadata": {},
   "outputs": [
    {
     "data": {
      "text/plain": [
       "['1189',\n",
       " '1333',\n",
       " '1617',\n",
       " '1629',\n",
       " '1678',\n",
       " '1704',\n",
       " '1705',\n",
       " '1706',\n",
       " '1709',\n",
       " '1713',\n",
       " '1716',\n",
       " '1717',\n",
       " '1721',\n",
       " '1736',\n",
       " '1750',\n",
       " '1776',\n",
       " '1788',\n",
       " '1789',\n",
       " '1793',\n",
       " '1794',\n",
       " '1799',\n",
       " '1800',\n",
       " '1802',\n",
       " '1804',\n",
       " '1806',\n",
       " '1809']"
      ]
     },
     "execution_count": 19,
     "metadata": {},
     "output_type": "execute_result"
    }
   ],
   "source": [
    "root = \"C:\\\\Users\\\\0\\\\main.syncthing\\\\snowfall\\\\altair\\\\codeforces\"\n",
    "subdirs = next(os.walk(root))[1]\n",
    "subdirs"
   ]
  },
  {
   "cell_type": "code",
   "execution_count": 20,
   "id": "d3227dd9",
   "metadata": {},
   "outputs": [
    {
     "name": "stdout",
     "output_type": "stream",
     "text": [
      "2025-07-14_19_43_08.pdf\n",
      "2025-07-14_19_43_08.pdf\n",
      "2025-07-14_19_43_08.pdf\n",
      "2025-07-14_19_43_08.pdf\n",
      "2025-07-14_19_43_08.pdf\n",
      "2025-07-14_19_43_08.pdf\n",
      "2025-07-14_19_43_08.pdf\n",
      "2025-07-14_19_43_08.pdf\n",
      "2025-07-14_19_43_08.pdf\n",
      "2025-07-14_19_43_08.pdf\n",
      "2025-07-14_19_43_08.pdf\n",
      "2025-07-14_19_43_08.pdf\n",
      "2025-07-14_19_43_08.pdf\n",
      "2025-07-14_19_43_08.pdf\n",
      "2025-07-14_19_43_08.pdf\n",
      "2025-07-14_19_43_08.pdf\n",
      "2025-07-14_19_43_08.pdf\n",
      "2025-07-14_19_43_08.pdf\n",
      "2025-07-14_19_43_08.pdf\n",
      "2025-07-14_19_43_08.pdf\n",
      "2025-07-14_19_43_08.pdf\n",
      "2025-07-14_19_43_08.pdf\n",
      "2025-07-14_19_43_08.pdf\n",
      "2025-07-14_19_43_08.pdf\n",
      "2025-07-14_19_43_08.pdf\n",
      "2025-07-14_19_43_08.pdf\n"
     ]
    }
   ],
   "source": [
    "for dir in subdirs:\n",
    "    for item in os.listdir(root + \"\\\\\" + dir):\n",
    "        print(item)\n",
    "        if os.path.isfile(root + \"\\\\\" + dir + \"\\\\\" + item):\n",
    "            os.rename(root + \"\\\\\" + dir + \"\\\\\" + item, root + \"\\\\\" + dir + \".pdf\")"
   ]
  },
  {
   "cell_type": "code",
   "execution_count": null,
   "id": "8a794475",
   "metadata": {},
   "outputs": [],
   "source": []
  }
 ],
 "metadata": {
  "kernelspec": {
   "display_name": ".venv",
   "language": "python",
   "name": "python3"
  },
  "language_info": {
   "codemirror_mode": {
    "name": "ipython",
    "version": 3
   },
   "file_extension": ".py",
   "mimetype": "text/x-python",
   "name": "python",
   "nbconvert_exporter": "python",
   "pygments_lexer": "ipython3",
   "version": "3.11.9"
  }
 },
 "nbformat": 4,
 "nbformat_minor": 5
}
