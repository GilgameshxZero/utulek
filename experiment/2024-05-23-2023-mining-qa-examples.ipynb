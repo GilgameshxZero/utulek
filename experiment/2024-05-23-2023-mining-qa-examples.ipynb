{
 "cells": [
  {
   "cell_type": "code",
   "execution_count": 1,
   "metadata": {},
   "outputs": [
    {
     "name": "stdout",
     "output_type": "stream",
     "text": [
      "/home/gilgamesh-local/utulek/.venv/lib/python3.11/site-packages/gdown/__main__.py:140: FutureWarning: Option `--id` was deprecated in version 4.3.1 and will be removed in 5.0. You don't need to pass it anymore to use a file ID.\n",
      "  warnings.warn(\n",
      "Downloading...\n",
      "From (original): https://drive.google.com/uc?id=1jO5wp8OJ-IiP_OrfjHwGd3jVHHH_zh9U\n",
      "From (redirected): https://drive.google.com/uc?id=1jO5wp8OJ-IiP_OrfjHwGd3jVHHH_zh9U&confirm=t&uuid=8b7ae3e9-72c4-471e-b8b0-29406e9e2c82\n",
      "To: /home/gilgamesh-local/utulek/.data/2023-mining-qa-examples.ipynb/val.jsonl.zst\n",
      "100%|████████████████████████████████████████| 471M/471M [00:07<00:00, 59.5MB/s]\n"
     ]
    }
   ],
   "source": [
    "! mkdir -p .data/2023-mining-qa-examples.ipynb && \\\n",
    "    cd .data/2023-mining-qa-examples.ipynb && \\\n",
    "    gdown \"1jO5wp8OJ-IiP_OrfjHwGd3jVHHH_zh9U\""
   ]
  },
  {
   "cell_type": "code",
   "execution_count": 2,
   "metadata": {},
   "outputs": [
    {
     "name": "stdout",
     "output_type": "stream",
     "text": [
      "val.jsonl.zst       : 1409057992 bytes                                         \n"
     ]
    }
   ],
   "source": [
    "! cd .data/2023-mining-qa-examples.ipynb && \\\n",
    "    rm -rf val.jsonl && \\\n",
    "    unzstd val.jsonl.zst"
   ]
  },
  {
   "cell_type": "code",
   "execution_count": 3,
   "metadata": {},
   "outputs": [
    {
     "name": "stdout",
     "output_type": "stream",
     "text": [
      "dict_keys(['OpenWebText2', 'PubMed Abstracts', 'Github', 'StackExchange', 'Enron Emails', 'FreeLaw', 'USPTO Backgrounds', 'Pile-CC', 'Wikipedia (en)', 'Books3', 'PubMed Central', 'HackerNews', 'Gutenberg (PG-19)', 'DM Mathematics', 'NIH ExPorter', 'ArXiv', 'BookCorpus2', 'OpenSubtitles', 'YoutubeSubtitles', 'Ubuntu IRC', 'EuroParl', 'PhilPapers'])\n"
     ]
    }
   ],
   "source": [
    "# prompt: ingest val.jsonl line by line\n",
    "\n",
    "import json\n",
    "\n",
    "piles = {}\n",
    "c_lines = 0\n",
    "\n",
    "with open('.data/2023-mining-qa-examples.ipynb/val.jsonl', 'r') as f:\n",
    "  for line in f:\n",
    "    data = json.loads(line)\n",
    "    if data[\"meta\"][\"pile_set_name\"] not in piles:\n",
    "      piles[data[\"meta\"][\"pile_set_name\"]] = []\n",
    "    piles[data[\"meta\"][\"pile_set_name\"]].append(data[\"text\"])\n",
    "    c_lines += 1\n",
    "\n",
    "print(piles.keys())\n"
   ]
  },
  {
   "cell_type": "code",
   "execution_count": 4,
   "metadata": {},
   "outputs": [
    {
     "name": "stderr",
     "output_type": "stream",
     "text": [
      "2024-05-23 11:26:24.585241: I tensorflow/core/util/port.cc:113] oneDNN custom operations are on. You may see slightly different numerical results due to floating-point round-off errors from different computation orders. To turn them off, set the environment variable `TF_ENABLE_ONEDNN_OPTS=0`.\n",
      "2024-05-23 11:26:24.630101: I tensorflow/core/platform/cpu_feature_guard.cc:210] This TensorFlow binary is optimized to use available CPU instructions in performance-critical operations.\n",
      "To enable the following instructions: AVX2 AVX512F AVX512_VNNI FMA, in other operations, rebuild TensorFlow with the appropriate compiler flags.\n",
      "2024-05-23 11:26:25.559884: W tensorflow/compiler/tf2tensorrt/utils/py_utils.cc:38] TF-TRT Warning: Could not find TensorRT\n"
     ]
    },
    {
     "data": {
      "application/vnd.jupyter.widget-view+json": {
       "model_id": "c53f4a0cb79047e58af458057dd55499",
       "version_major": 2,
       "version_minor": 0
      },
      "text/plain": [
       "config.json:   0%|          | 0.00/1.15k [00:00<?, ?B/s]"
      ]
     },
     "metadata": {},
     "output_type": "display_data"
    },
    {
     "data": {
      "application/vnd.jupyter.widget-view+json": {
       "model_id": "403afd4aaebd42d98fafaddc6294ec17",
       "version_major": 2,
       "version_minor": 0
      },
      "text/plain": [
       "model.safetensors:   0%|          | 0.00/1.63G [00:00<?, ?B/s]"
      ]
     },
     "metadata": {},
     "output_type": "display_data"
    },
    {
     "data": {
      "application/vnd.jupyter.widget-view+json": {
       "model_id": "538f9eadd643470c9588d715fe8beda3",
       "version_major": 2,
       "version_minor": 0
      },
      "text/plain": [
       "tokenizer_config.json:   0%|          | 0.00/26.0 [00:00<?, ?B/s]"
      ]
     },
     "metadata": {},
     "output_type": "display_data"
    },
    {
     "data": {
      "application/vnd.jupyter.widget-view+json": {
       "model_id": "45e90c21322c4993a470d40029192f5e",
       "version_major": 2,
       "version_minor": 0
      },
      "text/plain": [
       "vocab.json:   0%|          | 0.00/899k [00:00<?, ?B/s]"
      ]
     },
     "metadata": {},
     "output_type": "display_data"
    },
    {
     "data": {
      "application/vnd.jupyter.widget-view+json": {
       "model_id": "8a290ab82d88493c9c99f7f752f63838",
       "version_major": 2,
       "version_minor": 0
      },
      "text/plain": [
       "merges.txt:   0%|          | 0.00/456k [00:00<?, ?B/s]"
      ]
     },
     "metadata": {},
     "output_type": "display_data"
    },
    {
     "data": {
      "application/vnd.jupyter.widget-view+json": {
       "model_id": "987c00c86fee4cec804c51161fe9c40a",
       "version_major": 2,
       "version_minor": 0
      },
      "text/plain": [
       "tokenizer.json:   0%|          | 0.00/1.36M [00:00<?, ?B/s]"
      ]
     },
     "metadata": {},
     "output_type": "display_data"
    },
    {
     "data": {
      "text/plain": [
       "{'sequence': 'I have a problem with my iphone that needs to be resolved asap!',\n",
       " 'labels': ['urgent', 'phone', 'computer', 'not urgent', 'tablet'],\n",
       " 'scores': [0.5227581858634949,\n",
       "  0.4581398367881775,\n",
       "  0.014264922589063644,\n",
       "  0.00268500205129385,\n",
       "  0.002152069704607129]}"
      ]
     },
     "execution_count": 4,
     "metadata": {},
     "output_type": "execute_result"
    }
   ],
   "source": [
    "from transformers import pipeline\n",
    "\n",
    "pipe = pipeline(model=\"facebook/bart-large-mnli\", device=0)\n",
    "pipe(\"I have a problem with my iphone that needs to be resolved asap!\",\n",
    "    candidate_labels=[\"urgent\", \"not urgent\", \"phone\", \"tablet\", \"computer\"],\n",
    ")"
   ]
  },
  {
   "cell_type": "code",
   "execution_count": 5,
   "metadata": {},
   "outputs": [
    {
     "name": "stdout",
     "output_type": "stream",
     "text": [
      "Q:\n",
      "\n",
      "How to avoid anti-clockwise rotation animation when reseting rotation from 360deg to 0 deg?\n",
      "\n",
      "I am creating an animation that looks like a fancy wheel, When resetting rotation from 360deg to 0 deg, It animating the wheel in anti-clockwise direction, How to Avoid this???\n",
      "HTML\n",
      "<ul class=\"cm\">\n",
      "  <li><span>01</span></li>\n",
      "  <li><span>02</span></li>\n",
      "  <li><span>03</span></li>\n",
      "  <li><span>04</span></li>\n",
      "  <li><span>05</span></li>\n",
      "  <li><span>06</span></li>\n",
      "  <li><span>07</span></li>\n",
      "  <li><span>08</span></li>\n",
      "</ul>\n",
      "\n",
      "SCSS\n",
      "$Brdr: #7d868c;\n",
      "  *{\n",
      "    -webkit-box-sizing: border-box;\n",
      "    -moz-box-sizing: border-box;\n",
      "    box-sizing: border-box;\n",
      "    &:before,&:after{\n",
      "      -webkit-box-sizing: border-box;\n",
      "      -moz-box-sizing: border-box;\n",
      "      box-sizing: border-box;\n",
      "    }\n",
      "  }\n",
      "  %notaList{\n",
      "    margin: 0;\n",
      "    padding: 0;\n",
      "    list-style: none;\n",
      "  }\n",
      "\n",
      "  $node: 8;\n",
      "  $s: 80px;\n",
      "  $rotation: 0;\n",
      "\n",
      "  .cm{\n",
      "    top: 50%;\n",
      "    left: 0;\n",
      "    right: 0;\n",
      "    width: $s;\n",
      "    height: $s;\n",
      "    margin: auto;\n",
      "    display: block;\n",
      "    position: absolute;\n",
      "    transition: transform 0.8s ease-out;\n",
      "    transform:rotate(#{$rotation}deg);\n",
      "    @extend %notaList;\n",
      "    background: rgba(#000, 0.5);\n",
      "    border-radius: 50%;\n",
      "    li{\n",
      "      left: 0;\n",
      "      top:-($s*2 - ($s/2));\n",
      "      color:#333;\n",
      "      width:90%;\n",
      "      height: 90%;\n",
      "      display: block;\n",
      "      position: absolute;\n",
      "      margin-bottom: ($s*2 - ($s/2));\n",
      "\n",
      "      & > span{\n",
      "        display: block;\n",
      "        padding: 36%;\n",
      "        text-align: center;\n",
      "        overflow: hidden;\n",
      "        background: #CCC;\n",
      "        border-radius: 5px 5px 50% 50%;\n",
      "        transition: transform 0.8s ease-out;\n",
      "      }\n",
      "      @for $i from 1 through $node{\n",
      "        &:nth-child(#{$i}n) {\n",
      "          transform-origin: 50% ($s*2);\n",
      "          transform: rotate(($i - 1) * 360deg/$node);\n",
      "          & > span {\n",
      "            transform:rotate(($rotation * -1) - (($i - 1) * 360deg/$node));\n",
      "          }\n",
      "        }\n",
      "      }\n",
      "    }\n",
      "  }\n",
      "\n",
      "JQuery\n",
      "var i = 1,\n",
      "    nodes = 8;\n",
      "\n",
      "setInterval(function(){\n",
      "  var rotation = i * 360 / nodes;\n",
      "  i = i + 1;\n",
      "\n",
      "  $('.cm').css({\n",
      "    'transform': 'rotate(' + rotation + 'deg)'\n",
      "  }).attr('data-rotation', rotation);\n",
      "\n",
      "  $('.cm li').each(function (node){\n",
      "    r = (node) * 360/nodes;\n",
      "    $($('.cm li')[node]).find('span').css({\n",
      "      'transform': 'rotate(' + ((rotation*-1) - r) + 'deg)'\n",
      "    });\n",
      "  });\n",
      "\n",
      "  if(i >= nodes){\n",
      "    i = 0;\n",
      "  }\n",
      "}, 1000);\n",
      "\n",
      "JsFiddle link:\n",
      "https://jsfiddle.net/aspjsplayground/hqczLby7/\n",
      "\n",
      "A:\n",
      "\n",
      "I've edited your jsfiddle so that it does not animate the rotation when reseting to 0.\n",
      "When doing this it's helpful to use window.requestAnimationFrame since modifying transition isn't instant.\n",
      "https://jsfiddle.net/hqczLby7/8/\n",
      "\n",
      "\n"
     ]
    }
   ],
   "source": [
    "print(piles[\"StackExchange\"][0])"
   ]
  },
  {
   "cell_type": "code",
   "execution_count": 6,
   "metadata": {},
   "outputs": [
    {
     "data": {
      "text/plain": [
       "{'sequence': 'Catalonia election: Puigdemont calls for talks with Spain Published duration 22 December 2017 Relate',\n",
       " 'labels': ['news',\n",
       "  'question & answer',\n",
       "  'phone',\n",
       "  'urgent',\n",
       "  'tablet',\n",
       "  'computer',\n",
       "  'not urgent'],\n",
       " 'scores': [0.6330607533454895,\n",
       "  0.0946679413318634,\n",
       "  0.08165796846151352,\n",
       "  0.07866288721561432,\n",
       "  0.05674390494823456,\n",
       "  0.03128107637166977,\n",
       "  0.02392547018826008]}"
      ]
     },
     "execution_count": 6,
     "metadata": {},
     "output_type": "execute_result"
    }
   ],
   "source": [
    "pipe(piles[\"OpenWebText2\"][0][:100],\n",
    "    candidate_labels=[\"urgent\", \"not urgent\", \"phone\", \"tablet\", \"computer\", \"question & answer\", \"news\"],\n",
    ")"
   ]
  },
  {
   "cell_type": "code",
   "execution_count": 7,
   "metadata": {},
   "outputs": [
    {
     "name": "stdout",
     "output_type": "stream",
     "text": [
      "214670\n"
     ]
    }
   ],
   "source": [
    "print(c_lines)"
   ]
  },
  {
   "cell_type": "code",
   "execution_count": 8,
   "metadata": {},
   "outputs": [
    {
     "data": {
      "image/png": "[encoded data removed]",
      "text/plain": [
       "<Figure size 1000x600 with 1 Axes>"
      ]
     },
     "metadata": {},
     "output_type": "display_data"
    }
   ],
   "source": [
    "# prompt: graph the lengths of the strings for the `OpenWebText2` array in `piles`\n",
    "\n",
    "import matplotlib.pyplot as plt\n",
    "\n",
    "lengths = [len(s) for s in piles[\"OpenWebText2\"]]\n",
    "\n",
    "plt.figure(figsize=(10, 6))\n",
    "plt.hist(lengths, bins=100)\n",
    "plt.xlabel(\"String Length\")\n",
    "plt.ylabel(\"Frequency\")\n",
    "plt.title(\"Distribution of String Lengths in OpenWebText2\")\n",
    "plt.show()\n"
   ]
  },
  {
   "cell_type": "code",
   "execution_count": 9,
   "metadata": {},
   "outputs": [
    {
     "data": {
      "image/png": "[encoded data removed]",
      "text/plain": [
       "<Figure size 1000x600 with 1 Axes>"
      ]
     },
     "metadata": {},
     "output_type": "display_data"
    }
   ],
   "source": [
    "lengths = [len(s) for s in piles[\"StackExchange\"]]\n",
    "\n",
    "plt.figure(figsize=(10, 6))\n",
    "plt.hist(lengths, bins=100)\n",
    "plt.xlabel(\"String Length\")\n",
    "plt.ylabel(\"Frequency\")\n",
    "plt.title(\"Distribution of String Lengths in OpenWebText2\")\n",
    "plt.show()"
   ]
  },
  {
   "cell_type": "code",
   "execution_count": 10,
   "metadata": {},
   "outputs": [
    {
     "name": "stdout",
     "output_type": "stream",
     "text": [
      "OpenWebText2 33400\n",
      "PubMed Abstracts 29871\n",
      "Github 18337\n",
      "StackExchange 29950\n",
      "Enron Emails 947\n",
      "FreeLaw 5094\n",
      "USPTO Backgrounds 11387\n",
      "Pile-CC 52792\n",
      "Wikipedia (en) 17478\n",
      "Books3 301\n",
      "PubMed Central 5977\n",
      "HackerNews 1619\n",
      "Gutenberg (PG-19) 60\n",
      "DM Mathematics 2007\n",
      "NIH ExPorter 1825\n",
      "ArXiv 2434\n",
      "BookCorpus2 26\n",
      "OpenSubtitles 621\n",
      "YoutubeSubtitles 326\n",
      "Ubuntu IRC 21\n",
      "EuroParl 133\n",
      "PhilPapers 64\n"
     ]
    }
   ],
   "source": [
    "# prompt: list the sizes of each array in `piles`\n",
    "\n",
    "for pile in piles:\n",
    "  print(pile, len(piles[pile]))\n"
   ]
  },
  {
   "cell_type": "code",
   "execution_count": 11,
   "metadata": {},
   "outputs": [
    {
     "name": "stdout",
     "output_type": "stream",
     "text": [
      "Effect of sleep quality on memory, executive function, and language performance in patients with ref \n",
      "\n",
      "Fluorescent labeling of both GABAergic and glycinergic neurons in vesicular GABA transporter (VGAT)- \n",
      "\n",
      "Carotid endarterectomy: operative risks, recurrent stenosis, and long-term stroke rates in a modern  \n",
      "\n",
      "Regulation of the anaerobic metabolism in Bacillus subtilis.\n",
      "The Gram-positive soil bacterium Bacill \n",
      "\n",
      "Early and long-term outcomes after manual and remote magnetic navigation-guided catheter ablation fo \n",
      "\n",
      "Effect of Cardiac Rehabilitation on Sexual Satisfaction Among Patients After Coronary Artery Bypass  \n",
      "\n",
      "[Chronic intestinal pseudo-obstruction. Clinical symptomatology and course].\n",
      "Chronic intestinal pseu \n",
      "\n",
      "Posterior only versus combined anterior and posterior approaches to lumbar scoliosis in adults: a ra \n",
      "\n",
      "The pathophysiology of neurofibromatosis. I. Resistance in vitro to 3-nitrotyrosine as an expression \n",
      "\n",
      "[A sociomedical geriatric assessment in the emergency units: an alternative to the hospitalization o \n",
      "\n"
     ]
    }
   ],
   "source": [
    "# prompt: print the first 100 characters of each string in piles[\"PhilPapers\"]\n",
    "\n",
    "# keys: DM Mathematics, Pile-CC, Enron Emails, StackExchange, OpenWebText2, Github?\n",
    "\n",
    "for s in piles[\"PubMed Abstracts\"][:10]:\n",
    "  print(s[:100], '\\n')\n"
   ]
  },
  {
   "cell_type": "code",
   "execution_count": 12,
   "metadata": {},
   "outputs": [
    {
     "name": "stdout",
     "output_type": "stream",
     "text": [
      "0.005718490574508905\n"
     ]
    },
    {
     "name": "stderr",
     "output_type": "stream",
     "text": [
      "You seem to be using the pipelines sequentially on GPU. In order to maximize efficiency please use a dataset\n"
     ]
    },
    {
     "name": "stdout",
     "output_type": "stream",
     "text": [
      "0.574669361114502\n",
      "0.0022999057546257973\n",
      "0.03634590283036232\n",
      "0.6968874335289001\n",
      "0.04393761605024338\n",
      "0.6389277577400208\n",
      "0.046391721814870834\n",
      "0.2475363314151764\n",
      "0.017452457919716835\n",
      "CPU times: user 232 ms, sys: 3.51 ms, total: 236 ms\n",
      "Wall time: 233 ms\n"
     ]
    }
   ],
   "source": [
    "%%time\n",
    "for text in piles[\"Pile-CC\"][:10]:\n",
    "  score = pipe(text[:200], candidate_labels=[\"question & answer\"], multi_label=True\n",
    "               )[\"scores\"][0]\n",
    "  print(score)"
   ]
  },
  {
   "cell_type": "code",
   "execution_count": 13,
   "metadata": {},
   "outputs": [
    {
     "name": "stdout",
     "output_type": "stream",
     "text": [
      "Wednesday, May 24, 2017\n",
      "\n",
      "Facebook redesigns Trending topics to make news easier to find\n",
      "\n",
      "Facebook is introducing a couple of changes today that make it easier to spot trending topics and the coverage around them. First up, there’s a bit of a visual redesign. Previously, clicking on a trending topic would highlight a story from one publication, and you’d have to scroll down past a live video section to view related stories. Facebook is replacing that system with a simple carousel, which does a better job of showing you different coverage options. To be clear, the change doesn’t affect how stories are sourced, according to Facebook. It’s still the same algorithm picking out some of the most… \n",
      " Online Marketing Ideas for Businesses and Private Practitioners\n",
      "\n",
      "For some reason, a lot of people have that kind of fear of dentists as demonstrated by many adults. There is that so called dental phob \n",
      " Abstract\n",
      "\n",
      "SWFP ensures the secure broadcasting of web feeds ’ content over a local network or the Internet. The protocol is built to ensure a secure channel to enterprises that broadcast news and info\n"
     ]
    }
   ],
   "source": [
    "print(piles[\"Pile-CC\"][1], '\\n', piles[\"Pile-CC\"][4][:200], '\\n', piles[\"Pile-CC\"][6][:200])"
   ]
  },
  {
   "cell_type": "code",
   "execution_count": 14,
   "metadata": {},
   "outputs": [
    {
     "data": {
      "text/plain": [
       "[{'sequence': 'The epithelial-mesenchymal transition (EMT) is characterized by the loss of cell-cell adhesion and cell polarity in epithelial cells and the acquisition of motile and invasive properties. While essential for development, the EMT is one mechanism by which tumors can acquire the capability to undergo tissue invasion and metastasis. It is therefore important to identify novel therapies that can inhibit the EMT, but few assays for EMT inhibitors in high throughput screens (HTS) have developed. A change in fibroblast growth factor receptor 2 (FGFR2) splicing occurs during the EMT and using an innovative luciferase-based splicing reporter assay we previously carried out a genome-wide high throughput cDNA expression screen for regulators of this splicing switch. This screen identified the epithelial cell type specific splicing regulators ESRP1 and ESRP2 demonstrating the feasibility of cell-based splicing assays in high throughput, array-based screens. An extensive set of ESRP-regulated exons switch splicing during the EMT, indicating that global changes in alternative splicing occur during this process. A change in this splicing network is a thus a dynamic feature of the EMT and changes in splicing of ESRP-regulated targets can be used as a biomarker for the EMT. In this application we will develop more robust next generation splicing reporter assays using ESRP- regulated exons that undergo profound \"switch-like\" changes in splicing and configure them for HTS assays using the Molecular Libraries Production Centers Network (MLPCN). In Aim 1, we will adapt existing minigene reporters containing ESRP regulated exons and flanking intronic regulatory sequences for HTS in the context of our established luciferase-based reporter minigenes. The reporters will include exons whose inclusion is activated as well as those that undergo skipping during the EMT. Additional reporters will also be developed for use in counter-screens to prioritize HTS hits. In Aim 2, these screens will be configured for screening in 384 well format and pilot screens will be carried out using several small compound libraries as well as several previously described compounds that have been shown to function as general modulators of splicing. These compounds will be screened in mesenchymal cells for splicing changes indicative of the reverse process of mesenchymal to epithelial transition (MET) and in epithelial cells for inhibition or reversal of an inducible EMT. Successful completion of this pilot phase of this funding mechanism (PAR-10-182) in year one will enable us to submit these assays for the larger scale screening phase using the MLPCN library of compounds. Such screens hold great promise to yield novel small molecule regulators of splicing, including a subset that broadly promote epithelial-specific splicing pathways to inhibit or reverse the EMT and block cancer metastasis. Such compounds will potentially include those that affect signaling pathways or other upstream events that might potently activate broad transcriptional and post-transcriptional gene expression programs that inhibit the EMT. PUBLIC HEALTH RELEVANCE: The epithelial to mesenchymal transition (EMT) is the process by which cancer cells can escape from the primary site and metastasize to distant sites and is therefore a target for novel cancer therapies. We have identified regulators of alternative splicing that control an epithelial splicing network that is lost during the EMT, suggesting that a mesenchymal splicing program can promote the EMT and that these splicing changes serve as biomarkers for this process. The current application will use innovative splicing assays to carry out screens for novel compounds that inhibit this splicing transition and thereby identify lead compounds for drugs to prevent tumor metastasis.',\n",
       "  'labels': ['question & answer'],\n",
       "  'scores': [0.421861857175827]},\n",
       " {'sequence': '[unreadable] The specific aim of this application is to help the UPR for repair, renovation, and modernization of its unique animal research resource (ARC) at the CS facility of the CPRC. The CPRC is an unrivaled national and international research resource for comparative studies in the biomedical and behavioral sciences that has received NCRR funding through a P40 award or the equivalent for the past three decades. The proposed renovations will improve the care of research animals and will provide much needed infrastructure support for the ongoing and planned biomedical and behavioral research program at CS. The free-ranging population of rhesus monkeys (Macaca mulatta) on the island of CS provides scientists with an unparalleled opportunity for performing biomedical and behavioral research projects utilizing primates residing in a semi-natural habitat. This population has the most extensive computerized demographic and genetics database available to researchers anywhere in the world. The population management program for CS has been designed to optimize the health and well-being of the monkeys, to enhance the value of the colony for research. In addition, the goal is to provide healthy animals to the scientific community for biomedical research, including AIDS and SlV pathogenesis and vaccine development as well as the support of National defense programs. Many of the existing structures on CS island were constructed in the 1930s and 1940s and are in dire need of renovation. This application seeks funds to renovate the dock to the island and funds to repair the roads, drinking water purification system and the three feeding and trapping corrals on CS. Renovations and modernization of these facilities are essential in order to prevent the continued deterioration of the infrastructure on CS, to maintain and enhance animal health and well being, to retain AAALAC accreditation, to comply with federal regulations and guidelines, and to continue to promote the research program and resources of the UPR. [unreadable] [unreadable]',\n",
       "  'labels': ['question & answer'],\n",
       "  'scores': [0.38377806544303894]},\n",
       " {'sequence': \"EXCEED THE SPACE PROVIDED. The proposed research is a continued study of mobile introns in bacteria. The mobile group I and group II introns are both self-splicing, but their RNA-splicing and DNA-mobility pathways are distinct. In each case, the intron typically transfers to an allelic intron-less site, in a homingprocess initiated by intron-encoded endonucleases. For group I intron homing, recombination events are strictly DNA-based whereas for group II intron homing, also termed retrohoming, RNA is involved at levels of both the intron template and the cleavage enzyme for mobility. Transposition to ectopic sites also occurs at low frequency, and is the process responsible for intron dissemination in nature. During the current funding period we showed the following: Homing of the group I td intron is regulated by the very endonuclease that promotes the process, by acting as an autorepressor. Also, retrohoming of group II introns is dependent on host polymerases in a way that suggests that intron movement is related to the cell's DNA damage response. Furthermore, group II intron retrotransposition occurs into single- or double-stranded DNAs in a host-dependent fashion. Additionally, transposed group II introns retain their ability to move, reflecting the high fidelity of the group II intron- encoded reverse transcriptase. Finally, in a study of a small regulatory RNA, DsrA, included in a non-intron- related specific ami, we showed not only that DsrA undergoes conformational changes to effect global regulation, but also that DsrA promotes acid tolerance in pathogenic bacteria, thereby enhancing virulence. In the upcoming funding period we will follow up on these findings using genetic studies in bacteria, as well as biochemical and structural approaches. Further, we will address exciting questions relating to intron evolution and the relationship of group II nitrons to spliceosomeal introns in yeast, all as described in the original application. Our overall goal of studying DNA- and RNA-based rearrangements of model introns remains unchanged. In addition to the innate mechanistic importance of these studies, the invasiveness of group II introns and their similarities to human retrotransposons and spliceosomal introns have great evolutionary, biotechnological and medical significance.\",\n",
       "  'labels': ['question & answer'],\n",
       "  'scores': [0.5419179797172546]},\n",
       " {'sequence': 'A number of recent studies suggest that cognitive processes rely on spatial and temporal patterns of activity in extended neural networks. Optical imaging techniques can provide information on a microscopic level about the individual and collective behavior of cells involved in these processes. We propose to develop an advanced image probe and digital acquisition system designed for high performance functional neural imaging using intrinsic light scattering signals. The first goal of the project is to improve the image probe design for high sensitivity to small and rapid changes in light scattering. Two methods of reflectance mode illumination will be explored for fluorescence and polarized light measurements. The system will incorporate an electronically tunable filter to illuminate tissue with specific wavelengths for spectroscopic measurements, and an intensified detector for dynamic fluorescence measurements. The second goal is to implement hardware and software improvements to the data acquisition system. Application performance requirements and the need to integrate of a number of data modalities require that we develop custom data acquisition hardware; the proposed system will control CCD camera circuitry, and capture, process and archive 2000 frames per second, with 256 channels of concurrent electrophysiological data. We will integrate this hardware into inexpensive, multiple processor. Pentium computer systems, designed for distributing tasks across multiple processors. The third goal for the project is to apply the device to investigate the nature and origin of light scattering changes associated with neural activation. Our preliminary studies in the hippocampus and medulla have demonstrated several different optical changes associated with neural activation, including fast light scattering changes concurrent with neural swelling and electrical transmission, and slower changes in light absorbance associated with hemodynamic coupling to metabolic demand. We will examine the spectral nature of the optical signals, characterize the timing of at least four components that we have identified, and employ physical and physiological manipulations to identify and characterize underlying mechanisms.',\n",
       "  'labels': ['question & answer'],\n",
       "  'scores': [0.3782770037651062]},\n",
       " {'sequence': 'Complex developmental processes that define organ morphology and cellular differentiation appear to be governed by only several signal transduction pathways, suggesting the likelihood of extensive interactions among those pathways. However, the mechanisms that coordinate the activity of different signaling cascades involved in this process remain ill defined. In this proposal, I wish to tackle this important issu by focusing on the interplay between two prominent signals that control development; the transcription coactivator Yes- associated protein (YAP), the prime target of the Hippo kinase cascade, and Sonic hedgehog (Shh) signaling. The main goals of this proposal are to 1) dissect the function of YAP in spinal cord development, and 2) define how the Shh and Hippo signaling pathways act in concert to control development in the vertebrate spinal cord. The overall hypothesis of this proposal is that YAP serves as a novel downstream effector of Shh during the control of NPC proliferation and specification of ventral cell fates in the CNS. Specifically, I postulate that the YAP-dependent signaling communicates with the Shh signaling pathway at multiple levels, providing an effective means of coordinating these two transduction cascades during neural development. I will test this hypothesis using an ensemble of molecular methods, chick embryos and mutant mice. The specific aims of this proposal are as follows: 1) to determine the role of YAP in cell-type specification during neural tube development and 2) to define how the Shh and Hippo signaling pathways act in concert to control development in the vertebrate spinal cord. Besides defining the basic mechanisms by which YAP and Shh signaling coordinate key aspects of normal CNS development, this study should also uncover important principles applicable to other signaling networks that regulate organogenesis.',\n",
       "  'labels': ['question & answer'],\n",
       "  'scores': [0.5051347613334656]},\n",
       " {'sequence': 'DESCRIPTION (Directly taken from the application) Polycystic kidney disease (PKD) is characterized by proliferating epithelial cells, alterations in basement membrane composition, and aberrant localization of cell surface proteins. These cellular properties are consistent with a reversion of the renal epithelial cell to a more embryonic phenotype. Thus, genes regulating the differentiation and proliferation of the normal renal epithelium may be aberrantly affected in PKD and may directly contribute to the initiation and progression of the disease. This proposal will address the function of the transcription factor, Pax-2, in the development of normal and cystic renal epithelium. Pax-2 is required and sufficient for the conversion of the kidney mesenchyme to an epithelial phenotype by acting as a differentiation and proliferation stimulus. Pax-2 expression in the developing kidney is repressed as the normal epithelium matures, but is detected at higher levels in the cystic epithelium of experimental animals. The proposed experiments will determine the developmental expression pattern of Pax-2 in the cpk mouse, a well-characterized model for PKD. Furthermore, the cpk mutation will be crossed into the Krd mutant mouse that has one Pax-2 allele deleted. This genetic cross will test for modification of cpk by Pax-2 using gene dosage. If continued expression of Pax-2 in cpk mice is a proliferation stimulus, reducing the Pax-2 gene dosage may result in a slower progressing form of PKD. Additional experiments will address the regulation of the Pax-2 gene by identifying promoter elements required for tissue specific transcription. Finally, preliminary data indicates several cell adhesion molecules of the cadherin gene family may be regulated directly by Pax-2. The cadherin regulatory sequences will be cloned and tested for their ability to bind Pax-2 and mediate trans- activation. These experiments will elucidate basic molecular mechanisms of renal epithelial morphogenesis and may lead to a more complete understanding of the aberrant developmental events underlying PKD. Ultimately, understanding the regulation and function of transcription factors in renal diseases may lead to novel therapeutic interventions based on modulating gene expression.',\n",
       "  'labels': ['question & answer'],\n",
       "  'scores': [0.2452729493379593]},\n",
       " {'sequence': \"The object of the proposed investigation is to gain additional insight into the molecular events and regulatory implications in messenger-RNA metabolism in cultured mammalian cells. Human (HeLa S3) cells infected by and rat embryo cells transformed by adenovirus will be employed in these investigations. In the lytic infection the following aspects of viral RNA metabolism will be explored. Transcription of the genome will be examined by electron microscopy following dispersal of nuclear contents. Processing of apparent large molecular weight nuclear-precursor RNA will be examined by analysis of 5'-termini and by analysis of RNA synthesized in the presence of adenosine analogues. Fate of cytoplasmic viral RNA will be determined in enucleated cells (cytoplasts). Much of the proposed study will depend upon limited RNA structure analysis, especially if viral RNA sequences which remain in the nucleus can be isolated. In addition, information bearing on the mechanism of formation of virions and restriction of host-cell RNA synthesis should also be elucidated. The feasibility of extending these investigations to adeno 2-transformed rat embryo cells, which will depend on the incorporation of sufficient radioactivity, will be constantly evaluated. These investigations should not only bear on the cell biological implications of the biogenesis of messenger-RNA but also on the infection and transformation of cultured mammalian cells. BIBLIOGRAPHIC REFERENCES: Nuclear and cytoplasmic adenovirus RNA: Differences between 5'-termini of messenger and non-messenger transcripts. McGuire, P. M., Piatak, M. and L. D. Hodge. J. Mol. Biol. 101 379-396 (1976). Visualization of a unique adenovirus DNA-protein complex. O. L. Miller and L. D. Hodge. J. Cell Biol. 67 284a (1975).\",\n",
       "  'labels': ['question & answer'],\n",
       "  'scores': [0.35061854124069214]},\n",
       " {'sequence': 'Molecular Core Abstract: Dr. Harris will direct the Molecular Core and a staff of two full-time scientists. This essential Core will service the Program Project entitled \"Critical Interactions of APOBECSs: Molecular Approaches to Novel HiV Therapies\" by producing plasmid DNA constructs for APOBECS and Vif protein expression in E. coli and mammalian cells. We anticipate completing 10-20 constructs per week and providing a strong foundation for the program investigators.',\n",
       "  'labels': ['question & answer'],\n",
       "  'scores': [0.36685287952423096]},\n",
       " {'sequence': 'The consequences of alcohol abuse on the American public are profound, both in terms of individual well-being and impact on the family structure, as well as the enormous cost to society in terms of lost productivity and associated health care expenses. Despite increasing efforts, our understanding of the neurobiological mechanisms that underlie the effects of alcohol and the development of alcohol use disorders (AUD) remains incomplete. Epidemiological research has pointed to adolescence as a critical period in the development of alcohol disorders. The prefrontal cortex (PFC) is a brain region that is not yet mature at the onset of human adolescence and continues to develop during this period, during which some individuals may be highly susceptible to the effects of alcohol. The PFC mediates control over goal-directed behaviors and dysfunction of the PFC is thought to underlie compulsive drug-taking and relapse in substance abusers. Binge drinking is highly prevalent in adolescents, and episodes of high alcohol intake have been associated with decreased PFC activity and function (hypofrontality). Imaging studies suggest that hypofrontality persists in chronic alcohol abusers, and may therefore be a contributory factor in the development of AUDs and behavioral pathologies in adulthood. The underlying mechanisms of this PFC hypoactivity are unknown, and the development of robust animal models would therefore be useful in investigating the underlying changes in neuronal excitability. A better understanding of these changes would enable possible molecular and therapeutic interventions in order to prevent the development of alcoholism. One plausible mechanism for hypofrontality involves the depression of persistent activity, a mode of firing that can be observed in recordings from pyramidal neurons in the PFC of rodents. This type of activity is seen at more depolarized membrane potentials and is associated with performance in working memory tasks, and is dependent on the Ih current, which is mediated by a family of hyperpolarization-activated and cyclic nucleotide modulated (HCN) channels. We propose that chronic changes in persistent firing might result from prolonged alcohol exposure. To date there have been few detailed studies of excitability in the PFC after drinking and none in adolescent rodents. In three separate but integrated aims, we plan to test the overall hypothesis that the HCN1 channel that contributes to the Ih current in PFC PNs is important for the regulation of alcohol drinking, and specifically that (a) binge drinking of alcohol during adolescence inhibits persistent firing and excitability in the PFC via reduction of Ih and (b) reduction in HCN1 channel activity in layer 5 of PFC can mimic the effects of alcohol consumption during adolescence, while (c) activation or over-expression of HCN1 channels can restore persistent activity and normal levels of excitability in PFC of binge drinking adolescent animals.',\n",
       "  'labels': ['question & answer'],\n",
       "  'scores': [0.35793983936309814]},\n",
       " {'sequence': 'We have constructed (and continue to develop) a laser-based facility for time-resolved fluorescence spectroscopy of biomolecules. This facility provides rapid collection and analysis of luminescence data related to macromolecular size, flexibility, folding and structural fluctuations. Our time-correlated laser fluorometer was used to study the folding and dynamics of several proteins. We focused most of our effort on DNA- binding proteins that control the transcription of DNA blueprints into the \"field copies\" (MRNA) used to build proteins in cells. Fluorescence was used to measure distances between proteins and the sections of DNA they control, to look at the wobbling of proteins in the complex, and to reveal internal changes in the bound protein. We studied \"oct-pou\", a bipartite factor able to bind two different classes of DNA control sites and accelerate transcription 100-fold. It was seen to \"read\" DNA by changing shape. We also began studies on HIV integrase and Heat Shock Factor. The former incorporates HIV DNA into human DNA, and the latter \"turns on\" a stress response by self-association. This year we also continued efforts to adapt our laser instruments to the imaging of tissues. In particular, we demonstrated an electronic laser scanning device that uses discoloration to find BB-sized objects almost an inch inside tissue.',\n",
       "  'labels': ['question & answer'],\n",
       "  'scores': [0.42910096049308777]}]"
      ]
     },
     "execution_count": 14,
     "metadata": {},
     "output_type": "execute_result"
    }
   ],
   "source": [
    "pipe(piles[\"NIH ExPorter\"][:10], candidate_labels=[\"question & answer\"], multi_label=True)"
   ]
  },
  {
   "cell_type": "code",
   "execution_count": 15,
   "metadata": {},
   "outputs": [
    {
     "name": "stdout",
     "output_type": "stream",
     "text": [
      "doing  DM Mathematics\n",
      "doing  Enron Emails\n",
      "doing  StackExchange\n",
      "doing  Github\n",
      "doing  OpenWebText2\n",
      "doing  Pile-CC\n",
      "Score: 1.00\n",
      "Pile: StackExchange\n",
      "Text:Q:\n",
      "\n",
      "Determine the composition of the functions $f(x)=4x+3$ and $g(x)=-5x^2+1$\n",
      "\n",
      "Answer: \n",
      "\\begin{align\n",
      "==========================================\n",
      "Score: 1.00\n",
      "Pile: StackExchange\n",
      "Text:Q:\n",
      "\n",
      "Would Adaptive Optics be Useful in Radio Astronomy?\n",
      "\n",
      "This Question and Answer got me thinking. I\n",
      "==========================================\n",
      "Score: 1.00\n",
      "Pile: Pile-CC\n",
      "Text:What is the Armenian Orthodox Church?\n",
      "\n",
      "Question: \"What is the Armenian Orthodox Church?\"\n",
      "\n",
      "Answer:\n",
      "Th\n",
      "==========================================\n",
      "Score: 1.00\n",
      "Pile: Pile-CC\n",
      "Text:Israeli psy trance brothers Eyal & Oren give us a brief lowdown and answer a few questions about the\n",
      "==========================================\n",
      "Score: 1.00\n",
      "Pile: StackExchange\n",
      "Text:Q:\n",
      "\n",
      "Какой правильный синтаксис для sass перечислений?\n",
      "\n",
      "Я хочу написать след. массив урлов:\n",
      ".Header_t\n",
      "==========================================\n",
      "Score: 1.00\n",
      "Pile: OpenWebText2\n",
      "Text:From my comment on this question/answer Why wasn't Superman naked when he was lifting Luthor's artif\n",
      "==========================================\n",
      "Score: 1.00\n",
      "Pile: StackExchange\n",
      "Text:Q:\n",
      "\n",
      "Pi-calculating program\n",
      "\n",
      "I saw this question and answer about calculating pi on Stack Overflow, a\n",
      "==========================================\n",
      "Score: 0.99\n",
      "Pile: StackExchange\n",
      "Text:Q:\n",
      "\n",
      "Что такое \"Вращение в Кватернионах\"?\n",
      "\n",
      "За что отвечает графа \"Вращение в Кватернионах\"? \n",
      "\n",
      "Изменен\n",
      "==========================================\n",
      "Score: 0.99\n",
      "Pile: StackExchange\n",
      "Text:Q:\n",
      "\n",
      "bloques de 15 dias en sql en R\n",
      "\n",
      "Tengo la siguiente tabla:\n",
      "\n",
      " \n",
      "        \n",
      "        \n",
      "              id\n",
      "\n",
      "==========================================\n",
      "Score: 0.99\n",
      "Pile: StackExchange\n",
      "Text:Q:\n",
      "\n",
      "Как упростить код созданием своей библиотеки? Python\n",
      "\n",
      "Имею свою конструкцию\n",
      "Нужно с\n",
      "value = inpu\n",
      "==========================================\n",
      "CPU times: user 30min 4s, sys: 1.92 s, total: 30min 6s\n",
      "Wall time: 30min 5s\n"
     ]
    }
   ],
   "source": [
    "%%time\n",
    "# prompt: batch process all of the text in `piles` through `pipe`\n",
    "\n",
    "scores = []\n",
    "for pile in [\"DM Mathematics\", \"Enron Emails\", \"StackExchange\", \"Github\", \"OpenWebText2\", \"Pile-CC\"]:\n",
    "  print(\"doing \", pile)\n",
    "  cp = piles[pile]\n",
    "  for i in range(len(cp)):\n",
    "    cp[i] = cp[i][:100]\n",
    "  ress = pipe(cp, candidate_labels=[\"question & answer\"], multi_label=True)\n",
    "  for res in ress:\n",
    "    scores.append((res[\"scores\"][0], res[\"sequence\"], pile))\n",
    "\n",
    "# Sort the scores in descending order\n",
    "scores.sort(key=lambda x: x[0], reverse=True)\n",
    "\n",
    "# Print sample of the top 10 highest-scoring texts\n",
    "for score, text, pile in scores[:10]:\n",
    "  print(f\"Score: {score:.2f}\\nPile: {pile}\\nText:{text[:1000]}\\n==========================================\")\n"
   ]
  },
  {
   "cell_type": "code",
   "execution_count": 16,
   "metadata": {},
   "outputs": [
    {
     "data": {
      "text/plain": [
       "137433"
      ]
     },
     "execution_count": 16,
     "metadata": {},
     "output_type": "execute_result"
    }
   ],
   "source": [
    "len(scores)"
   ]
  },
  {
   "cell_type": "code",
   "execution_count": 17,
   "metadata": {},
   "outputs": [
    {
     "name": "stdout",
     "output_type": "stream",
     "text": [
      "Score: 1.00\n",
      "Pile: StackExchange\n",
      "Text:Q:\n",
      "\n",
      "Determine the composition of the functions $f(x)=4x+3$ and $g(x)=-5x^2+1$\n",
      "\n",
      "Answer: \n",
      "\\begin{align\n",
      "==========================================\n",
      "Score: 1.00\n",
      "Pile: StackExchange\n",
      "Text:Q:\n",
      "\n",
      "Would Adaptive Optics be Useful in Radio Astronomy?\n",
      "\n",
      "This Question and Answer got me thinking. I\n",
      "==========================================\n",
      "Score: 1.00\n",
      "Pile: Pile-CC\n",
      "Text:What is the Armenian Orthodox Church?\n",
      "\n",
      "Question: \"What is the Armenian Orthodox Church?\"\n",
      "\n",
      "Answer:\n",
      "Th\n",
      "==========================================\n",
      "Score: 1.00\n",
      "Pile: Pile-CC\n",
      "Text:Israeli psy trance brothers Eyal & Oren give us a brief lowdown and answer a few questions about the\n",
      "==========================================\n",
      "Score: 1.00\n",
      "Pile: StackExchange\n",
      "Text:Q:\n",
      "\n",
      "Какой правильный синтаксис для sass перечислений?\n",
      "\n",
      "Я хочу написать след. массив урлов:\n",
      ".Header_t\n",
      "==========================================\n",
      "Score: 1.00\n",
      "Pile: OpenWebText2\n",
      "Text:From my comment on this question/answer Why wasn't Superman naked when he was lifting Luthor's artif\n",
      "==========================================\n",
      "Score: 1.00\n",
      "Pile: StackExchange\n",
      "Text:Q:\n",
      "\n",
      "Pi-calculating program\n",
      "\n",
      "I saw this question and answer about calculating pi on Stack Overflow, a\n",
      "==========================================\n",
      "Score: 0.99\n",
      "Pile: StackExchange\n",
      "Text:Q:\n",
      "\n",
      "Что такое \"Вращение в Кватернионах\"?\n",
      "\n",
      "За что отвечает графа \"Вращение в Кватернионах\"? \n",
      "\n",
      "Изменен\n",
      "==========================================\n",
      "Score: 0.99\n",
      "Pile: StackExchange\n",
      "Text:Q:\n",
      "\n",
      "bloques de 15 dias en sql en R\n",
      "\n",
      "Tengo la siguiente tabla:\n",
      "\n",
      " \n",
      "        \n",
      "        \n",
      "              id\n",
      "\n",
      "==========================================\n",
      "Score: 0.99\n",
      "Pile: StackExchange\n",
      "Text:Q:\n",
      "\n",
      "Как упростить код созданием своей библиотеки? Python\n",
      "\n",
      "Имею свою конструкцию\n",
      "Нужно с\n",
      "value = inpu\n",
      "==========================================\n"
     ]
    }
   ],
   "source": [
    "scores.sort(key=lambda x: x[0], reverse=True)\n",
    "\n",
    "for score, text, pile in scores[:10]:\n",
    "  if pile == \"DM Mathematics\":\n",
    "    continue\n",
    "  print(f\"Score: {score:.2f}\\nPile: {pile}\\nText:{text[:1000]}\\n==========================================\")"
   ]
  },
  {
   "cell_type": "code",
   "execution_count": null,
   "metadata": {},
   "outputs": [],
   "source": []
  }
 ],
 "metadata": {
  "kernelspec": {
   "display_name": "Python 3 (ipykernel)",
   "language": "python",
   "name": "python3"
  },
  "language_info": {
   "codemirror_mode": {
    "name": "ipython",
    "version": 3
   },
   "file_extension": ".py",
   "mimetype": "text/x-python",
   "name": "python",
   "nbconvert_exporter": "python",
   "pygments_lexer": "ipython3",
   "version": "3.11.9"
  }
 },
 "nbformat": 4,
 "nbformat_minor": 2
}
