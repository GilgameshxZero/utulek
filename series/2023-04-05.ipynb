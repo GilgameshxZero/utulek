{
 "cells": [
  {
   "cell_type": "code",
   "execution_count": 1,
   "metadata": {},
   "outputs": [],
   "source": [
    "NB_ROOT = \"./2023-04-05.ipynb-assets/\"\n",
    "!rm -rf \"{NB_ROOT}\"\n",
    "!mkdir \"{NB_ROOT}\""
   ]
  },
  {
   "cell_type": "code",
   "execution_count": 2,
   "metadata": {},
   "outputs": [],
   "source": [
    "import py7zr\n",
    "with py7zr.SevenZipFile(\"../notes/utulek.boox.7z\") as ref:\n",
    "    ref.extractall(NB_ROOT)"
   ]
  },
  {
   "cell_type": "code",
   "execution_count": 3,
   "metadata": {},
   "outputs": [],
   "source": [
    "import sqlite3\n",
    "con = sqlite3.connect(f\"{NB_ROOT}utulek/ShapeDatabase.db\")\n",
    "cur = con.cursor()"
   ]
  },
  {
   "cell_type": "code",
   "execution_count": 7,
   "metadata": {},
   "outputs": [
    {
     "data": {
      "text/plain": [
       "[('android_metadata',),\n",
       " ('NoteAccessHistory',),\n",
       " ('sqlite_sequence',),\n",
       " ('ShapeModel',),\n",
       " ('TagModel',),\n",
       " ('NoteModel',),\n",
       " ('ResourceModel',)]"
      ]
     },
     "execution_count": 7,
     "metadata": {},
     "output_type": "execute_result"
    }
   ],
   "source": [
    "cur.execute(\"SELECT name FROM sqlite_master WHERE type='table';\").fetchall()"
   ]
  },
  {
   "cell_type": "code",
   "execution_count": 8,
   "metadata": {},
   "outputs": [
    {
     "data": {
      "text/plain": [
       "[('table',\n",
       "  'android_metadata',\n",
       "  'android_metadata',\n",
       "  3,\n",
       "  'CREATE TABLE android_metadata (locale TEXT)'),\n",
       " ('table',\n",
       "  'NoteAccessHistory',\n",
       "  'NoteAccessHistory',\n",
       "  4,\n",
       "  'CREATE TABLE `NoteAccessHistory`(`documentId` TEXT UNIQUE ON CONFLICT FAIL, `id` INTEGER PRIMARY KEY AUTOINCREMENT, `createdAt` INTEGER, `updatedAt` INTEGER)'),\n",
       " ('index',\n",
       "  'sqlite_autoindex_NoteAccessHistory_1',\n",
       "  'NoteAccessHistory',\n",
       "  5,\n",
       "  None),\n",
       " ('table',\n",
       "  'sqlite_sequence',\n",
       "  'sqlite_sequence',\n",
       "  6,\n",
       "  'CREATE TABLE sqlite_sequence(name,seq)'),\n",
       " ('table',\n",
       "  'ShapeModel',\n",
       "  'ShapeModel',\n",
       "  7,\n",
       "  'CREATE TABLE `ShapeModel`(`id` INTEGER PRIMARY KEY AUTOINCREMENT, `shapeUniqueId` TEXT UNIQUE ON CONFLICT FAIL, `createdAt` INTEGER, `updatedAt` INTEGER, `documentUniqueId` TEXT, `pageUniqueId` TEXT, `subPageName` TEXT, `appId` TEXT, `pageOriginWidth` INTEGER, `pageOriginHeight` INTEGER, `color` INTEGER, `thickness` REAL, `zorder` INTEGER, `points` BLOB, `boundingRect` TEXT, `matrixValues` TEXT, `textStyle` TEXT, `shapeLineStyle` TEXT, `shapeCreateArgs` TEXT, `text` TEXT, `shapeType` INTEGER, `extraAttributes` TEXT, `groupId` TEXT, `layoutType` INTEGER, `orientation` REAL, `rotationPointXCoordinate` REAL, `rotationPointYCoordinate` REAL)'),\n",
       " ('index', 'sqlite_autoindex_ShapeModel_1', 'ShapeModel', 8, None),\n",
       " ('table',\n",
       "  'TagModel',\n",
       "  'TagModel',\n",
       "  9,\n",
       "  'CREATE TABLE `TagModel`(`uniqueId` TEXT UNIQUE ON CONFLICT FAIL, `documentId` TEXT, `pageUniqueId` TEXT, `userId` TEXT, `createdAt` INTEGER, `updatedAt` INTEGER, `content` TEXT, `status` INTEGER, PRIMARY KEY(`uniqueId`))'),\n",
       " ('index', 'sqlite_autoindex_TagModel_1', 'TagModel', 10, None),\n",
       " ('table',\n",
       "  'NoteModel',\n",
       "  'NoteModel',\n",
       "  11,\n",
       "  'CREATE TABLE `NoteModel`(`id` INTEGER PRIMARY KEY AUTOINCREMENT, `createdAt` INTEGER, `updatedAt` INTEGER, `uniqueId` TEXT UNIQUE ON CONFLICT FAIL, `parentUniqueId` TEXT, `subPageName` TEXT, `title` TEXT, `extraAttributes` TEXT, `type` INTEGER, `strokeWidth` REAL, `eraserWidth` REAL, `notePenInfo` TEXT, `notePageInfo` TEXT, `noteBackground` TEXT, `deviceInfo` TEXT, `strokeColor` INTEGER, `currentShapeType` INTEGER, `background` INTEGER, `lineLayoutBackground` INTEGER, `position` INTEGER, `pageNameList` TEXT, `richTextPageNameList` TEXT, `pageOriginWidth` REAL, `pageOriginHeight` REAL, `source` TEXT, `associateDate` TEXT, `asyncStatus` INTEGER, `encryptionType` INTEGER, `digest` TEXT, `associationId` TEXT, `associationType` INTEGER, `status` INTEGER, `cloudNoteSize` INTEGER, `cloudUpdatedAt` INTEGER, `commitId` TEXT, `embeddedAt` INTEGER, `syncFrom` INTEGER, `noteSyncStatus` INTEGER, `favorite` INTEGER, `userId` TEXT, `version` INTEGER, `groupId` TEXT, `thumbnailRes` TEXT)'),\n",
       " ('index', 'sqlite_autoindex_NoteModel_1', 'NoteModel', 12, None),\n",
       " ('table',\n",
       "  'ResourceModel',\n",
       "  'ResourceModel',\n",
       "  13,\n",
       "  'CREATE TABLE `ResourceModel`(`uniqueId` TEXT UNIQUE ON CONFLICT FAIL, `createdAt` INTEGER, `updatedAt` INTEGER, `title` TEXT, `audioDuration` INTEGER, `localPath` TEXT, `ossUrl` TEXT, `type` INTEGER, `documentId` TEXT, `revisionId` TEXT, `relativePath` TEXT, `status` INTEGER, PRIMARY KEY(`uniqueId`))'),\n",
       " ('index', 'sqlite_autoindex_ResourceModel_1', 'ResourceModel', 14, None)]"
      ]
     },
     "execution_count": 8,
     "metadata": {},
     "output_type": "execute_result"
    }
   ],
   "source": [
    "cur.execute(\"SELECT * FROM sqlite_master;\").fetchall()"
   ]
  },
  {
   "cell_type": "code",
   "execution_count": 9,
   "metadata": {},
   "outputs": [
    {
     "data": {
      "text/plain": [
       "[(0, 'id', 'INTEGER', 0, None, 1),\n",
       " (1, 'createdAt', 'INTEGER', 0, None, 0),\n",
       " (2, 'updatedAt', 'INTEGER', 0, None, 0),\n",
       " (3, 'uniqueId', 'TEXT', 0, None, 0),\n",
       " (4, 'parentUniqueId', 'TEXT', 0, None, 0),\n",
       " (5, 'subPageName', 'TEXT', 0, None, 0),\n",
       " (6, 'title', 'TEXT', 0, None, 0),\n",
       " (7, 'extraAttributes', 'TEXT', 0, None, 0),\n",
       " (8, 'type', 'INTEGER', 0, None, 0),\n",
       " (9, 'strokeWidth', 'REAL', 0, None, 0),\n",
       " (10, 'eraserWidth', 'REAL', 0, None, 0),\n",
       " (11, 'notePenInfo', 'TEXT', 0, None, 0),\n",
       " (12, 'notePageInfo', 'TEXT', 0, None, 0),\n",
       " (13, 'noteBackground', 'TEXT', 0, None, 0),\n",
       " (14, 'deviceInfo', 'TEXT', 0, None, 0),\n",
       " (15, 'strokeColor', 'INTEGER', 0, None, 0),\n",
       " (16, 'currentShapeType', 'INTEGER', 0, None, 0),\n",
       " (17, 'background', 'INTEGER', 0, None, 0),\n",
       " (18, 'lineLayoutBackground', 'INTEGER', 0, None, 0),\n",
       " (19, 'position', 'INTEGER', 0, None, 0),\n",
       " (20, 'pageNameList', 'TEXT', 0, None, 0),\n",
       " (21, 'richTextPageNameList', 'TEXT', 0, None, 0),\n",
       " (22, 'pageOriginWidth', 'REAL', 0, None, 0),\n",
       " (23, 'pageOriginHeight', 'REAL', 0, None, 0),\n",
       " (24, 'source', 'TEXT', 0, None, 0),\n",
       " (25, 'associateDate', 'TEXT', 0, None, 0),\n",
       " (26, 'asyncStatus', 'INTEGER', 0, None, 0),\n",
       " (27, 'encryptionType', 'INTEGER', 0, None, 0),\n",
       " (28, 'digest', 'TEXT', 0, None, 0),\n",
       " (29, 'associationId', 'TEXT', 0, None, 0),\n",
       " (30, 'associationType', 'INTEGER', 0, None, 0),\n",
       " (31, 'status', 'INTEGER', 0, None, 0),\n",
       " (32, 'cloudNoteSize', 'INTEGER', 0, None, 0),\n",
       " (33, 'cloudUpdatedAt', 'INTEGER', 0, None, 0),\n",
       " (34, 'commitId', 'TEXT', 0, None, 0),\n",
       " (35, 'embeddedAt', 'INTEGER', 0, None, 0),\n",
       " (36, 'syncFrom', 'INTEGER', 0, None, 0),\n",
       " (37, 'noteSyncStatus', 'INTEGER', 0, None, 0),\n",
       " (38, 'favorite', 'INTEGER', 0, None, 0),\n",
       " (39, 'userId', 'TEXT', 0, None, 0),\n",
       " (40, 'version', 'INTEGER', 0, None, 0),\n",
       " (41, 'groupId', 'TEXT', 0, None, 0),\n",
       " (42, 'thumbnailRes', 'TEXT', 0, None, 0)]"
      ]
     },
     "execution_count": 9,
     "metadata": {},
     "output_type": "execute_result"
    }
   ],
   "source": [
    "cur.execute(\"PRAGMA table_info(NoteModel);\").fetchall()"
   ]
  },
  {
   "cell_type": "code",
   "execution_count": 10,
   "metadata": {},
   "outputs": [
    {
     "data": {
      "text/plain": [
       "[('utulek',),\n",
       " ('2023-02-09',),\n",
       " ('2023-02-10',),\n",
       " ('2023-02-11',),\n",
       " ('2023-02-12',),\n",
       " ('series',),\n",
       " ('2023-03-09',),\n",
       " ('2023-03-17',),\n",
       " ('books',),\n",
       " ('mosteller-fifty-challenging-problems-in-probability',),\n",
       " ('mosteller-fifty-challenging-problems-in-probability_note',)]"
      ]
     },
     "execution_count": 10,
     "metadata": {},
     "output_type": "execute_result"
    }
   ],
   "source": [
    "cur.execute(\"SELECT title from NoteModel;\").fetchall()"
   ]
  },
  {
   "cell_type": "code",
   "execution_count": 11,
   "metadata": {},
   "outputs": [
    {
     "data": {
      "text/plain": [
       "[(0,), (1,), (1,), (1,), (1,), (0,), (1,), (1,), (0,), (1,), (1,)]"
      ]
     },
     "execution_count": 11,
     "metadata": {},
     "output_type": "execute_result"
    }
   ],
   "source": [
    "cur.execute(\"SELECT type from NoteModel;\").fetchall()"
   ]
  },
  {
   "cell_type": "code",
   "execution_count": 13,
   "metadata": {},
   "outputs": [],
   "source": [
    "cur.close()\n",
    "con.close()\n",
    "!rm -rf \"{NB_ROOT}\""
   ]
  },
  {
   "cell_type": "code",
   "execution_count": null,
   "metadata": {},
   "outputs": [],
   "source": []
  }
 ],
 "metadata": {
  "kernelspec": {
   "display_name": ".venv",
   "language": "python",
   "name": "python3"
  },
  "language_info": {
   "codemirror_mode": {
    "name": "ipython",
    "version": 3
   },
   "file_extension": ".py",
   "mimetype": "text/x-python",
   "name": "python",
   "nbconvert_exporter": "python",
   "pygments_lexer": "ipython3",
   "version": "3.9.10"
  },
  "orig_nbformat": 4,
  "vscode": {
   "interpreter": {
    "hash": "bbaa2c9998d822777d6e250753e1f7427b64dd9315fddcc9ace9b8b7c931e817"
   }
  }
 },
 "nbformat": 4,
 "nbformat_minor": 2
}
