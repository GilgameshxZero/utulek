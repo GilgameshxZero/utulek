{
  "nbformat": 4,
  "nbformat_minor": 0,
  "metadata": {
    "colab": {
      "name": "mnist-class-avgs",
      "provenance": [],
      "collapsed_sections": [],
      "toc_visible": true,
      "mount_file_id": "14-o9ns_bbJIA2EDyi0LynqbW7Aqmmtwy",
      "authorship_tag": "ABX9TyONyzvuSvt6/cw1u624DzK6",
      "include_colab_link": true
    },
    "kernelspec": {
      "name": "python3",
      "display_name": "Python 3"
    }
  },
  "cells": [
    {
      "cell_type": "markdown",
      "metadata": {
        "id": "view-in-github",
        "colab_type": "text"
      },
      "source": [
        "<a href=\"https://colab.research.google.com/github/GilgameshxZero/utulek/blob/master/mnist/mnist_class_avgs.ipynb\" target=\"_parent\"><img src=\"https://colab.research.google.com/assets/colab-badge.svg\" alt=\"Open In Colab\"/></a>"
      ]
    },
    {
      "cell_type": "markdown",
      "metadata": {
        "id": "VfwSUVc3x0XK",
        "colab_type": "text"
      },
      "source": [
        "# Colab setup"
      ]
    },
    {
      "cell_type": "code",
      "metadata": {
        "id": "q4H53PXakrJF",
        "colab_type": "code",
        "outputId": "e8a1ee2c-a28f-478f-e0da-7da4e2d8bf3c",
        "colab": {
          "base_uri": "https://localhost:8080/",
          "height": 128
        }
      },
      "source": [
        "!pip install mnist"
      ],
      "execution_count": 1,
      "outputs": [
        {
          "output_type": "stream",
          "text": [
            "Collecting mnist\n",
            "  Downloading https://files.pythonhosted.org/packages/c6/c4/5db3bfe009f8d71f1d532bbadbd0ec203764bba3a469e4703a889db8e5e0/mnist-0.2.2-py2.py3-none-any.whl\n",
            "Requirement already satisfied: numpy in /usr/local/lib/python3.6/dist-packages (from mnist) (1.18.3)\n",
            "Installing collected packages: mnist\n",
            "Successfully installed mnist-0.2.2\n"
          ],
          "name": "stdout"
        }
      ]
    },
    {
      "cell_type": "markdown",
      "metadata": {
        "id": "5td-zWiXx57l",
        "colab_type": "text"
      },
      "source": [
        "# Dataset setup"
      ]
    },
    {
      "cell_type": "code",
      "metadata": {
        "id": "cSznv3wFhF4n",
        "colab_type": "code",
        "colab": {}
      },
      "source": [
        "import pathlib\n",
        "import random\n",
        "import pandas as pd\n",
        "import numpy as np\n",
        "import matplotlib.pyplot as plt\n",
        "import mnist"
      ],
      "execution_count": 0,
      "outputs": []
    },
    {
      "cell_type": "code",
      "metadata": {
        "id": "olCkwvvIxFER",
        "colab_type": "code",
        "colab": {}
      },
      "source": [
        "TMP_DIR = \"./tmp/\""
      ],
      "execution_count": 0,
      "outputs": []
    },
    {
      "cell_type": "code",
      "metadata": {
        "id": "TWKbkPl7hH7y",
        "colab_type": "code",
        "colab": {}
      },
      "source": [
        "pathlib.Path(TMP_DIR).mkdir(parents=True, exist_ok=True)\n",
        "\n",
        "train_x = mnist.download_and_parse_mnist_file(\n",
        "  \"train-images-idx3-ubyte.gz\",\n",
        "  target_dir=TMP_DIR\n",
        ")\n",
        "train_y = mnist.download_and_parse_mnist_file(\n",
        "  \"train-labels-idx1-ubyte.gz\",\n",
        "  target_dir=TMP_DIR\n",
        ")\n",
        "test_x = mnist.download_and_parse_mnist_file(\n",
        "  \"t10k-images-idx3-ubyte.gz\",\n",
        "  target_dir=TMP_DIR\n",
        ")\n",
        "test_y = mnist.download_and_parse_mnist_file(\n",
        "  \"t10k-labels-idx1-ubyte.gz\",\n",
        "  target_dir=TMP_DIR\n",
        ")"
      ],
      "execution_count": 0,
      "outputs": []
    },
    {
      "cell_type": "code",
      "metadata": {
        "id": "InEXe7obhS0h",
        "colab_type": "code",
        "outputId": "e82a4297-0ca8-423c-84a9-73060643acc7",
        "colab": {
          "base_uri": "https://localhost:8080/",
          "height": 374
        }
      },
      "source": [
        "print(\"train_x.shape:\", train_x.shape)\n",
        "print(\"train_y.shape:\", train_y.shape)\n",
        "print(\"test_x.shape:\", test_x.shape)\n",
        "print(\"test_y.shape:\", test_y.shape)\n",
        "print()\n",
        "\n",
        "sample_idx = random.randint(0, train_y.shape[0] - 1)\n",
        "print(\"train_x[{}] is a\".format(sample_idx), train_y[sample_idx])\n",
        "plt.imshow(train_x[sample_idx], cmap=\"hot\", interpolation=\"nearest\")\n",
        "plt.show()"
      ],
      "execution_count": 5,
      "outputs": [
        {
          "output_type": "stream",
          "text": [
            "train_x.shape: (60000, 28, 28)\n",
            "train_y.shape: (60000,)\n",
            "test_x.shape: (10000, 28, 28)\n",
            "test_y.shape: (10000,)\n",
            "\n",
            "train_x[43241] is a 2\n"
          ],
          "name": "stdout"
        },
        {
          "output_type": "display_data",
          "data": {
            "image/png": "[encoded data removed]",
            "text/plain": [
              "<Figure size 432x288 with 1 Axes>"
            ]
          },
          "metadata": {
            "tags": [],
            "needs_background": "light"
          }
        }
      ]
    },
    {
      "cell_type": "markdown",
      "metadata": {
        "id": "_bJlZqXpy97t",
        "colab_type": "text"
      },
      "source": [
        "# Class averages"
      ]
    },
    {
      "cell_type": "code",
      "metadata": {
        "id": "7p8BrM3cyURS",
        "colab_type": "code",
        "colab": {}
      },
      "source": [
        "class_avgs = np.array([\n",
        "  np.average(\n",
        "    train_x,\n",
        "    axis=0, \n",
        "    weights=np.equal(train_y, a)\n",
        "  ) for a in range(10)\n",
        "])"
      ],
      "execution_count": 0,
      "outputs": []
    },
    {
      "cell_type": "code",
      "metadata": {
        "id": "kCpUByKg0OIp",
        "colab_type": "code",
        "outputId": "f3d45bb8-861f-44fc-cd83-04c98b703e97",
        "colab": {
          "base_uri": "https://localhost:8080/",
          "height": 225
        }
      },
      "source": [
        "print(\"Class averages:\")\n",
        "for a in range(10):\n",
        "  plt.subplot(2, 5, a + 1)\n",
        "  plt.imshow(class_avgs[a], cmap=\"hot\", interpolation=\"nearest\")\n",
        "  plt.axis(\"off\")\n",
        "plt.show()"
      ],
      "execution_count": 7,
      "outputs": [
        {
          "output_type": "stream",
          "text": [
            "Class averages:\n"
          ],
          "name": "stdout"
        },
        {
          "output_type": "display_data",
          "data": {
            "image/png": "[encoded data removed]",
            "text/plain": [
              "<Figure size 432x288 with 10 Axes>"
            ]
          },
          "metadata": {
            "tags": [],
            "needs_background": "light"
          }
        }
      ]
    },
    {
      "cell_type": "code",
      "metadata": {
        "id": "A_0v0zGJ1IXf",
        "colab_type": "code",
        "outputId": "2d02c004-7a77-4e6d-b222-d73bdf6dfca7",
        "colab": {
          "base_uri": "https://localhost:8080/",
          "height": 35
        }
      },
      "source": [
        "cavg_test_mul = np.array([[\n",
        "    test_x[a] * class_avgs[b] for b in range(10)\n",
        "  ] for a in range(test_y.shape[0])\n",
        "])\n",
        "print(\"cavg_test_mul.shape:\", cavg_test_mul.shape)"
      ],
      "execution_count": 8,
      "outputs": [
        {
          "output_type": "stream",
          "text": [
            "cavg_test_mul.shape: (10000, 10, 28, 28)\n"
          ],
          "name": "stdout"
        }
      ]
    },
    {
      "cell_type": "code",
      "metadata": {
        "id": "oyednvA_3Tse",
        "colab_type": "code",
        "outputId": "f208b3dc-9524-4b1a-fe39-e3f7c0f64672",
        "colab": {
          "base_uri": "https://localhost:8080/",
          "height": 53
        }
      },
      "source": [
        "cavg_sum_mul = np.sum(cavg_test_mul, axis=(2,3))\n",
        "cavg_preds = np.argmax(cavg_sum_mul, axis=1)\n",
        "print(\"Prediction shape:\", cavg_preds.shape)\n",
        "cavg_correct = np.equal(cavg_preds, test_y)\n",
        "accuracy = np.count_nonzero(cavg_correct) / test_y.shape[0]\n",
        "print(\"Accuracy:\", accuracy)"
      ],
      "execution_count": 9,
      "outputs": [
        {
          "output_type": "stream",
          "text": [
            "Prediction shape: (10000,)\n",
            "Accuracy: 0.631\n"
          ],
          "name": "stdout"
        }
      ]
    },
    {
      "cell_type": "code",
      "metadata": {
        "id": "evE0hJlp5WSY",
        "colab_type": "code",
        "colab": {
          "base_uri": "https://localhost:8080/",
          "height": 223
        },
        "outputId": "7313f165-d830-458d-c719-df7f3f783ee4"
      },
      "source": [
        "idx = np.arange(cavg_correct.shape[0])\n",
        "for a in range(5):\n",
        "  sample_idx = np.random.choice(idx[cavg_correct])\n",
        "  plt.subplot(2, 5, a + 1)\n",
        "  plt.imshow(test_x[sample_idx], cmap=\"hot\", interpolation=\"nearest\")\n",
        "  plt.axis(\"off\")\n",
        "  plt.title(cavg_preds[sample_idx])\n",
        "for a in range(5):\n",
        "  sample_idx = np.random.choice(idx[cavg_correct == False])\n",
        "  plt.subplot(2, 5, a + 6)\n",
        "  plt.imshow(test_x[sample_idx], cmap=\"hot\", interpolation=\"nearest\")\n",
        "  plt.axis(\"off\")\n",
        "  plt.title(cavg_preds[sample_idx])\n",
        "plt.show()"
      ],
      "execution_count": 10,
      "outputs": [
        {
          "output_type": "display_data",
          "data": {
            "image/png": "[encoded data removed]",
            "text/plain": [
              "<Figure size 432x288 with 10 Axes>"
            ]
          },
          "metadata": {
            "tags": [],
            "needs_background": "light"
          }
        }
      ]
    }
  ]
}